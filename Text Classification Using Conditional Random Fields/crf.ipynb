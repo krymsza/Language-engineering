{
  "nbformat": 4,
  "nbformat_minor": 0,
  "metadata": {
    "kernelspec": {
      "display_name": "Python 3",
      "language": "python",
      "name": "python3"
    },
    "language_info": {
      "codemirror_mode": {
        "name": "ipython",
        "version": 3
      },
      "file_extension": ".py",
      "mimetype": "text/x-python",
      "name": "python",
      "nbconvert_exporter": "python",
      "pygments_lexer": "ipython3",
      "version": "3.7.6"
    },
    "colab": {
      "provenance": []
    }
  },
  "cells": [
    {
      "cell_type": "markdown",
      "source": [
        "### setup"
      ],
      "metadata": {
        "id": "feHhemPNvIeQ"
      }
    },
    {
      "cell_type": "code",
      "source": [
        "!pip install scikit-learn==0.22.1 --user"
      ],
      "metadata": {
        "colab": {
          "base_uri": "https://localhost:8080/"
        },
        "id": "N1aaONAYXIhm",
        "outputId": "f91716bf-9182-4f42-8b5d-785e24961fde"
      },
      "execution_count": null,
      "outputs": [
        {
          "output_type": "stream",
          "name": "stdout",
          "text": [
            "Looking in indexes: https://pypi.org/simple, https://us-python.pkg.dev/colab-wheels/public/simple/\n",
            "Requirement already satisfied: scikit-learn==0.22.1 in /root/.local/lib/python3.10/site-packages (0.22.1)\n",
            "Requirement already satisfied: numpy>=1.11.0 in /usr/local/lib/python3.10/dist-packages (from scikit-learn==0.22.1) (1.22.4)\n",
            "Requirement already satisfied: scipy>=0.17.0 in /usr/local/lib/python3.10/dist-packages (from scikit-learn==0.22.1) (1.10.1)\n",
            "Requirement already satisfied: joblib>=0.11 in /usr/local/lib/python3.10/dist-packages (from scikit-learn==0.22.1) (1.2.0)\n"
          ]
        }
      ]
    },
    {
      "cell_type": "code",
      "metadata": {
        "id": "ygJ8d4Pt57bZ",
        "colab": {
          "base_uri": "https://localhost:8080/"
        },
        "outputId": "969c4db9-9620-4a7f-c906-307c8fcd1b59"
      },
      "source": [
        "!pip install sklearn-crfsuite"
      ],
      "execution_count": null,
      "outputs": [
        {
          "output_type": "stream",
          "name": "stdout",
          "text": [
            "Looking in indexes: https://pypi.org/simple, https://us-python.pkg.dev/colab-wheels/public/simple/\n",
            "Requirement already satisfied: sklearn-crfsuite in /usr/local/lib/python3.10/dist-packages (0.3.6)\n",
            "Requirement already satisfied: python-crfsuite>=0.8.3 in /usr/local/lib/python3.10/dist-packages (from sklearn-crfsuite) (0.9.9)\n",
            "Requirement already satisfied: six in /usr/local/lib/python3.10/dist-packages (from sklearn-crfsuite) (1.16.0)\n",
            "Requirement already satisfied: tabulate in /usr/local/lib/python3.10/dist-packages (from sklearn-crfsuite) (0.8.10)\n",
            "Requirement already satisfied: tqdm>=2.0 in /usr/local/lib/python3.10/dist-packages (from sklearn-crfsuite) (4.65.0)\n"
          ]
        }
      ]
    },
    {
      "cell_type": "code",
      "source": [
        "!pip install -U -q PyDrive"
      ],
      "metadata": {
        "id": "8QFsHyVdvvCc"
      },
      "execution_count": null,
      "outputs": []
    },
    {
      "cell_type": "code",
      "metadata": {
        "id": "2hhJHjJA57bZ"
      },
      "source": [
        "from itertools import chain\n",
        "import nltk\n",
        "import sklearn\n",
        "import scipy.stats\n",
        "from sklearn.metrics import make_scorer\n",
        "from sklearn.model_selection import cross_val_score\n",
        "from sklearn.model_selection import RandomizedSearchCV\n",
        "\n",
        "import sklearn_crfsuite\n",
        "from sklearn_crfsuite import scorers\n",
        "from sklearn_crfsuite import metrics"
      ],
      "execution_count": null,
      "outputs": []
    },
    {
      "cell_type": "code",
      "metadata": {
        "id": "yQZkEoOvwbbb"
      },
      "source": [
        "import nltk\n",
        "import os\n",
        "import string\n",
        "from pathlib import Path\n",
        "from nltk.corpus.reader.plaintext import PlaintextCorpusReader\n",
        "from nltk.corpus import PlaintextCorpusReader\n",
        "\n",
        "from pydrive.auth import GoogleAuth\n",
        "from pydrive.drive import GoogleDrive\n",
        "from google.colab import auth\n",
        "from oauth2client.client import GoogleCredentials\n",
        "\n",
        "%matplotlib inline\n",
        "import matplotlib.pyplot as plt\n",
        "plt.style.use('ggplot')"
      ],
      "execution_count": null,
      "outputs": []
    },
    {
      "cell_type": "markdown",
      "source": [
        "## Import data"
      ],
      "metadata": {
        "id": "I_lbLBUT2F0J"
      }
    },
    {
      "cell_type": "code",
      "metadata": {
        "id": "7zgfbQL9UIYD"
      },
      "source": [
        "# Authenticate and create the PyDrive client.\n",
        "# This only needs to be done once per notebook.\n",
        "auth.authenticate_user()\n",
        "gauth = GoogleAuth()\n",
        "gauth.credentials = GoogleCredentials.get_application_default()\n",
        "drive = GoogleDrive(gauth)\n",
        "\n",
        "def download_and_save(file_name, file_id):\n",
        "  downloaded = drive.CreateFile({'id': file_id})\n",
        "  # fetch file\n",
        "  downloaded.FetchContent()\n",
        "  # write file\n",
        "  with open(file_name,'wb') as f:\n",
        "       f.write(downloaded.content.read())\n",
        "      \n",
        "  print(f'Saved {file_name}')\n",
        "  \n",
        "FILE_NAME, FILE_ID = ['file_name', 'file_id']"
      ],
      "execution_count": null,
      "outputs": []
    },
    {
      "cell_type": "code",
      "metadata": {
        "colab": {
          "base_uri": "https://localhost:8080/"
        },
        "id": "x7U-1nOSDZsa",
        "outputId": "c1584f44-d21e-49e0-fc14-3e16ab2276b4"
      },
      "source": [
        "corpus_root = os.getcwd() + \"/\"\n",
        "file_ids = \"nkjp-morph-named.txt\"\n",
        "newcorpus = PlaintextCorpusReader(corpus_root, file_ids)\n",
        "\n",
        "#downloading file \n",
        "#https://drive.google.com/file/d/121A1wodBB0PQTKAj7N8VIpRdOU8bQM9o/view?usp=sharing\n",
        "file = {FILE_NAME: 'nkjp-morph-named.txt', FILE_ID: '121A1wodBB0PQTKAj7N8VIpRdOU8bQM9o'}\n",
        "dataset_path = Path('/content')\n",
        "file_path = dataset_path / file[FILE_NAME]\n",
        "download_and_save(file_path, file[FILE_ID])"
      ],
      "execution_count": null,
      "outputs": [
        {
          "output_type": "stream",
          "name": "stdout",
          "text": [
            "Saved /content/nkjp-morph-named.txt\n"
          ]
        }
      ]
    },
    {
      "cell_type": "code",
      "metadata": {
        "id": "EcCKwWTFXSjt"
      },
      "source": [
        "filename = \"nkjp-morph-named.txt\"\n",
        "\n",
        "def get_loaded_dataset(path_file):\n",
        "    i=0\n",
        "    dataset = []\n",
        "    entry = []\n",
        "    new_entry = []\n",
        "    with open(path_file, encoding='utf-8', errors='replace') as f:\n",
        "        for line in f:\n",
        "            #print(\"i: \"+ str(i) + \" -> \"+ line)\n",
        "            line_split = line.split()\n",
        "            if not entry and line_split[0] == \".\":\n",
        "                continue\n",
        "            tmp = (line_split[0], line_split[-2], line_split[-1])\n",
        "            entry.append(tmp)\n",
        "            if line_split[0] == \".\":\n",
        "                new_entry = entry\n",
        "                dataset.append(new_entry)\n",
        "                entry = []\n",
        "            i=i+1\n",
        "    return dataset"
      ],
      "execution_count": null,
      "outputs": []
    },
    {
      "cell_type": "markdown",
      "metadata": {
        "id": "VtEDkjGe57bZ"
      },
      "source": [
        "## Named-entity recognition system\n",
        "\n",
        "CoNLL2002 corpus is available in NLTK\n"
      ]
    },
    {
      "cell_type": "code",
      "metadata": {
        "id": "xMOE9XT_jeSj"
      },
      "source": [
        "content= get_loaded_dataset(os.path.abspath(filename))\n",
        "\n",
        "train_sents = content[:15000]\n",
        "test_sents = content[15000:]"
      ],
      "execution_count": null,
      "outputs": []
    },
    {
      "cell_type": "code",
      "metadata": {
        "id": "0ny195Sh57bZ",
        "colab": {
          "base_uri": "https://localhost:8080/"
        },
        "outputId": "e7adece1-bbe0-4b95-ae33-9352caf6d9e2"
      },
      "source": [
        "print(train_sents[:100])\n",
        "print(test_sents[:100])"
      ],
      "execution_count": null,
      "outputs": [
        {
          "output_type": "stream",
          "name": "stdout",
          "text": [
            "[[('Zatrzasnął', 'praet:sg:m1:perf', 'O'), ('drzwi', 'subst:pl:acc:n', 'O'), ('od', 'prep:gen:nwok', 'O'), ('mieszkania', 'subst:sg:gen:n', 'O'), (',', 'interp', 'O'), ('dwa', 'num:pl:acc:m3:congr', 'O'), ('razy', 'subst:pl:acc:m3', 'O'), ('przekręcił', 'praet:sg:m1:perf', 'O'), ('klucz', 'subst:sg:acc:m3', 'O'), (',', 'interp', 'O'), ('nacisnął', 'praet:sg:m1:perf', 'O'), ('klamkę', 'subst:sg:acc:f', 'O'), (',', 'interp', 'O'), ('by', 'comp', 'O'), ('sprawdzić', 'inf:perf', 'O'), (',', 'interp', 'O'), ('czy', 'qub', 'O'), ('dobrze', 'adv:pos', 'O'), ('zamknięte', 'ppas:pl:nom:n:perf:aff', 'O'), (',', 'interp', 'O'), ('zbiegł', 'praet:sg:m1:perf', 'O'), ('po', 'prep:loc', 'O'), ('schodach', 'subst:pl:loc:n', 'O'), (',', 'interp', 'O'), ('minął', 'praet:sg:m1:perf', 'O'), ('furtkę', 'subst:sg:acc:f', 'O'), (',', 'interp', 'O'), ('także', 'qub', 'O'), ('ją', 'ppron3:sg:acc:f:ter:akc:npraep', 'O'), ('zamknął', 'praet:sg:m1:perf', 'O'), (',', 'interp', 'O'), ('i', 'conj', 'O'), ('znalazł', 'praet:sg:m1:perf', 'O'), ('się', 'qub', 'O'), ('na', 'prep:loc', 'O'), ('wąskiej', 'adj:sg:loc:f:pos', 'O'), ('uliczce', 'subst:sg:loc:f', 'O'), ('między', 'prep:inst', 'O'), ('ogródkami', 'subst:pl:inst:m3', 'O'), (',', 'interp', 'O'), ('gdzie', 'adv', 'O'), ('drzemały', 'praet:pl:m3:imperf', 'O'), ('w', 'prep:loc:nwok', 'O'), ('majowym', 'adj:sg:loc:n:pos', 'O'), ('słońcu', 'subst:sg:loc:n', 'O'), ('trójkątne', 'adj:pl:nom:m3:pos', 'O'), ('ciemnozielone', 'adj:pl:nom:m3:pos', 'O'), ('świerki', 'subst:pl:nom:m3', 'O'), (',', 'interp', 'O'), ('jakich', 'adj:pl:gen:m3:pos', 'O'), ('nie', 'qub', 'O'), ('było', 'praet:sg:n:imperf', 'O'), ('w', 'prep:loc:nwok', 'O'), ('pobliżu', 'subst:sg:loc:n', 'O'), ('jego', 'ppron3:sg:gen:m1:ter:akc:npraep', 'O'), ('domu', 'subst:sg:gen:m3', 'O'), ('.', 'interp', 'O')], [('Bohaterem', 'subst:sg:inst:m1', 'O'), ('powieści', 'subst:sg:gen:f', 'O'), ('Paźniewskiego', 'subst:sg:gen:m1', 'persName_surname'), ('jest', 'fin:sg:ter:imperf', 'O'), ('miasto', 'subst:sg:nom:n', 'O'), (',', 'interp', 'O'), ('Krzemieniec', 'subst:sg:nom:m3', 'placeName_settlement'), ('.', 'interp', 'O')], [('Jak', 'adv:pos', 'O'), ('za', 'prep:gen', 'O'), ('czasów', 'subst:pl:gen:m3', 'O'), ('Słowackiego', 'subst:sg:gen:m1', 'persName_surname'), ('funkcjonuje', 'fin:sg:ter:imperf', 'O'), ('Liceum', 'subst:sg:nom:n', 'orgName'), ('i', 'conj', 'O'), ('płynie', 'fin:sg:ter:imperf', 'O'), ('Ikwa', 'subst:sg:nom:f', 'geogName'), ('.', 'interp', 'O')], [('Krzemieniec', 'subst:sg:nom:m3', 'placeName_settlement'), ('powieściowy', 'adj:sg:nom:m3:pos', 'O'), ('jest', 'fin:sg:ter:imperf', 'O'), ('tamtym', 'adj:sg:inst:m3:pos', 'O'), ('Krzemieńcem', 'subst:sg:inst:m3', 'placeName_settlement'), (',', 'interp', 'O'), ('ale', 'conj', 'O'), ('jest', 'fin:sg:ter:imperf', 'O'), ('także', 'qub', 'O'), ('miastem', 'subst:sg:inst:n', 'O'), ('wywołanym', 'ppas:sg:inst:n:perf:aff', 'O'), ('z', 'prep:gen:nwok', 'O'), ('osobistej', 'adj:sg:gen:f:pos', 'O'), ('pamięci', 'subst:sg:gen:f', 'O'), ('Paźniewskiego', 'subst:sg:gen:m1', 'persName_surname'), ('.', 'interp', 'O')], [('Swoją', 'adj:sg:acc:f:pos', 'O'), ('drogę', 'subst:sg:acc:f', 'O'), ('do', 'prep:gen', 'O'), ('tego', 'adj:sg:gen:n:pos', 'O'), ('miasta', 'subst:sg:gen:n', 'O'), ('autor', 'subst:sg:nom:m1', 'O'), (\"'\", 'interp', 'O'), ('Krótkich', 'adj:pl:gen:m3:pos', 'O'), ('dni', 'subst:pl:gen:m3', 'O'), (\"'\", 'interp', 'O'), ('zaczął', 'praet:sg:m1:perf', 'O'), ('z', 'prep:acc:nwok', 'O'), ('bardzo', 'adv:pos', 'O'), ('daleka', 'adjp', 'O'), ('.', 'interp', 'O')], [(\"'\", 'interp', 'O'), ('Nigdy', 'adv', 'O'), ('nie', 'qub', 'O'), ('był', 'praet:sg:m1:imperf', 'O'), ('em', 'aglt:sg:pri:imperf:wok', 'O'), ('w', 'prep:loc:nwok', 'O'), ('tym', 'adj:sg:loc:m3:pos', 'O'), ('domu', 'subst:sg:loc:m3', 'O'), (',', 'interp', 'O'), ('a', 'conj', 'O'), ('przecież', 'qub', 'O'), ('wszystko', 'subst:sg:acc:n', 'O'), ('pamiętam', 'fin:sg:pri:imperf', 'O'), ('doskonale', 'adv:pos', 'O'), (\"'\", 'interp', 'O'), ('.', 'interp', 'O')], [('Ale', 'conj', 'O'), ('dzisiaj', 'adv', 'O'), ('?', 'interp', 'O'), ('Jaką', 'adj:sg:acc:f:pos', 'O'), ('dzisiaj', 'adv', 'O'), ('odegra', 'fin:sg:ter:perf', 'O'), ('rolę', 'subst:sg:acc:f', 'O'), ('poetyka', 'subst:sg:nom:f', 'O'), ('Przybosia', 'subst:sg:gen:m1', 'persName_surname'), ('?', 'interp', 'O'), ('Oczywiście', 'qub', 'O'), (',', 'interp', 'O'), ('już', 'qub', 'O'), ('sam', 'adj:sg:nom:m3:pos', 'O'), ('fakt', 'subst:sg:nom:m3', 'O'), ('jej', 'ppron3:sg:gen:f:ter:akc:npraep', 'O'), ('istnienia', 'ger:sg:gen:n:imperf:aff', 'O'), ('jest', 'fin:sg:ter:imperf', 'O'), ('wartością', 'subst:sg:inst:f', 'O'), ('.', 'interp', 'O')], [('Nasza', 'adj:sg:nom:f:pos', 'O'), ('literatura', 'subst:sg:nom:f', 'O'), (',', 'interp', 'O'), ('bogata', 'adj:sg:nom:f:pos', 'O'), ('w', 'prep:acc:nwok', 'O'), ('improwizacje', 'subst:pl:acc:f', 'O'), ('i', 'conj', 'O'), ('w', 'prep:acc:nwok', 'O'), ('akty', 'subst:pl:acc:m3', 'O'), ('strzeliste', 'adj:pl:acc:m3:pos', 'O'), (',', 'interp', 'O'), ('jest', 'fin:sg:ter:imperf', 'O'), ('uboga', 'adj:sg:nom:f:pos', 'O'), ('w', 'prep:acc:nwok', 'O'), ('teorie', 'subst:pl:acc:f', 'O'), ('.', 'interp', 'O')], [('Rolę', 'subst:sg:acc:f', 'O'), ('teoretyków', 'subst:pl:gen:m1', 'O'), ('spełniają', 'fin:pl:ter:imperf', 'O'), ('felietoniści', 'subst:pl:nom:m1', 'O'), (',', 'interp', 'O'), ('którzy', 'adj:pl:nom:m1:pos', 'O'), ('co', 'prep:acc', 'O'), ('tydzień', 'subst:sg:acc:m3', 'O'), ('fundują', 'fin:pl:ter:imperf', 'O'), ('szkoły', 'subst:pl:acc:f', 'O'), ('i', 'conj', 'O'), ('formułują', 'fin:pl:ter:imperf', 'O'), ('programy', 'subst:pl:acc:m3', 'O'), ('.', 'interp', 'O')], [('Dlatego', 'adv', 'O'), ('założenia', 'subst:pl:nom:n', 'O'), ('teoretyczne', 'adj:pl:nom:n:pos', 'O'), ('Przybosia', 'subst:sg:gen:m1', 'persName_surname'), ('obok', 'prep:gen', 'O'), ('teorii', 'subst:pl:gen:f', 'O'), ('Peipera', 'subst:sg:gen:m1', 'persName_surname'), ('i', 'conj', 'O'), ('Witkacego', 'subst:sg:gen:m1', 'persName_addName'), (',', 'interp', 'O'), ('a', 'conj', 'O'), ('równolegle', 'adv:pos', 'O'), ('do', 'prep:gen', 'O'), ('propozycji', 'subst:pl:gen:f', 'O'), ('systemów', 'subst:pl:gen:m3', 'O'), ('Irzykowskiego', 'subst:sg:gen:m1', 'persName_surname'), ('i', 'conj', 'O'), ('Sandauera', 'subst:sg:gen:m1', 'persName_surname'), (',', 'interp', 'O'), ('stanowią', 'fin:pl:ter:imperf', 'O'), ('kapitał', 'subst:sg:acc:m3', 'O'), ('naszej', 'adj:sg:gen:f:pos', 'O'), ('myśli', 'subst:sg:gen:f', 'O'), ('krytycznej', 'adj:sg:gen:f:pos', 'O'), (',', 'interp', 'O'), ('naturalny', 'adj:sg:acc:m3:pos', 'O'), ('fundament', 'subst:sg:acc:m3', 'O'), ('każdej', 'adj:sg:gen:f:pos', 'O'), ('twórczości', 'subst:sg:gen:f', 'O'), ('.', 'interp', 'O')], [('To', 'pred', 'O'), ('są', 'fin:pl:ter:imperf', 'O'), ('oczywistości', 'subst:pl:nom:f', 'O'), ('.', 'interp', 'O')], [('Halina', 'subst:sg:nom:f', 'persName_forename'), ('Auderska', 'subst:sg:nom:f', 'persName_surname'), ('we', 'prep:loc:wok', 'O'), ('wszystkich', 'adj:pl:loc:f:pos', 'O'), ('książkach', 'subst:pl:loc:f', 'O'), ('każe', 'fin:sg:ter:imperf', 'O'), ('swoim', 'adj:pl:dat:m1:pos', 'O'), ('bohaterom', 'subst:pl:dat:m1', 'O'), ('szukać', 'inf:imperf', 'O'), ('tożsamości', 'subst:sg:gen:f', 'O'), ('.', 'interp', 'O')], [('W', 'prep:loc:nwok', 'O'), (\"'\", 'interp', 'O'), ('Babim', 'adj:sg:loc:n:pos', 'O'), ('lecie', 'subst:sg:loc:n', 'O'), (\"'\", 'interp', 'O'), ('ma', 'fin:sg:ter:imperf', 'O'), ('odwagę', 'subst:sg:acc:f', 'O'), ('uznać', 'inf:perf', 'O'), ('za', 'prep:acc', 'O'), ('najistotniejsze', 'adj:sg:acc:n:sup', 'O'), ('kryterium', 'subst:sg:acc:n', 'O'), ('tożsamości', 'subst:sg:gen:f', 'O'), ('poczucie', 'subst:sg:acc:n', 'O'), ('przynależności', 'subst:sg:gen:f', 'O'), ('nie', 'conj', 'O'), ('do', 'prep:gen', 'O'), ('idei', 'subst:sg:gen:f', 'O'), (',', 'interp', 'O'), ('nie', 'conj', 'O'), ('do', 'prep:gen', 'O'), ('kultury', 'subst:sg:gen:f', 'O'), ('i', 'conj', 'O'), ('mitów', 'subst:pl:gen:m3', 'O'), ('narodowych', 'adj:pl:gen:m3:pos', 'O'), (',', 'interp', 'O'), ('lecz', 'conj', 'O'), ('do', 'prep:gen', 'O'), ('tego', 'subst:sg:gen:n', 'O'), (',', 'interp', 'O'), ('co', 'subst:sg:nom:n', 'O'), ('jest', 'fin:sg:ter:imperf', 'O'), ('podstawą', 'subst:sg:inst:f', 'O'), ('bytu', 'subst:sg:gen:m3', 'O'), ('każdego', 'adj:sg:gen:n:pos', 'O'), ('człowieczeństwa', 'subst:sg:gen:n', 'O'), ('.', 'interp', 'O')], [('Miejsce', 'subst:sg:nom:n', 'O'), ('na', 'prep:loc', 'O'), ('ziemi', 'subst:sg:loc:f', 'O'), (',', 'interp', 'O'), ('konkret', 'subst:sg:nom:m3', 'O'), ('fizyczny', 'adj:sg:nom:m3:pos', 'O'), ('i', 'conj', 'O'), ('społeczny', 'adj:sg:nom:m3:pos', 'O'), ('jednocześnie', 'adv:pos', 'O'), ('jest', 'fin:sg:ter:imperf', 'O'), ('tym', 'subst:sg:inst:n', 'O'), (',', 'interp', 'O'), ('co', 'subst:sg:nom:n', 'O'), ('stanowi', 'fin:sg:ter:imperf', 'O'), ('o', 'prep:loc', 'O'), ('wymiarze', 'subst:sg:loc:m3', 'O'), ('życia', 'subst:sg:gen:n', 'O'), ('i', 'conj', 'O'), ('losu', 'subst:sg:gen:m3', 'O'), ('.', 'interp', 'O')], [('Paźniewski', 'subst:sg:nom:m1', 'persName_surname'), ('w', 'prep:loc:nwok', 'O'), (\"'\", 'interp', 'O'), ('Krótkich', 'adj:pl:loc:m3:pos', 'O'), ('dniach', 'subst:pl:loc:m3', 'O'), (\"'\", 'interp', 'O'), ('ofiarował', 'praet:sg:m1:perf', 'O'), ('Kresom', 'subst:pl:dat:n', 'geogName'), ('nie', 'qub', 'O'), ('mniej', 'adv:com', 'O'), (',', 'interp', 'O'), ('niż', 'conj', 'O'), ('z', 'prep:gen:nwok', 'O'), ('nich', 'ppron3:pl:gen:n:ter:akc:praep', 'O'), ('zaczerpnął', 'praet:sg:m1:perf', 'O'), ('.', 'interp', 'O')], [('Zatrzymał', 'praet:sg:m1:perf', 'O'), ('potop', 'subst:sg:acc:m3', 'O'), ('.', 'interp', 'O')], [('Zamówił', 'praet:sg:m1:perf', 'O'), ('kataklizm', 'subst:sg:acc:m3', 'O'), ('.', 'interp', 'O')], [('Stworzył', 'praet:sg:m1:perf', 'O'), ('wizję', 'subst:sg:acc:f', 'O'), ('oczekiwania', 'subst:sg:gen:n', 'O'), (',', 'interp', 'O'), ('wizję', 'subst:sg:acc:f', 'O'), ('spokoju', 'subst:sg:gen:m3', 'O'), ('przed', 'prep:inst:nwok', 'O'), ('burzą', 'subst:sg:inst:f', 'O'), ('.', 'interp', 'O')], [('Z', 'prep:inst:nwok', 'O'), ('napięciem', 'subst:sg:inst:n', 'O'), ('czekamy', 'fin:pl:pri:imperf', 'O'), ('na', 'prep:acc', 'O'), ('chwilę', 'subst:sg:acc:f', 'O'), (',', 'interp', 'O'), ('która', 'adj:sg:nom:f:pos', 'O'), ('będzie', 'bedzie:sg:ter:imperf', 'O'), ('chwilą', 'subst:sg:inst:f', 'O'), ('decydującą', 'pact:sg:inst:f:imperf:aff', 'O'), ('o', 'prep:loc', 'O'), ('losie', 'subst:sg:loc:m3', 'O'), ('bohatera', 'subst:sg:gen:m1', 'O'), ('.', 'interp', 'O')], [('Cóż', 'subst:sg:nom:n', 'O'), ('za', 'qub', 'O'), ('ulga', 'subst:sg:nom:f', 'O'), ('.', 'interp', 'O')], [('Mija', 'fin:sg:ter:imperf', 'O'), ('ostatnie', 'adj:sg:nom:n:pos', 'O'), ('zdanie', 'subst:sg:nom:n', 'O'), ('powieści', 'subst:sg:gen:f', 'O'), ('.', 'interp', 'O')], [('Co', 'subst:sg:nom:n', 'O'), ('za', 'qub', 'O'), ('wspaniała', 'adj:sg:nom:f:pos', 'O'), ('książka', 'subst:sg:nom:f', 'O'), ('!', 'interp', 'O'), ('Ocalająca', 'pact:sg:nom:f:imperf:aff', 'O'), ('!', 'interp', 'O'), (\"'\", 'interp', 'O'), ('Plama', 'subst:sg:nom:f', 'O'), (\"'\", 'interp', 'O'), ('Piętaka', 'subst:sg:gen:m1', 'persName_surname'), (',', 'interp', 'O'), ('jedna', 'adj:sg:nom:f:pos', 'O'), ('spośród', 'prep:gen', 'O'), ('kilku', 'num:pl:gen:f:congr', 'O'), ('najznakomitszych', 'adj:pl:gen:f:sup', 'O'), ('współczesnych', 'adj:pl:gen:f:pos', 'O'), ('powieści', 'subst:pl:gen:f', 'O'), (',', 'interp', 'O'), ('także', 'qub', 'O'), ('ze', 'prep:gen:wok', 'O'), ('względu', 'subst:sg:gen:m3', 'O'), ('na', 'prep:acc', 'O'), ('jej', 'ppron3:sg:gen:f:ter:akc:npraep', 'O'), ('zaklasyfikowanie', 'ger:sg:acc:n:perf:aff', 'O'), ('wraz', 'adv', 'O'), ('z', 'prep:inst:nwok', 'O'), ('całą', 'adj:sg:inst:f:pos', 'O'), ('twórczością', 'subst:sg:inst:f', 'O'), ('tego', 'adj:sg:gen:m1:pos', 'O'), ('pisarza', 'subst:sg:gen:m1', 'O'), ('do', 'prep:gen', 'O'), ('nurtu', 'subst:sg:gen:m3', 'O'), ('wiejskiego', 'adj:sg:gen:m3:pos', 'O'), (',', 'interp', 'O'), ('nie', 'qub', 'O'), ('ma', 'fin:sg:ter:imperf', 'O'), ('w', 'prep:loc:nwok', 'O'), ('odbiorze', 'subst:sg:loc:m3', 'O'), ('powszechnym', 'adj:sg:loc:m3:pos', 'O'), ('tej', 'adj:sg:gen:f:pos', 'O'), ('rangi', 'subst:sg:gen:f', 'O'), (',', 'interp', 'O'), ('jaką', 'adj:sg:acc:f:pos', 'O'), ('rzeczywiście', 'adv:pos', 'O'), ('posiada', 'fin:sg:ter:imperf', 'O'), ('.', 'interp', 'O')], [('Wszystko', 'subst:sg:nom:n', 'O'), ('co', 'subst:sg:acc:n', 'O'), ('Piętak', 'subst:sg:nom:m1', 'persName_surname'), ('wyniósł', 'praet:sg:m1:perf:nagl', 'O'), ('z', 'prep:gen:nwok', 'O'), ('chłopskiej', 'adj:sg:gen:f:pos', 'O'), ('szkoły', 'subst:sg:gen:f', 'O'), ('wyobraźni', 'subst:sg:gen:f', 'O'), (',', 'interp', 'O'), ('zaowocowało', 'praet:sg:n:perf', 'O'), ('w', 'prep:loc:nwok', 'O'), (\"'\", 'interp', 'O'), ('Plamie', 'subst:sg:loc:f', 'O'), (\"'\", 'interp', 'O'), ('najwyższą', 'adj:sg:inst:f:sup', 'O'), ('subtelnością', 'subst:sg:inst:f', 'O'), ('psychologiczną', 'adj:sg:inst:f:pos', 'O'), (',', 'interp', 'O'), ('na', 'prep:acc', 'O'), ('jaką', 'adj:sg:acc:f:pos', 'O'), ('stać', 'pred', 'O'), ('literaturę', 'subst:sg:acc:f', 'O'), ('.', 'interp', 'O')], [('To', 'pred', 'O'), ('już', 'qub', 'O'), ('nie', 'qub', 'O'), ('są', 'fin:pl:ter:imperf', 'O'), ('wątpliwości', 'subst:pl:nom:f', 'O'), ('religijne', 'adj:pl:nom:f:pos', 'O'), (',', 'interp', 'O'), ('te', 'adj:pl:nom:f:pos', 'O'), ('wątpliwości', 'subst:pl:nom:f', 'O'), ('pierwszego', 'adj:sg:gen:m3:pos', 'O'), ('stopnia', 'subst:sg:gen:m3', 'O'), ('wtajemniczenia', 'subst:sg:gen:n', 'O'), ('w', 'prep:acc:nwok', 'O'), ('sprawy', 'subst:pl:acc:f', 'O'), ('świata', 'subst:sg:gen:m3', 'O'), (',', 'interp', 'O'), ('wątpliwości', 'subst:pl:nom:f', 'O'), (\"'\", 'interp', 'O'), ('Nieba', 'subst:sg:gen:n', 'O'), ('w', 'prep:loc:nwok', 'O'), ('płomieniach', 'subst:pl:loc:m3', 'O'), (\"'\", 'interp', 'O'), ('czy', 'conj', 'O'), (\"'\", 'interp', 'O'), ('Jana', 'subst:sg:gen:m1', 'persName_forename'), ('Barois', 'subst:sg:gen:m1', 'persName_surname'), (\"'\", 'interp', 'O'), ('.', 'interp', 'O')], [('Tu', 'adv', 'O'), ('nie', 'qub', 'O'), ('chodzi', 'fin:sg:ter:imperf', 'O'), ('o', 'prep:acc', 'O'), ('sensowność', 'subst:sg:acc:f', 'O'), ('dogmatów', 'subst:pl:gen:m3', 'O'), ('czy', 'conj', 'O'), ('ścisłość', 'subst:sg:acc:f', 'O'), ('religijnych', 'adj:pl:gen:n:pos', 'O'), ('wyobrażeń', 'subst:pl:gen:n', 'O'), (',', 'interp', 'O'), ('nie', 'qub', 'O'), ('chodzi', 'fin:sg:ter:imperf', 'O'), ('już', 'qub', 'O'), ('o', 'prep:acc', 'O'), ('religię', 'subst:sg:acc:f', 'O'), (',', 'interp', 'O'), ('o', 'prep:acc', 'O'), ('tajemnicę', 'subst:sg:acc:f', 'O'), ('stworzenia', 'subst:sg:gen:n', 'O'), (',', 'interp', 'O'), ('ale', 'conj', 'O'), ('o', 'prep:acc', 'O'), ('normę', 'subst:sg:acc:f', 'O'), ('etyczną', 'adj:sg:acc:f:pos', 'O'), ('.', 'interp', 'O')], [('Kto', 'subst:sg:nom:m1', 'O'), ('ją', 'ppron3:sg:acc:f:ter:akc:npraep', 'O'), ('ustanowi', 'fin:sg:ter:perf', 'O'), (',', 'interp', 'O'), ('kiedy', 'adv', 'O'), ('Boga', 'subst:sg:gen:m1', 'persName'), ('zabrakło', 'praet:sg:n:perf', 'O'), ('?', 'interp', 'O'), ('Łzy', 'subst:pl:nom:f', 'O'), ('padały', 'praet:pl:f:imperf', 'O'), ('na', 'prep:acc', 'O'), ('cremoński', 'adj:sg:acc:m3:pos', 'O'), ('lakier', 'subst:sg:acc:m3', 'O'), ('.', 'interp', 'O')], [('Szkoda', 'pred', 'O'), (',', 'interp', 'O'), ('nie', 'qub', 'O'), ('wolno', 'pred', 'O'), ('było', 'praet:sg:n:imperf', 'O'), ('niszczyć', 'inf:imperf', 'O'), ('przedmiotu', 'subst:sg:gen:m3', 'O'), (',', 'interp', 'O'), ('na', 'prep:acc', 'O'), ('który', 'adj:sg:acc:m3:pos', 'O'), ('ojciec', 'subst:sg:nom:m1', 'O'), (',', 'interp', 'O'), ('biedaczysko', 'subst:sg:nom:m1', 'O'), (',', 'interp', 'O'), ('wydał', 'praet:sg:m1:perf', 'O'), ('całą', 'adj:sg:acc:f:pos', 'O'), ('schedę', 'subst:sg:acc:f', 'O'), ('po', 'prep:loc', 'O'), ('Luizie', 'subst:sg:loc:f', 'persName_forename'), ('.', 'interp', 'O')], [('Otarła', 'praet:sg:f:perf', 'O'), ('je', 'ppron3:pl:acc:f:ter:akc:npraep', 'O'), ('lewą', 'adj:sg:inst:f:pos', 'O'), (',', 'interp', 'O'), ('umęczoną', 'adj:sg:inst:f:pos', 'O'), ('ręką', 'subst:sg:inst:f', 'O'), ('.', 'interp', 'O')], [('Wszedł', 'praet:sg:m1:perf', 'O'), ('Adam', 'subst:sg:nom:m1', 'persName_forename'), ('.', 'interp', 'O')], [('Zawiało', 'praet:sg:n:perf', 'O'), ('wodą', 'subst:sg:inst:f', 'O'), ('kwiatową', 'adj:sg:inst:f:pos', 'O'), ('Maréchal', 'subst:sg:nom:m3', 'O'), ('Niel', 'subst:sg:nom:m3', 'O'), ('.', 'interp', 'O')], [('Starannie', 'adv:pos', 'O'), ('domykał', 'praet:sg:m1:imperf', 'O'), ('drzwi', 'subst:pl:acc:n', 'O'), ('za', 'prep:inst', 'O'), ('sobą', 'siebie:inst', 'O'), ('.', 'interp', 'O')], [('Trwała', 'praet:sg:f:imperf', 'O'), ('dalej', 'adv:com', 'O'), ('w', 'prep:loc:nwok', 'O'), ('bezruchu', 'subst:sg:loc:m3', 'O'), ('.', 'interp', 'O')], [('Pan', 'subst:sg:nom:m1', 'O'), ('dyrektor', 'subst:sg:nom:m1', 'O'), ('był', 'praet:sg:m1:imperf', 'O'), ('nieobecny', 'adj:sg:nom:m1:pos', 'O'), (',', 'interp', 'O'), ('a', 'conj', 'O'), ('Róża', 'subst:sg:nom:f', 'persName_forename'), ('stała', 'praet:sg:f:imperf', 'O'), ('pod', 'prep:inst:nwok', 'O'), ('piecem', 'subst:sg:inst:m3', 'O'), (',', 'interp', 'O'), ('czekając', 'pcon:imperf', 'O'), (',', 'interp', 'O'), ('kiedy', 'adv', 'O'), ('panna', 'subst:sg:nom:f', 'O'), ('Aniela', 'subst:sg:nom:f', 'persName_forename'), ('Bądska', 'subst:sg:nom:f', 'persName_surname'), ('ukończy', 'fin:sg:ter:perf', 'O'), ('gamy', 'subst:pl:acc:f', 'O'), ('i', 'conj', 'O'), ('zechce', 'fin:sg:ter:perf', 'O'), ('łaskawie', 'adv:pos', 'O'), ('zaakompaniować', 'inf:perf', 'O'), ('jedynej', 'adj:sg:dat:f:pos', 'O'), ('uczennicy', 'subst:sg:dat:f', 'O'), ('papy', 'subst:sg:gen:m1', 'O'), (\"'\", 'interp', 'O'), ('Moment', 'subst:sg:acc:m3', 'O'), ('musical', 'subst:sg:acc:m3', 'O'), (\"'\", 'interp', 'O'), ('Szuberta', 'subst:sg:gen:m1', 'persName_surname'), ('.', 'interp', 'O')], [('Jedynej', 'adj:sg:dat:f:pos', 'O'), ('uczennicy', 'subst:sg:dat:f', 'O'), ('-', 'interp', 'O'), ('pierwszej', 'adj:sg:dat:f:pos', 'O'), (\"'\", 'interp', 'O'), ('adeptce', 'subst:sg:dat:f', 'O'), (\"'\", 'interp', 'O'), ('skrzypiec', 'subst:pl:gen:n', 'O'), ('Warszawskiego', 'adj:sg:gen:n:pos', 'placeName_settlement'), ('Konserwatorium', 'subst:sg:gen:n', 'orgName'), ('na', 'prep:loc', 'orgName'), ('Tamce', 'subst:sg:loc:f', 'geogName'), ('.', 'interp', 'O')], [('Czarnej', 'adj:sg:dat:f:pos', 'O'), (',', 'interp', 'O'), ('chudej', 'adj:sg:dat:f:pos', 'O'), ('dziewczynie', 'subst:sg:dat:f', 'O'), ('z', 'prep:inst:nwok', 'O'), ('rumieńcami', 'subst:pl:inst:m3', 'O'), ('latającymi', 'pact:pl:inst:m3:imperf:aff', 'O'), ('jak', 'prep:nom', 'O'), ('płomień', 'subst:sg:nom:m3', 'O'), ('po', 'prep:loc', 'O'), ('śniadych', 'adj:pl:loc:m3:pos', 'O'), ('policzkach', 'subst:pl:loc:m3', 'O'), (',', 'interp', 'O'), ('z', 'prep:inst:nwok', 'O'), ('lśniącym', 'adj:sg:inst:m3:pos', 'O'), ('długim', 'adj:sg:inst:m3:pos', 'O'), ('warkoczem', 'subst:sg:inst:m3', 'O'), (',', 'interp', 'O'), ('z', 'prep:inst:nwok', 'O'), ('kacapską', 'adj:sg:inst:f:pos', 'O'), ('wymową', 'subst:sg:inst:f', 'O'), ('i', 'conj', 'O'), ('z', 'prep:inst:nwok', 'O'), ('niemodnym', 'adj:sg:inst:m3:pos', 'O'), ('medalionem', 'subst:sg:inst:m3', 'O'), ('na', 'prep:loc', 'O'), ('szyi', 'subst:sg:loc:f', 'O'), ('.', 'interp', 'O')], [('To', 'adj:sg:nom:n:pos', 'O'), ('wszystko', 'subst:sg:nom:n', 'O'), ('było', 'praet:sg:n:imperf', 'O'), ('nowe', 'adj:sg:nom:n:pos', 'O'), ('.', 'interp', 'O')], [('Nowe', 'adj:pl:nom:f:pos', 'O'), ('także', 'qub', 'O'), ('były', 'praet:pl:f:imperf', 'O'), ('miesięczne', 'adj:pl:nom:f:pos', 'O'), ('wędrówki', 'subst:pl:nom:f', 'O'), ('na', 'prep:acc', 'O'), ('grób', 'subst:sg:acc:m3', 'O'), ('męża', 'subst:sg:gen:m1', 'O'), ('i', 'conj', 'O'), ('sjesty', 'subst:pl:nom:f', 'O'), ('na', 'prep:loc', 'O'), ('cmentarnej', 'adj:sg:loc:f:pos', 'O'), ('ławeczce', 'subst:sg:loc:f', 'O'), (',', 'interp', 'O'), ('ze', 'prep:inst:wok', 'O'), ('wzrokiem', 'subst:sg:inst:m3', 'O'), ('żarliwie', 'adv:pos', 'O'), ('utkwionym', 'ppas:sg:inst:m3:perf:aff', 'O'), ('w', 'prep:acc:nwok', 'O'), ('darninę', 'subst:sg:acc:f', 'O'), ('.', 'interp', 'O')], [('I', 'conj', 'O'), ('łzy', 'subst:pl:nom:f', 'O'), ('po', 'prep:loc', 'O'), ('nocach', 'subst:pl:loc:f', 'O'), (',', 'interp', 'O'), ('i', 'conj', 'O'), ('nasłuchiwanie', 'ger:sg:nom:n:imperf:aff', 'O'), (',', 'interp', 'O'), ('czy', 'qub', 'O'), ('Stenia', 'subst:sg:nom:f', 'persName_forename'), ('nie', 'qub', 'O'), ('kaszle', 'fin:sg:ter:imperf', 'O'), (',', 'interp', 'O'), ('i', 'conj', 'O'), ('rumieńce', 'subst:pl:nom:m3', 'O'), ('wstydu', 'subst:sg:gen:m3', 'O'), (',', 'interp', 'O'), ('gdy', 'adv', 'O'), ('pytano', 'imps:imperf', 'O'), ('przy', 'prep:loc', 'O'), ('wnukach', 'subst:pl:loc:m1', 'O'), (':', 'interp', 'O'), ('a', 'qub', 'O'), ('gdzież', 'adv', 'O'), ('to', 'qub', 'O'), ('pan', 'subst:sg:nom:m1', 'O'), ('zięć', 'subst:sg:nom:m1', 'O'), ('?', 'interp', 'O'), ('a', 'qub', 'O'), ('cóż', 'qub', 'O'), ('to', 'qub', 'O'), ('o', 'prep:loc', 'O'), ('panu', 'subst:sg:loc:m1', 'O'), ('inżynierze', 'subst:sg:loc:m1', 'O'), ('nie', 'qub', 'O'), ('słychać', 'pred', 'O'), ('?', 'interp', 'O'), ('Prawie', 'qub', 'O'), ('wesoła', 'adj:sg:nom:f:pos', 'O'), ('-', 'interp', 'O'), ('dokończyła', 'praet:sg:f:perf', 'O'), ('przy', 'prep:loc', 'O'), ('pomocy', 'subst:sg:loc:f', 'O'), ('krokodyla', 'subst:sg:gen:m2', 'O'), ('zdejmowania', 'ger:sg:gen:n:imperf:aff', 'O'), ('chusty', 'subst:sg:gen:f', 'O'), ('.', 'interp', 'O')], [('Strzepnęła', 'praet:sg:f:perf', 'O'), ('ją', 'ppron3:sg:acc:f:ter:akc:npraep', 'O'), (',', 'interp', 'O'), ('złożyła', 'praet:sg:f:perf', 'O'), (',', 'interp', 'O'), ('odniosła', 'praet:sg:f:perf', 'O'), ('tamże', 'adv', 'O'), (',', 'interp', 'O'), ('gdzie', 'adv', 'O'), ('portrecik', 'subst:sg:acc:m3', 'O'), ('ojca', 'subst:sg:gen:m1', 'O'), ('.', 'interp', 'O')], [('Telefon', 'subst:sg:nom:m3', 'O'), ('zadzwonił', 'praet:sg:m3:perf', 'O'), (',', 'interp', 'O'), ('upudrowała', 'praet:sg:f:perf', 'O'), ('się', 'qub', 'O'), ('gorączkowo', 'adv:pos', 'O'), (',', 'interp', 'O'), ('przybrała', 'praet:sg:f:perf', 'O'), ('oschły', 'adj:sg:acc:m3:pos', 'O'), ('wyraz', 'subst:sg:acc:m3', 'O'), ('twarzy', 'subst:sg:gen:f', 'O'), ('-', 'interp', 'O'), ('może', 'qub', 'O'), ('Marta', 'subst:sg:nom:f', 'persName_forename'), ('?', 'interp', 'O'), ('-', 'interp', 'O'), ('i', 'conj', 'O'), ('podeszła', 'praet:sg:f:perf', 'O'), ('do', 'prep:gen', 'O'), ('aparatu', 'subst:sg:gen:m3', 'O'), ('.', 'interp', 'O')], [('Ledwie', 'comp', 'O'), ('zdjęła', 'praet:sg:f:perf', 'O'), ('słuchawkę', 'subst:sg:acc:f', 'O'), (',', 'interp', 'O'), ('Sabina', 'subst:sg:nom:f', 'persName_forename'), ('przycwałowała', 'praet:sg:f:perf', 'O'), ('słoniowym', 'adj:sg:inst:m3:pos', 'O'), ('truchtem', 'subst:sg:inst:m3', 'O'), ('przez', 'prep:acc:nwok', 'O'), ('korytarz', 'subst:sg:acc:m3', 'O'), ('.', 'interp', 'O')], [('Róża', 'subst:sg:nom:f', 'persName_forename'), ('milczała', 'praet:sg:f:imperf', 'O'), ('.', 'interp', 'O')], [('Słuchała', 'praet:sg:f:imperf', 'O'), ('napomnień', 'subst:pl:gen:n', 'O'), ('jak', 'adv:pos', 'O'), ('ptasiego', 'adj:sg:gen:m3:pos', 'O'), ('szczebiotu', 'subst:sg:gen:m3', 'O'), (',', 'interp', 'O'), ('który', 'adj:sg:nom:m3:pos', 'O'), ('do', 'prep:gen', 'O'), ('niczego', 'subst:sg:gen:n', 'O'), ('nie', 'qub', 'O'), ('obowiązuje', 'fin:sg:ter:imperf', 'O'), (',', 'interp', 'O'), ('gdyż', 'comp', 'O'), ('nic', 'subst:sg:gen:n', 'O'), ('ludzkiego', 'adj:sg:gen:n:pos', 'O'), ('nie', 'qub', 'O'), ('oznacza', 'fin:sg:ter:imperf', 'O'), ('.', 'interp', 'O')], [('Oczy', 'subst:pl:acc:n', 'O'), ('powlekła', 'praet:sg:f:perf', 'O'), ('biaława', 'adj:sg:nom:f:pos', 'O'), ('szklistość', 'subst:sg:nom:f', 'O'), (',', 'interp', 'O'), ('co', 'subst:sg:nom:n', 'O'), ('wzmogło', 'praet:sg:n:perf', 'O'), ('tajemnicę', 'subst:sg:acc:f', 'O'), ('spojrzenia', 'subst:sg:gen:n', 'O'), ('.', 'interp', 'O')], [('Wydawała', 'praet:sg:f:imperf', 'O'), ('się', 'qub', 'O'), ('spoczywać', 'inf:imperf', 'O'), ('po', 'prep:loc', 'O'), ('niezmiernym', 'adj:sg:loc:m3:pos', 'O'), ('wysiłku', 'subst:sg:loc:m3', 'O'), ('-', 'interp', 'O'), ('szczęśliwa', 'adj:sg:nom:f:pos', 'O'), ('ze', 'prep:gen:wok', 'O'), ('zdobyczy', 'subst:sg:gen:f', 'O'), (',', 'interp', 'O'), ('pewna', 'adj:sg:nom:f:pos', 'O'), ('własnej', 'adj:sg:gen:f:pos', 'O'), ('potęgi', 'subst:sg:gen:f', 'O'), (',', 'interp', 'O'), ('wreszcie', 'qub', 'O'), ('syta', 'adj:sg:nom:f:pos', 'O'), ('wiedzy', 'subst:sg:gen:f', 'O'), ('i', 'conj', 'O'), ('spokoju', 'subst:sg:gen:m3', 'O'), ('.', 'interp', 'O')], [('Uśmiechnęła', 'praet:sg:f:perf', 'O'), ('się', 'qub', 'O'), ('do', 'prep:gen', 'O'), ('córki', 'subst:sg:gen:f', 'O'), ('ze', 'prep:gen:wok', 'O'), ('swej', 'adj:sg:gen:f:pos', 'O'), ('błogiej', 'adj:sg:gen:f:pos', 'O'), ('dali', 'subst:sg:gen:f', 'O'), ('.', 'interp', 'O')], [('Radio', 'subst:sg:nom:n', 'O'), ('gra', 'fin:sg:ter:imperf', 'O'), (\"'\", 'interp', 'O'), ('Close', 'subst:sg:acc:n', 'O'), ('your', 'subst:sg:acc:n', 'O'), ('eyes', 'subst:sg:acc:n', 'O'), (\"'\", 'interp', 'O'), ('.', 'interp', 'O')], [('Róża', 'subst:sg:nom:f', 'persName_forename'), ('-', 'interp', 'O'), ('wzburzona', 'ppas:sg:nom:f:perf:aff', 'O'), ('pominięciem', 'ger:sg:inst:n:perf:aff', 'O'), ('przez', 'prep:acc:nwok', 'O'), ('córkę', 'subst:sg:acc:f', 'O'), ('swojej', 'adj:sg:gen:f:pos', 'O'), ('wizyty', 'subst:sg:gen:f', 'O'), (',', 'interp', 'O'), ('zirytowana', 'ppas:sg:nom:f:perf:aff', 'O'), ('brakiem', 'subst:sg:inst:m3', 'O'), ('szacunku', 'subst:sg:gen:m3', 'O'), ('tutaj', 'adv', 'O'), (',', 'interp', 'O'), ('w', 'prep:loc:nwok', 'O'), ('tym', 'adj:sg:loc:m3:pos', 'O'), ('zięciowskim', 'adj:sg:loc:m3:pos', 'O'), ('domu', 'subst:sg:loc:m3', 'O'), (',', 'interp', 'O'), ('dla', 'prep:gen', 'O'), ('empirowego', 'adj:sg:gen:m3:pos', 'O'), ('stolika', 'subst:sg:gen:m3', 'O'), (',', 'interp', 'O'), ('zmęczona', 'ppas:sg:nom:f:perf:aff', 'O'), ('gniewem', 'subst:sg:inst:m3', 'O'), ('-', 'interp', 'O'), ('usłyszała', 'praet:sg:f:perf', 'O'), ('pieśń', 'subst:sg:acc:f', 'O'), ('i', 'conj', 'O'), ('pragnęła', 'praet:sg:f:imperf', 'O'), ('zapomnieć', 'inf:perf', 'O'), (',', 'interp', 'O'), ('jaki', 'adj:sg:nom:m3:pos', 'O'), ('jest', 'fin:sg:ter:imperf', 'O'), ('dzień', 'subst:sg:nom:m3', 'O'), (',', 'interp', 'O'), ('jaka', 'adj:sg:nom:f:pos', 'O'), ('sytuacja', 'subst:sg:nom:f', 'O'), ('.', 'interp', 'O')], [('Zerknęła', 'praet:sg:f:perf', 'O'), ('w', 'prep:acc:nwok', 'O'), ('lustro', 'subst:sg:acc:n', 'O'), (',', 'interp', 'O'), ('obciągnęła', 'praet:sg:f:perf', 'O'), ('na', 'prep:loc', 'O'), ('sobie', 'siebie:loc', 'O'), ('sweter', 'subst:sg:acc:m3', 'O'), ('w', 'prep:acc:nwok', 'O'), ('czerwone', 'adj:pl:acc:n:pos', 'O'), ('skrzydła', 'subst:pl:acc:n', 'O'), ('.', 'interp', 'O')], [('Marta', 'subst:sg:nom:f', 'persName_forename'), ('rzuciła', 'praet:sg:f:perf', 'O'), ('telefon', 'subst:sg:acc:m3', 'O'), (';', 'interp', 'O'), ('stając', 'pcon:imperf', 'O'), ('na', 'prep:loc', 'O'), ('progu', 'subst:sg:loc:m3', 'O'), (',', 'interp', 'O'), ('stanęła', 'praet:sg:f:perf', 'O'), ('twarzą', 'subst:sg:inst:f', 'O'), ('w', 'prep:acc:nwok', 'O'), ('twarz', 'subst:sg:acc:f', 'O'), ('z', 'prep:inst:nwok', 'O'), ('matką', 'subst:sg:inst:f', 'O'), ('.', 'interp', 'O')], [('Róża', 'subst:sg:nom:f', 'persName_forename'), ('-', 'interp', 'O'), ('wysoko', 'adv:pos', 'O'), ('osadzona', 'ppas:sg:nom:f:perf:aff', 'O'), ('-', 'interp', 'O'), ('patrzyła', 'praet:sg:f:imperf', 'O'), ('przed', 'prep:acc:nwok', 'O'), ('siebie', 'siebie:acc', 'O'), ('nad', 'prep:acc:nwok', 'O'), ('miarę', 'subst:sg:acc:f', 'O'), ('otwartymi', 'ppas:pl:inst:n:perf:aff', 'O'), ('oczami', 'subst:pl:inst:n', 'O'), ('.', 'interp', 'O')], [('W', 'prep:loc:nwok', 'O'), ('tych', 'adj:pl:loc:n:pos', 'O'), ('oczach', 'subst:pl:loc:n', 'O'), ('odbijał', 'praet:sg:m3:imperf', 'O'), ('się', 'qub', 'O'), ('widok', 'subst:sg:nom:m3', 'O'), ('nietutejszy', 'adj:sg:nom:m3:pos', 'O'), ('.', 'interp', 'O')], [('Źrenice', 'subst:pl:nom:f', 'O'), ('usiłowały', 'praet:pl:f:imperf', 'O'), ('go', 'ppron3:sg:acc:m3:ter:nakc:npraep', 'O'), ('ogarnąć', 'inf:perf', 'O'), ('w', 'prep:loc:nwok', 'O'), ('całej', 'adj:sg:loc:f:pos', 'O'), ('jego', 'ppron3:sg:gen:m3:ter:akc:npraep', 'O'), ('dzikiej', 'adj:sg:loc:f:pos', 'O'), ('wielkości', 'subst:sg:loc:f', 'O'), (',', 'interp', 'O'), ('rozszerzały', 'praet:pl:f:imperf', 'O'), ('się', 'qub', 'O'), (',', 'interp', 'O'), ('rosły', 'praet:pl:f:imperf', 'O'), ('ciągle', 'adv:pos', 'O'), ('Marta', 'subst:sg:nom:f', 'persName_forename'), ('w', 'prep:loc:nwok', 'O'), ('smudze', 'subst:sg:loc:f', 'O'), ('nieziemskiego', 'adj:sg:gen:n:pos', 'O'), ('widzenia', 'ger:sg:gen:n:imperf:aff', 'O'), ('szła', 'praet:sg:f:imperf', 'O'), ('ścierpnięta', 'ppas:sg:nom:f:perf:aff', 'O'), ('.', 'interp', 'O')], [('Uklękła', 'praet:sg:f:perf', 'O'), ('.', 'interp', 'O')], [('Opasała', 'praet:sg:f:perf', 'O'), ('ramionami', 'subst:pl:inst:n', 'O'), ('duże', 'adj:sg:acc:n:pos', 'O'), (',', 'interp', 'O'), ('ciepłe', 'adj:sg:acc:n:pos', 'O'), ('ciało', 'subst:sg:acc:n', 'O'), (',', 'interp', 'O'), ('przytuliła', 'praet:sg:f:perf', 'O'), ('głowę', 'subst:sg:acc:f', 'O'), ('do', 'prep:gen', 'O'), ('łona', 'subst:sg:gen:n', 'O'), (',', 'interp', 'O'), ('które', 'adj:sg:nom:n:pos', 'O'), ('ją', 'ppron3:sg:acc:f:ter:akc:npraep', 'O'), ('wydało', 'praet:sg:n:perf', 'O'), ('światu', 'subst:sg:dat:m3', 'O'), ('.', 'interp', 'O')], [('W', 'prep:loc:nwok', 'O'), ('okresie', 'subst:sg:loc:m3', 'O'), ('szkolnym', 'adj:sg:loc:m3:pos', 'O'), ('nie', 'qub', 'O'), ('inaczej', 'adv', 'O'), ('przedstawiała', 'praet:sg:f:imperf', 'O'), ('się', 'qub', 'O'), ('sprawa', 'subst:sg:nom:f', 'O'), ('koleżanek', 'subst:pl:gen:f', 'O'), ('.', 'interp', 'O')], [('Raz', 'subst:sg:acc:m3', 'O'), ('do', 'prep:gen', 'O'), ('roku', 'subst:sg:gen:m3', 'O'), ('tylko', 'qub', 'O'), ('bywały', 'praet:pl:f:imperf', 'O'), ('zapraszane', 'ppas:pl:nom:f:imperf:aff', 'O'), ('.', 'interp', 'O')], [('Róża', 'subst:sg:nom:f', 'persName_forename'), ('wtedy', 'adv', 'O'), ('występowała', 'praet:sg:f:imperf', 'O'), ('ze', 'prep:inst:wok', 'O'), ('wspaniałym', 'adj:sg:inst:n:pos', 'O'), ('przyjęciem', 'subst:sg:inst:n', 'O'), ('.', 'interp', 'O')], [('Stół', 'subst:sg:nom:m3', 'O'), ('uginał', 'praet:sg:m3:imperf', 'O'), ('się', 'qub', 'O'), ('pod', 'prep:inst:nwok', 'O'), ('tortami', 'subst:pl:inst:m3', 'O'), (',', 'interp', 'O'), ('owocami', 'subst:pl:inst:m3', 'O'), (',', 'interp', 'O'), ('kremami', 'subst:pl:inst:m3', 'O'), (',', 'interp', 'O'), ('z', 'prep:gen:nwok', 'O'), ('mebli', 'subst:pl:gen:m3', 'O'), ('zdejmowano', 'imps:imperf', 'O'), ('pokrowce', 'subst:pl:acc:m3', 'O'), (',', 'interp', 'O'), ('srebra', 'subst:pl:nom:n', 'O'), ('błyszczały', 'praet:pl:n:imperf', 'O'), (',', 'interp', 'O'), ('posadzki', 'subst:pl:nom:f', 'O'), ('lśniły', 'praet:pl:f:imperf', 'O'), ('.', 'interp', 'O')], [('Program', 'subst:sg:nom:m3', 'O'), ('zabawy', 'subst:sg:gen:f', 'O'), ('był', 'praet:sg:m3:imperf', 'O'), ('ściśle', 'adv:pos', 'O'), ('ustalony', 'ppas:sg:nom:m3:perf:aff', 'O'), ('.', 'interp', 'O')], [('Zazwyczaj', 'adv', 'O'), ('latarnia', 'subst:sg:nom:f', 'O'), ('czarnoksięska', 'adj:sg:nom:f:pos', 'O'), ('zajmowała', 'praet:sg:f:imperf', 'O'), ('gros', 'num:pl:acc:m3:rec', 'O'), ('czasu', 'subst:sg:gen:m3', 'O'), (',', 'interp', 'O'), ('później', 'adv:com', 'O'), ('należało', 'praet:sg:n:imperf', 'O'), ('kolejno', 'adv:pos', 'O'), ('deklamować', 'inf:imperf', 'O'), ('wiersze', 'subst:pl:acc:m3', 'O'), (',', 'interp', 'O'), ('godzinę', 'subst:sg:acc:f', 'O'), ('trwał', 'praet:sg:m2:imperf', 'O'), (\"'\", 'interp', 'O'), ('talar', 'subst:sg:nom:m2', 'O'), (\"'\", 'interp', 'O'), ('i', 'conj', 'O'), (\"'\", 'interp', 'O'), ('pierścionek', 'subst:sg:nom:m3', 'O'), (\"'\", 'interp', 'O'), (',', 'interp', 'O'), ('godzinę', 'subst:sg:acc:f', 'O'), ('tańce', 'subst:pl:nom:m3', 'O'), (',', 'interp', 'O'), ('przeplatane', 'ppas:pl:nom:m3:imperf:aff', 'O'), ('grą', 'subst:sg:inst:f', 'O'), ('w', 'prep:acc:nwok', 'O'), ('szarady', 'subst:pl:acc:f', 'O'), ('i', 'conj', 'O'), ('lemoniadę', 'subst:sg:acc:f', 'O'), ('.', 'interp', 'O')], [('O', 'prep:loc', 'O'), ('ósmej', 'adj:sg:loc:f:pos', 'time'), ('wieczór', 'subst:sg:acc:m3', 'time'), ('gości', 'subst:pl:acc:m1', 'O'), ('żegnano', 'imps:imperf', 'O'), ('.', 'interp', 'O')], [('Ewa', 'subst:sg:nom:f', 'persName_forename'), (',', 'interp', 'O'), ('Éveline', 'subst:sg:nom:f', 'persName_forename'), ('-', 'interp', 'O'), ('to', 'pred', 'O'), ('było', 'praet:sg:n:imperf', 'O'), ('imię', 'subst:sg:nom:n', 'O'), (',', 'interp', 'O'), ('które', 'adj:sg:acc:n:pos', 'O'), ('nadała', 'praet:sg:f:perf', 'O'), ('jej', 'ppron3:sg:dat:f:ter:akc:npraep', 'O'), ('Luiza', 'subst:sg:nom:f', 'persName_forename'), (',', 'interp', 'O'), ('dla', 'prep:gen', 'O'), ('względów', 'subst:pl:gen:m3', 'O'), ('prestiżowych', 'adj:pl:gen:m3:pos', 'O'), ('.', 'interp', 'O')], [('Róża', 'subst:sg:nom:f', 'persName_forename'), ('pamiętała', 'praet:sg:f:imperf', 'O'), ('dobrze', 'adv:pos', 'O'), ('ten', 'adj:sg:acc:m3:pos', 'O'), ('dzień', 'subst:sg:acc:m3', 'O'), ('.', 'interp', 'O')], [('Jesienią', 'subst:sg:inst:f', 'O'), ('w', 'prep:acc:nwok', 'O'), ('niedzielę', 'subst:sg:acc:f', 'O'), ('szły', 'praet:pl:f:imperf', 'O'), ('z', 'prep:inst:nwok', 'O'), ('ciotką', 'subst:sg:inst:f', 'O'), ('na', 'prep:acc', 'O'), ('obrzędowy', 'adj:sg:acc:m3:pos', 'O'), ('spacer', 'subst:sg:acc:m3', 'O'), ('do', 'prep:gen', 'O'), ('Łazienek', 'subst:pl:gen:n', 'geogName'), (',', 'interp', 'O'), ('placem', 'subst:sg:inst:m3', 'geogName'), ('Wareckim', 'adj:sg:inst:m3:pos', 'geogName'), (',', 'interp', 'O'), ('ulicą', 'subst:sg:inst:f', 'geogName'), ('Szpitalną', 'adj:sg:inst:f:pos', 'geogName'), (',', 'interp', 'O'), ('Bracką', 'adj:sg:inst:f:pos', 'geogName'), (',', 'interp', 'O'), ('Alejami', 'subst:pl:inst:f', 'geogName'), ('.', 'interp', 'O')], [('Dorożki', 'subst:pl:nom:f', 'O'), ('i', 'conj', 'O'), ('kabriolety', 'subst:pl:nom:m3', 'O'), ('turkotały', 'praet:pl:m3:imperf', 'O'), ('po', 'prep:loc', 'O'), ('wyboistym', 'adj:sg:loc:m3:pos', 'O'), ('bruku', 'subst:sg:loc:m3', 'O'), ('.', 'interp', 'O')], [('W', 'prep:loc:nwok', 'O'), ('pojazdach', 'subst:pl:loc:m3', 'O'), ('piętrzyły', 'praet:pl:f:imperf', 'O'), ('się', 'qub', 'O'), ('damy', 'subst:pl:nom:f', 'O'), ('i', 'conj', 'O'), ('dziewczynki', 'subst:pl:nom:f', 'O'), (',', 'interp', 'O'), ('szumiące', 'pact:pl:nom:f:imperf:aff', 'O'), ('od', 'prep:gen:nwok', 'O'), ('krochmalu', 'subst:sg:gen:m3', 'O'), (',', 'interp', 'O'), ('od', 'prep:gen:nwok', 'O'), ('jedwabiu', 'subst:sg:gen:m3', 'O'), ('liberty', 'adj:sg:gen:m3:pos', 'O'), (',', 'interp', 'O'), ('od', 'prep:gen:nwok', 'O'), ('ostrowłosej', 'adj:sg:gen:f:pos', 'O'), ('sztywnej', 'adj:sg:gen:f:pos', 'O'), ('wełny', 'subst:sg:gen:f', 'O'), ('.', 'interp', 'O')], [('Panowie', 'subst:pl:nom:m1', 'O'), ('w', 'prep:loc:nwok', 'O'), ('cylindrach', 'subst:pl:loc:m3', 'O'), ('i', 'conj', 'O'), ('w', 'prep:loc:nwok', 'O'), ('melonikach', 'subst:pl:loc:m3', 'O'), ('tkwili', 'praet:pl:m1:imperf', 'O'), ('bokiem', 'subst:sg:inst:m3', 'O'), ('na', 'prep:loc', 'O'), ('przednich', 'adj:pl:loc:f:pos', 'O'), ('ławeczkach', 'subst:pl:loc:f', 'O'), ('.', 'interp', 'O')], [('Wówczas', 'adv', 'O'), ('Martę', 'subst:sg:acc:f', 'persName_forename'), ('strach', 'subst:sg:nom:m3', 'O'), ('przejął', 'praet:sg:m3:perf', 'O'), ('.', 'interp', 'O')], [('Jak', 'adv:pos', 'O'), ('to', 'subst:sg:nom:n', 'O'), ('?', 'interp', 'O'), ('Więc', 'conj', 'O'), ('śpiew', 'subst:sg:nom:m3', 'O'), ('córki', 'subst:sg:gen:f', 'O'), ('przestał', 'praet:sg:m3:perf', 'O'), ('być', 'inf:imperf', 'O'), ('własną', 'adj:sg:inst:f:pos', 'O'), ('sprawą', 'subst:sg:inst:f', 'O'), ('Róży', 'subst:sg:gen:f', 'persName_forename'), ('?', 'interp', 'O'), ('Więc', 'conj', 'O'), ('pojawiły', 'praet:pl:f:perf', 'O'), ('się', 'qub', 'O'), ('jakieś', 'adj:pl:nom:f:pos', 'O'), ('inne', 'adj:pl:nom:f:pos', 'O'), ('sprawy', 'subst:pl:nom:f', 'O'), ('?', 'interp', 'O'), ('Prawda', 'subst:sg:nom:f', 'O'), (':', 'interp', 'O'), ('codzienny', 'adj:sg:nom:m3:pos', 'O'), (',', 'interp', 'O'), ('nieubłagany', 'adj:sg:nom:m3:pos', 'O'), ('przymus', 'subst:sg:nom:m3', 'O'), (\"'\", 'interp', 'O'), ('stąd', 'adv', 'O'), ('dotąd', 'adv', 'O'), (',', 'interp', 'O'), ('stąd', 'adv', 'O'), ('dotąd', 'adv', 'O'), ('masz', 'fin:sg:sec:imperf', 'O'), ('się', 'qub', 'O'), ('nauczyć', 'inf:perf', 'O'), (',', 'interp', 'O'), ('pamiętaj', 'impt:sg:sec:imperf', 'O'), (',', 'interp', 'O'), ('żeby', 'comp', 'O'), ('następnym', 'adj:sg:inst:m3:pos', 'O'), ('razem', 'subst:sg:inst:m3', 'O'), ('nie', 'qub', 'O'), ('powtórzył', 'praet:sg:m3:perf', 'O'), ('się', 'qub', 'O'), ('ten', 'adj:sg:nom:m3:pos', 'O'), ('błąd', 'subst:sg:nom:m3', 'O'), (\"'\", 'interp', 'O'), ('-', 'interp', 'O'), ('jak', 'adv:pos', 'O'), ('gdyby', 'comp', 'O'), ('chodziło', 'praet:sg:n:imperf', 'O'), ('o', 'prep:acc', 'O'), ('małą', 'adj:sg:acc:f:pos', 'O'), (',', 'interp', 'O'), ('bezwolną', 'adj:sg:acc:f:pos', 'O'), ('dziewczynę', 'subst:sg:acc:f', 'O'), ('-', 'interp', 'O'), ('to', 'subst:sg:nom:n', 'O'), ('dokuczało', 'praet:sg:n:imperf', 'O'), ('Marcie', 'subst:sg:dat:f', 'persName_forename'), ('do', 'prep:gen', 'O'), ('żywego', 'adj:sg:gen:n:pos', 'O'), ('.', 'interp', 'O')], [('Ale', 'conj', 'O'), ('mimo', 'prep:nom', 'O'), ('wszystkie', 'adj:pl:nom:m3:pos', 'O'), ('bunty', 'subst:pl:nom:m3', 'O'), ('-', 'interp', 'O'), ('niczego', 'subst:sg:gen:n', 'O'), ('tak', 'adv:pos', 'O'), ('nie', 'qub', 'O'), ('lubiła', 'praet:sg:f:imperf', 'O'), ('jak', 'adv:pos', 'O'), ('widzieć', 'inf:imperf', 'O'), ('matkę', 'subst:sg:acc:f', 'O'), ('szczęśliwą', 'adj:sg:acc:f:pos', 'O'), ('ze', 'prep:gen:wok', 'O'), ('swojej', 'adj:sg:gen:f:pos', 'O'), ('przyczyny', 'subst:sg:gen:f', 'O'), ('.', 'interp', 'O')], [('Marta', 'subst:sg:nom:f', 'persName_forename'), ('ciskała', 'praet:sg:f:imperf', 'O'), ('nuty', 'subst:pl:acc:n', 'O'), (',', 'interp', 'O'), ('zamykała', 'praet:sg:f:imperf', 'O'), ('się', 'qub', 'O'), ('z', 'prep:inst:nwok', 'O'), ('trzaskiem', 'subst:sg:inst:m3', 'O'), ('u', 'prep:gen', 'O'), ('siebie', 'siebie:gen', 'O'), ('.', 'interp', 'O')], [('W', 'prep:loc:nwok', 'O'), ('ciągu', 'subst:sg:loc:m3', 'O'), ('następnych', 'adj:pl:gen:f:pos', 'O'), ('lekcyj', 'subst:pl:gen:f', 'O'), ('rozbujanie', 'ger:sg:acc:n:perf:aff', 'O'), ('frazy', 'subst:sg:gen:f', 'O'), ('dawało', 'praet:sg:n:imperf', 'O'), ('się', 'qub', 'O'), ('powściągnąć', 'inf:perf', 'O'), (',', 'interp', 'O'), ('także', 'qub', 'O'), ('styl', 'subst:sg:acc:m3', 'O'), ('i', 'conj', 'O'), ('barwę', 'subst:sg:acc:f', 'O'), ('uczuciową', 'adj:sg:acc:f:pos', 'O'), ('poddawała', 'praet:sg:f:imperf', 'O'), ('Róża', 'subst:sg:nom:f', 'persName_forename'), (';', 'interp', 'O'), ('a', 'conj', 'O'), ('jednak', 'conj', 'O'), ('ostateczny', 'adj:sg:nom:m3:pos', 'O'), ('rezultat', 'subst:sg:nom:m3', 'O'), ('pracy', 'subst:sg:gen:f', 'O'), ('zawierał', 'praet:sg:m3:imperf', 'O'), ('w', 'prep:loc:nwok', 'O'), ('sobie', 'siebie:loc', 'O'), ('ten', 'adj:sg:acc:m3:pos', 'O'), ('urzekający', 'adj:sg:acc:m3:pos', 'O'), ('pierwiastek', 'subst:sg:acc:m3', 'O'), ('-', 'interp', 'O'), ('nowość', 'subst:sg:acc:f', 'O'), (',', 'interp', 'O'), ('którą', 'adj:sg:acc:f:pos', 'O'), ('do', 'prep:gen', 'O'), ('trudu', 'subst:sg:gen:m3', 'O'), ('kompozytora', 'subst:sg:gen:m1', 'O'), ('i', 'conj', 'O'), ('Róży', 'subst:sg:gen:f', 'persName_forename'), ('dodawała', 'praet:sg:f:imperf', 'O'), ('Marta', 'subst:sg:nom:f', 'persName_forename'), ('z', 'prep:gen:nwok', 'O'), ('zasobów', 'subst:pl:gen:m3', 'O'), ('własnego', 'adj:sg:gen:m3:pos', 'O'), ('organizmu', 'subst:sg:gen:m3', 'O'), ('.', 'interp', 'O')], [('Róża', 'subst:sg:nom:f', 'persName_forename'), ('chwytała', 'praet:sg:f:imperf', 'O'), ('dziewczęce', 'adj:pl:acc:m3:pos', 'O'), ('fluidy', 'subst:pl:acc:m3', 'O'), (',', 'interp', 'O'), ('przesączone', 'ppas:pl:acc:m3:perf:aff', 'O'), ('w', 'prep:acc:nwok', 'O'), ('melodie', 'subst:pl:acc:f', 'O'), (',', 'interp', 'O'), ('doznając', 'pcon:imperf', 'O'), ('głębokiego', 'adj:sg:gen:n:pos', 'O'), ('wzruszenia', 'subst:sg:gen:n', 'O'), (':', 'interp', 'O'), (\"'\", 'interp', 'O'), ('Więc', 'conj', 'O'), ('to', 'pred', 'O'), ('jest', 'fin:sg:ter:imperf', 'O'), ('Marta', 'subst:sg:nom:f', 'persName_forename'), (',', 'interp', 'O'), ('więc', 'conj', 'O'), ('taka', 'adj:sg:nom:f:pos', 'O'), ('jest', 'fin:sg:ter:imperf', 'O'), ('córeczka', 'subst:sg:nom:f', 'O'), ('Adama', 'subst:sg:gen:m1', 'persName_forename'), (\"'\", 'interp', 'O'), ('.', 'interp', 'O')], [('Róża', 'subst:sg:nom:f', 'persName_forename'), ('opuściła', 'praet:sg:f:perf', 'O'), ('ręce', 'subst:pl:acc:f', 'O'), ('.', 'interp', 'O')], [('Siadła', 'praet:sg:f:perf', 'O'), ('-', 'interp', 'O'), ('nogi', 'subst:pl:nom:f', 'O'), ('drżały', 'praet:pl:f:imperf', 'O'), ('.', 'interp', 'O')], [('Rzuciła', 'praet:sg:f:perf', 'O'), ('smyczek', 'subst:sg:acc:m3', 'O'), ('.', 'interp', 'O')], [('Księżycowa', 'adj:sg:nom:f:pos', 'O'), ('orkiestra', 'subst:sg:nom:f', 'O'), ('pod', 'prep:inst:nwok', 'O'), ('batutą', 'subst:sg:inst:f', 'O'), ('Brahmsa', 'subst:sg:gen:m1', 'persName_surname'), ('grała', 'praet:sg:f:imperf', 'O'), ('dalej', 'adv:com', 'O'), ('.', 'interp', 'O')], [('Tylko', 'conj', 'O'), ('na', 'prep:loc', 'O'), ('miejscu', 'subst:sg:loc:n', 'O'), ('skrzypiec', 'subst:pl:gen:n', 'O'), ('wystąpiła', 'praet:sg:f:perf', 'O'), ('cisza', 'subst:sg:nom:f', 'O'), ('-', 'interp', 'O'), ('czarna', 'adj:sg:nom:f:pos', 'O'), ('jak', 'prep:nom', 'O'), ('zaskórna', 'adj:sg:nom:f:pos', 'O'), ('woda', 'subst:sg:nom:f', 'O'), ('.', 'interp', 'O')], [('Jeszcze', 'qub', 'O'), ('tu', 'adv', 'O'), ('i', 'conj', 'O'), ('ówdzie', 'adv', 'O'), ('błyskał', 'praet:sg:m3:imperf', 'O'), ('refleks', 'subst:sg:nom:m3', 'O'), ('sola', 'subst:sg:gen:n', 'O'), ('.', 'interp', 'O')], [('cisza', 'subst:sg:nom:f', 'O'), ('przecież', 'qub', 'O'), ('czyniła', 'praet:sg:f:imperf', 'O'), ('się', 'qub', 'O'), ('coraz', 'adv', 'O'), ('głębsza', 'adj:sg:nom:f:com', 'O'), (',', 'interp', 'O'), ('szersza', 'adj:sg:nom:f:com', 'O'), ('i', 'conj', 'O'), ('pochłaniała', 'praet:sg:f:imperf', 'O'), ('resztkę', 'subst:sg:acc:f', 'O'), ('wibracji', 'subst:pl:gen:f', 'O'), ('.', 'interp', 'O')], [('Z', 'prep:acc:nwok', 'O'), ('wolna', 'adjp', 'O'), ('milkły', 'praet:pl:m3:imperf', 'O'), ('także', 'qub', 'O'), ('widmowe', 'adj:pl:nom:m3:pos', 'O'), ('instrumenty', 'subst:pl:nom:m3', 'O'), ('.', 'interp', 'O')], [('Po', 'prep:acc', 'O'), ('jednemu', 'adjp', 'O'), ('wsiąkały', 'praet:pl:m3:imperf', 'O'), ('w', 'prep:acc:nwok', 'O'), ('próżnię', 'subst:sg:acc:f', 'O'), ('.', 'interp', 'O')], [('Chaos', 'subst:sg:nom:m3', 'O'), ('bezdźwięczny', 'adj:sg:nom:m3:pos', 'O'), ('pokrył', 'praet:sg:m3:perf', 'O'), ('wreszcie', 'qub', 'O'), ('harmonię', 'subst:sg:acc:f', 'O'), ('.', 'interp', 'O')], [('Gdy', 'adv', 'O'), ('jej', 'ppron3:sg:gen:f:ter:akc:npraep', 'O'), ('rogaty', 'adj:sg:nom:m3:pos', 'O'), ('łeb', 'subst:sg:nom:m3', 'O'), ('ukazał', 'praet:sg:m3:perf', 'O'), ('się', 'qub', 'O'), ('w', 'prep:loc:nwok', 'O'), ('chaszczach', 'subst:pl:loc:n', 'O'), (',', 'interp', 'O'), ('Coto', 'subst:sg:nom:m2', 'persName_forename'), ('odetchnął', 'praet:sg:m2:perf', 'O'), ('i', 'conj', 'O'), ('puścił', 'praet:sg:m2:perf', 'O'), ('się', 'qub', 'O'), ('jej', 'ppron3:sg:gen:f:ter:akc:npraep', 'O'), ('śladem', 'subst:sg:inst:m3', 'O'), (',', 'interp', 'O'), ('na', 'prep:acc', 'O'), ('nic', 'subst:sg:acc:n', 'O'), ('nie', 'qub', 'O'), ('zważając', 'pcon:imperf', 'O'), ('.', 'interp', 'O')], [('Ale', 'conj', 'O'), ('Hatora', 'subst:sg:nom:f', 'persName_forename'), ('też', 'qub', 'O'), ('nie', 'qub', 'O'), ('pilnowała', 'praet:sg:f:imperf', 'O'), ('się', 'qub', 'O'), ('żadnego', 'adj:sg:gen:m3:pos', 'O'), ('szlaku', 'subst:sg:gen:m3', 'O'), (':', 'interp', 'O'), ('rżnęła', 'praet:sg:f:imperf', 'O'), ('prosto', 'adv:pos', 'O'), ('-', 'interp', 'O'), ('łozy', 'subst:pl:nom:f', 'O'), ('nie', 'qub', 'O'), ('łozy', 'subst:pl:nom:f', 'O'), (',', 'interp', 'O'), ('błoto', 'subst:sg:nom:n', 'O'), ('nie', 'qub', 'O'), ('błoto', 'subst:sg:nom:n', 'O'), (',', 'interp', 'O'), ('ruczaj', 'subst:sg:nom:m3', 'O'), ('nie', 'qub', 'O'), ('ruczaj', 'subst:sg:nom:m3', 'O'), ('.', 'interp', 'O')], [('Szczęściem', 'subst:sg:inst:n', 'O'), (',', 'interp', 'O'), ('że', 'comp', 'O'), ('była', 'praet:sg:f:imperf', 'O'), ('syta', 'adj:sg:nom:f:pos', 'O'), (',', 'interp', 'O'), ('więc', 'conj', 'O'), ('się', 'qub', 'O'), ('zbytnio', 'adv:pos', 'O'), ('do', 'prep:gen', 'O'), ('obroku', 'subst:sg:gen:m3', 'O'), ('nie', 'qub', 'O'), ('kwapiła', 'praet:sg:f:imperf', 'O'), (',', 'interp', 'O'), ('bo', 'comp', 'O'), ('by', 'qub', 'O'), ('jej', 'ppron3:sg:dat:f:ter:akc:npraep', 'O'), ('nie', 'qub', 'O'), ('sprostał', 'praet:sg:m2:perf', 'O'), ('.', 'interp', 'O')], [('I', 'conj', 'O'), ('zawrócił', 'praet:sg:m1:perf', 'O'), ('na', 'prep:acc', 'O'), ('rzekę', 'subst:sg:acc:f', 'O'), ('.', 'interp', 'O')], [('Znowu', 'qub', 'O'), ('toń', 'subst:sg:nom:f', 'O'), ('była', 'praet:sg:f:imperf', 'O'), ('gładka', 'adj:sg:nom:f:pos', 'O'), (',', 'interp', 'O'), ('niebo', 'subst:sg:nom:n', 'O'), ('błękitne', 'adj:sg:nom:n:pos', 'O'), (',', 'interp', 'O'), ('rozegrały', 'praet:pl:m2:perf', 'O'), ('się', 'qub', 'O'), ('ptaki', 'subst:pl:nom:m2', 'O'), (',', 'interp', 'O'), ('zapachniało', 'praet:sg:n:perf', 'O'), ('powietrze', 'subst:sg:nom:n', 'O'), ('.', 'interp', 'O')], [('Gdy', 'adv', 'O'), ('przybili', 'praet:pl:m1:perf', 'O'), (',', 'interp', 'O'), ('koło', 'prep:gen', 'O'), ('chaty', 'subst:sg:gen:f', 'O'), ('nie', 'qub', 'O'), ('było', 'praet:sg:n:imperf', 'O'), ('śladu', 'subst:sg:gen:m3', 'O'), ('szału', 'subst:sg:gen:m3', 'O'), (',', 'interp', 'O'), ('tylko', 'conj', 'O'), ('znak', 'subst:sg:nom:m3', 'O'), ('widomy', 'adj:sg:nom:m3:pos', 'O'), ('został', 'praet:sg:m3:perf', 'O'), (':', 'interp', 'O'), ('rozdarta', 'ppas:sg:nom:f:perf:aff', 'O'), ('gromem', 'subst:sg:inst:m3', 'O'), ('od', 'prep:gen:nwok', 'O'), ('szczytu', 'subst:sg:gen:m3', 'O'), ('do', 'prep:gen', 'O'), ('korzeni', 'subst:pl:gen:m3', 'O'), ('brzoza', 'subst:sg:nom:f', 'O'), ('u', 'prep:gen', 'O'), ('krynicy', 'subst:sg:gen:f', 'O'), ('.', 'interp', 'O')], [('Łatana', 'adj:sg:nom:f:pos', 'persName_addName'), ('Skóra', 'subst:sg:nom:f', 'persName_addName'), ('zarżała', 'praet:sg:f:perf', 'O'), ('do', 'prep:gen', 'O'), ('nich', 'ppron3:pl:gen:m1:ter:akc:praep', 'O'), ('ze', 'prep:gen:wok', 'O'), ('stajenki', 'subst:sg:gen:f', 'O'), ('i', 'conj', 'O'), ('z', 'prep:gen:nwok', 'O'), ('rękawa', 'subst:sg:gen:m3', 'O'), ('swego', 'adj:sg:gen:m3:pos', 'O'), ('wytknął', 'praet:sg:m2:perf', 'O'), ('pyszczek', 'subst:sg:acc:m3', 'O'), ('Kuba', 'subst:sg:nom:m2', 'persName_forename'), ('.', 'interp', 'O')], [('Wyciągnęli', 'praet:pl:m1:perf', 'O'), ('się', 'qub', 'O'), ('jak', 'adv:pos', 'O'), ('struny', 'subst:pl:nom:f', 'O'), ('i', 'conj', 'O'), ('z', 'prep:inst:nwok', 'O'), ('żywiołowym', 'adj:sg:inst:m3:pos', 'O'), ('rozmachem', 'subst:sg:inst:m3', 'O'), ('zaśpiewali', 'praet:pl:m1:perf', 'O'), (':', 'interp', 'O'), ('Jeszcze', 'qub', 'O'), ('Polska', 'subst:sg:nom:f', 'placeName_country'), ('nie', 'qub', 'O'), ('zginęła', 'praet:sg:f:perf', 'O'), ('.', 'interp', 'O')], [('Rwała', 'praet:sg:f:imperf', 'O'), ('się', 'qub', 'O'), ('pieśń', 'subst:sg:nom:f', 'O'), ('w', 'prep:loc:nwok', 'O'), ('zdławieniu', 'ger:sg:loc:n:perf:aff', 'O'), ('wrażenia', 'subst:sg:gen:n', 'O'), ('potężnego', 'adj:sg:gen:n:pos', 'O'), (',', 'interp', 'O'), ('w', 'prep:loc:nwok', 'O'), ('łzach', 'subst:pl:loc:f', 'O'), (',', 'interp', 'O'), ('co', 'comp', 'O'), ('znają', 'fin:pl:ter:imperf', 'O'), ('tylko', 'qub', 'O'), ('miłujący', 'pact:pl:nom:m1:imperf:aff', 'O'), ('i', 'conj', 'O'), ('mężni', 'adj:pl:nom:m1:pos', 'O'), (',', 'interp', 'O'), ('i', 'conj', 'O'), ('kwitła', 'praet:sg:f:imperf', 'O'), ('pieśń', 'subst:sg:nom:f', 'O'), ('nad', 'prep:inst:nwok', 'O'), ('mogiłą', 'subst:sg:inst:f', 'O'), (',', 'interp', 'O'), ('jakby', 'qub', 'O'), ('proporzec', 'subst:sg:nom:m3', 'O'), ('biało', 'adja', 'O'), ('-', 'interp', 'O'), ('amarantowy', 'adj:sg:nom:m3:pos', 'O'), (',', 'interp', 'O'), ('a', 'conj', 'O'), ('cichy', 'adj:sg:nom:m3:pos', 'O'), ('bór', 'subst:sg:nom:m3', 'O'), ('słuchał', 'praet:sg:m3:imperf', 'O'), ('i', 'conj', 'O'), ('dawne', 'adj:pl:acc:m3:pos', 'O'), ('czasy', 'subst:pl:acc:m3', 'O'), ('wspominał', 'praet:sg:m3:imperf', 'O'), ('.', 'interp', 'O')], [('Mogiła', 'subst:sg:nom:f', 'O'), ('wyrosła', 'praet:sg:f:perf', 'O'), (',', 'interp', 'O'), ('złocąc', 'pcon:imperf', 'O'), ('się', 'qub', 'O'), ('z', 'prep:acc:nwok', 'O'), ('daleka', 'adjp', 'O'), (',', 'interp', 'O'), ('a', 'conj', 'O'), ('obecni', 'adj:pl:nom:m1:pos', 'O'), ('pożegnali', 'praet:pl:m1:perf', 'O'), ('ją', 'ppron3:sg:acc:f:ter:akc:npraep', 'O'), ('ostatnią', 'adj:sg:inst:f:pos', 'O'), ('obrzędową', 'adj:sg:inst:f:pos', 'O'), ('pieśnią', 'subst:sg:inst:f', 'O'), (\"'\", 'interp', 'O'), ('Anioł', 'subst:sg:nom:m2', 'O'), ('Pański', 'adj:sg:nom:m2:pos', 'O'), (\"'\", 'interp', 'O'), ('.', 'interp', 'O')], [('Na', 'prep:acc', 'O'), ('długo', 'adv:pos', 'O'), ('przed', 'prep:inst:nwok', 'O'), ('zorzą', 'subst:sg:inst:f', 'O'), ('wrócili', 'praet:pl:m1:perf', 'O'), ('z', 'prep:gen:nwok', 'O'), ('folwarku', 'subst:sg:gen:m3', 'O'), ('Odrowążów', 'subst:pl:gen:m1', 'persName_surname'), ('z', 'prep:inst:nwok', 'O'), ('deskami', 'subst:pl:inst:f', 'O'), ('.', 'interp', 'O')], [('Szczepański', 'subst:sg:nom:m1', 'persName_surname'), ('przyniósł', 'praet:sg:m1:perf:nagl', 'O'), ('narzędzia', 'subst:pl:acc:n', 'O'), (',', 'interp', 'O'), ('i', 'conj', 'O'), ('rano', 'adv:pos', 'O'), ('już', 'qub', 'O'), ('drobna', 'adj:sg:nom:f:pos', 'O'), ('trumienka', 'subst:sg:nom:f', 'O'), ('była', 'praet:sg:f:imperf', 'O'), ('gotowa', 'adj:sg:nom:f:pos', 'O'), ('.', 'interp', 'O')], [('Na', 'prep:acc', 'O'), ('posłanie', 'subst:sg:acc:n', 'O'), ('z', 'prep:gen:nwok', 'O'), ('ziół', 'subst:pl:gen:n', 'O'), ('i', 'conj', 'O'), ('kwiatów', 'subst:pl:gen:m3', 'O'), ('ułożono', 'imps:perf', 'O'), ('kości', 'subst:pl:acc:f', 'O'), ('i', 'conj', 'O'), ('pokryto', 'imps:perf', 'O'), ('je', 'ppron3:pl:acc:f:ter:akc:npraep', 'O'), ('szczątkami', 'subst:pl:inst:m3', 'O'), ('sztandaru', 'subst:sg:gen:m3', 'O'), ('.', 'interp', 'O')], [('Po', 'prep:loc', 'O'), ('źdźble', 'subst:sg:loc:n', 'O'), ('srebrnej', 'adj:sg:gen:f:pos', 'O'), ('nici', 'subst:sg:gen:f', 'O'), ('wziął', 'praet:sg:m1:perf', 'O'), ('każdy', 'adj:sg:nom:m1:pos', 'O'), ('na', 'prep:acc', 'O'), ('pamiątkę', 'subst:sg:acc:f', 'O'), (',', 'interp', 'O'), ('a', 'conj', 'O'), ('z', 'prep:gen:nwok', 'O'), ('grubego', 'adj:sg:gen:m3:pos', 'O'), ('starego', 'adj:sg:gen:m3:pos', 'O'), ('modlitewnika', 'subst:sg:gen:m3', 'O'), ('Odrowąż', 'subst:sg:nom:m1', 'persName_surname'), ('odczytał', 'praet:sg:m1:perf', 'O'), ('modlitwy', 'subst:pl:acc:f', 'O'), ('.', 'interp', 'O')], [('Potem', 'adv', 'O'), ('Rosomak', 'subst:sg:nom:m1', 'persName_surname'), ('podał', 'praet:sg:m1:perf', 'O'), ('mu', 'ppron3:sg:dat:m1:ter:nakc:npraep', 'O'), ('strzelbę', 'subst:sg:acc:f', 'O'), (',', 'interp', 'O'), ('a', 'conj', 'O'), ('stary', 'adj:sg:nom:m1:pos', 'O'), ('ją', 'ppron3:sg:acc:f:ter:akc:npraep', 'O'), ('przyjął', 'praet:sg:m1:perf', 'O'), (',', 'interp', 'O'), ('jak', 'adv:pos', 'O'), ('święty', 'adj:sg:acc:m3:pos', 'O'), ('spadek', 'subst:sg:acc:m3', 'O'), (',', 'interp', 'O'), ('i', 'conj', 'O'), ('oddał', 'praet:sg:m1:perf', 'O'), ('Bartnikowi', 'subst:sg:dat:m1', 'persName_surname'), ('.', 'interp', 'O')], [('Nie', 'qub', 'O'), ('było', 'praet:sg:n:imperf', 'O'), ('pastucha', 'subst:sg:gen:m1', 'O'), ('i', 'conj', 'O'), ('jego', 'ppron3:sg:gen:m1:ter:akc:npraep', 'O'), ('bata', 'subst:sg:gen:m3', 'O'), (',', 'interp', 'O'), ('nie', 'qub', 'O'), ('było', 'praet:sg:n:imperf', 'O'), ('psów', 'subst:pl:gen:m2', 'O'), ('ani', 'conj', 'O'), ('łańcucha', 'subst:sg:gen:m3', 'O'), ('w', 'prep:loc:nwok', 'O'), ('dusznej', 'adj:sg:loc:f:pos', 'O'), ('oborze', 'subst:sg:loc:f', 'O'), (',', 'interp', 'O'), ('ani', 'conj', 'O'), ('zdradliwych', 'adj:pl:gen:m3:pos', 'O'), ('rogów', 'subst:pl:gen:m3', 'O'), ('zawistnych', 'adj:pl:gen:f:pos', 'O'), ('towarzyszek', 'subst:pl:gen:f', 'O'), ('.', 'interp', 'O')]]\n",
            "[[('Przez', 'prep:acc:nwok', 'O'), ('kilkadziesiąt', 'num:pl:acc:m3:rec', 'O'), ('lat', 'subst:pl:gen:m3', 'O'), ('badacze', 'subst:pl:nom:m1', 'O'), ('musieli', 'praet:pl:m1:imperf', 'O'), ('pogodzić', 'inf:perf', 'O'), ('się', 'qub', 'O'), ('z', 'prep:inst:nwok', 'O'), ('tym', 'adj:sg:inst:n:pos', 'O'), ('ograniczeniem', 'subst:sg:inst:n', 'O'), (',', 'interp', 'O'), ('choć', 'comp', 'O'), ('jego', 'ppron3:sg:gen:n:ter:akc:npraep', 'O'), ('świadomość', 'subst:sg:nom:f', 'O'), ('była', 'praet:sg:f:imperf', 'O'), ('coraz', 'adv', 'O'), ('bardziej', 'adv:com', 'O'), ('dokuczliwa', 'adj:sg:nom:f:pos', 'O'), (',', 'interp', 'O'), ('bo', 'comp', 'O'), ('zarówno', 'conj', 'O'), ('biolodzy', 'subst:pl:nom:m1', 'O'), ('i', 'conj', 'O'), ('lekarze', 'subst:pl:nom:m1', 'O'), (',', 'interp', 'O'), ('jak', 'conj', 'O'), ('ludzie', 'subst:pl:nom:m1', 'O'), ('zajmujący', 'pact:pl:nom:m1:imperf:aff', 'O'), ('się', 'qub', 'O'), ('budową', 'subst:sg:inst:f', 'O'), ('materii', 'subst:sg:gen:f', 'O'), ('nieożywionej', 'adj:sg:gen:f:pos', 'O'), ('wiedzieli', 'praet:pl:m1:imperf', 'O'), (',', 'interp', 'O'), ('że', 'comp', 'O'), ('wciąż', 'adv', 'O'), ('istnieją', 'fin:pl:ter:imperf', 'O'), ('niedostrzegalne', 'adj:pl:nom:m3:pos', 'O'), ('szczegóły', 'subst:pl:nom:m3', 'O'), (',', 'interp', 'O'), ('ważne', 'adj:pl:nom:m3:pos', 'O'), ('dla', 'prep:gen', 'O'), ('nauki', 'subst:sg:gen:f', 'O'), ('i', 'conj', 'O'), ('praktyki', 'subst:sg:gen:f', 'O'), ('.', 'interp', 'O')], [('Mikroświat', 'subst:sg:nom:m3', 'O'), ('wciąż', 'adv', 'O'), ('kusił', 'praet:sg:m3:imperf', 'O'), ('swymi', 'adj:pl:inst:f:pos', 'O'), ('tajemnicami', 'subst:pl:inst:f', 'O'), ('.', 'interp', 'O')], [('Celem', 'subst:sg:inst:m3', 'O'), ('moich', 'adj:pl:gen:n:pos', 'O'), ('badań', 'subst:pl:gen:n', 'O'), ('było', 'praet:sg:n:imperf', 'O'), ('stwierdzenie', 'ger:sg:nom:n:perf:aff', 'O'), (',', 'interp', 'O'), ('czy', 'qub', 'O'), ('populacje', 'subst:pl:nom:f', 'O'), ('pająka', 'subst:sg:gen:m2', 'O'), ('P', 'brev:pun', 'O'), ('.', 'interp', 'O')], [('moravicum', 'subst:sg:gen:m2', 'O'), (',', 'interp', 'O'), ('jako', 'conj', 'O'), ('bardzo', 'adv:pos', 'O'), ('charakterystycznego', 'adj:sg:gen:m1:pos', 'O'), ('przedstawiciela', 'subst:sg:gen:m1', 'O'), ('fauny', 'subst:sg:gen:f', 'O'), ('jaskiniowej', 'adj:sg:gen:f:pos', 'O'), ('Polski', 'subst:sg:gen:f', 'placeName_country'), (',', 'interp', 'O'), ('z', 'prep:gen:nwok', 'O'), ('różnych', 'adj:pl:gen:f:pos', 'O'), ('jaskiń', 'subst:pl:gen:f', 'O'), ('na', 'prep:loc', 'O'), ('Wyżynie', 'subst:sg:loc:f', 'geogName'), ('Krakowsko', 'adja', 'placeName_settlement'), ('-', 'interp', 'geogName'), ('Częstochowskiej', 'adj:sg:loc:f:pos', 'placeName_settlement'), (',', 'interp', 'O'), ('różnią', 'fin:pl:ter:imperf', 'O'), ('się', 'qub', 'O'), ('od', 'prep:gen:nwok', 'O'), ('siebie', 'siebie:gen', 'O'), ('pod', 'prep:inst:nwok', 'O'), ('względem', 'subst:sg:inst:m3', 'O'), ('cech', 'subst:pl:gen:f', 'O'), ('morfologicznych', 'adj:pl:gen:f:pos', 'O'), ('.', 'interp', 'O')], [('Pająki', 'subst:pl:acc:m2', 'O'), ('zebrał', 'praet:sg:m1:perf', 'O'), ('em', 'aglt:sg:pri:imperf:wok', 'O'), ('w', 'prep:loc:nwok', 'O'), ('czterech', 'num:pl:loc:f:congr', 'O'), ('jaskiniach', 'subst:pl:loc:f', 'O'), ('na', 'prep:loc', 'O'), ('Wyżynie', 'subst:sg:loc:f', 'geogName'), ('Krakowsko', 'adja', 'placeName_settlement'), ('-', 'interp', 'geogName'), ('Częstochowskiej', 'adj:sg:loc:f:pos', 'placeName_settlement'), (':', 'interp', 'O'), ('dwóch', 'num:pl:loc:f:congr', 'O'), ('znajdujących', 'pact:pl:loc:f:imperf:aff', 'O'), ('się', 'qub', 'O'), ('w', 'prep:loc:nwok', 'O'), ('najbardziej', 'adv:sup', 'O'), ('odległych', 'adj:pl:loc:m3:pos', 'O'), ('punktach', 'subst:pl:loc:m3', 'O'), ('występowania', 'subst:sg:gen:n', 'O'), ('omawianego', 'ppas:sg:gen:m2:imperf:aff', 'O'), ('pająka', 'subst:sg:gen:m2', 'O'), ('na', 'prep:loc', 'O'), ('tym', 'adj:sg:loc:m3:pos', 'O'), ('obszarze', 'subst:sg:loc:m3', 'O'), ('-', 'interp', 'O'), ('Dzwonnicy', 'subst:sg:loc:f', 'geogName'), ('i', 'conj', 'O'), ('Nietoperzowej', 'adj:sg:loc:f:pos', 'geogName'), ('oraz', 'conj', 'O'), ('dwóch', 'num:pl:loc:f:congr', 'O'), ('położonych', 'adj:pl:loc:f:pos', 'O'), ('blisko', 'prep:gen', 'O'), ('siebie', 'siebie:gen', 'O'), (',', 'interp', 'O'), ('tworzących', 'pact:pl:loc:f:imperf:aff', 'O'), ('jeden', 'adj:sg:acc:m3:pos', 'O'), ('system', 'subst:sg:acc:m3', 'O'), ('-', 'interp', 'O'), ('Olsztyńskiej', 'adj:sg:loc:f:pos', 'placeName_settlement'), ('i', 'conj', 'O'), ('Koralowej', 'adj:sg:loc:f:pos', 'geogName'), ('.', 'interp', 'O')], [('Ciekawe', 'adj:pl:nom:m3:pos', 'O'), ('wnioski', 'subst:pl:nom:m3', 'O'), ('płyną', 'fin:pl:ter:imperf', 'O'), ('z', 'prep:gen:nwok', 'O'), ('analizy', 'subst:sg:gen:f', 'O'), ('genów', 'subst:pl:gen:m3', 'O'), (',', 'interp', 'O'), ('którym', 'adj:pl:dat:m3:pos', 'O'), ('przypisano', 'imps:perf', 'O'), ('role', 'subst:pl:acc:f', 'O'), ('w', 'prep:loc:nwok', 'O'), ('procesach', 'subst:pl:loc:m3', 'O'), ('rozwoju', 'subst:sg:gen:m3', 'O'), ('i', 'conj', 'O'), ('różnicowania', 'ger:sg:gen:n:imperf:aff', 'O'), ('wielokomórkowego', 'adj:sg:gen:n:pos', 'O'), ('organizmu', 'subst:sg:gen:m3', 'O'), ('.', 'interp', 'O')], [('Strukturę', 'subst:sg:acc:f', 'O'), ('genów', 'subst:pl:gen:m3', 'O'), ('nicienia', 'subst:sg:gen:m2', 'O'), ('porównuje', 'fin:sg:ter:imperf', 'O'), ('się', 'qub', 'O'), ('z', 'prep:inst:nwok', 'O'), ('danymi', 'subst:pl:inst:f', 'O'), ('dotyczącymi', 'pact:pl:inst:f:imperf:aff', 'O'), ('poznanych', 'ppas:pl:gen:m3:perf:aff', 'O'), ('genów', 'subst:pl:gen:m3', 'O'), ('muszki', 'subst:sg:gen:f', 'O'), ('owocowej', 'adj:sg:gen:f:pos', 'O'), ('i', 'conj', 'O'), ('kręgowców', 'subst:pl:gen:m2', 'O'), ('.', 'interp', 'O')], [('Podobne', 'adj:pl:acc:m3:pos', 'O'), ('zestawy', 'subst:pl:acc:m3', 'O'), ('genów', 'subst:pl:gen:m3', 'O'), ('kierujące', 'pact:pl:acc:m3:imperf:aff', 'O'), ('tymi', 'adj:pl:inst:m3:pos', 'O'), ('procesami', 'subst:pl:inst:m3', 'O'), ('znaleziono', 'imps:perf', 'O'), ('we', 'prep:loc:wok', 'O'), ('wszystkich', 'adj:pl:loc:f:pos', 'O'), ('dotychczas', 'adv', 'O'), ('badanych', 'ppas:pl:loc:f:imperf:aff', 'O'), ('grupach', 'subst:pl:loc:f', 'O'), ('stworzeń', 'subst:pl:gen:n', 'O'), (',', 'interp', 'O'), ('są', 'fin:pl:ter:imperf', 'O'), ('one', 'ppron3:pl:nom:m3:ter:akc:npraep', 'O'), ('zatem', 'conj', 'O'), ('stare', 'adj:pl:nom:m3:pos', 'O'), ('ewolucyjnie', 'adv:pos', 'O'), ('.', 'interp', 'O')], [('W', 'prep:loc:nwok', 'O'), ('ciągu', 'subst:sg:loc:m3', 'O'), ('ostatnich', 'adj:pl:gen:m3:pos', 'O'), ('dziesięciu', 'num:pl:gen:m3:congr', 'O'), ('lat', 'subst:pl:gen:m3', 'O'), ('rynek', 'subst:sg:nom:m3', 'O'), ('pracy', 'subst:sg:gen:f', 'O'), ('w', 'prep:loc:nwok', 'O'), ('Polsce', 'subst:sg:loc:f', 'placeName_country'), ('bardzo', 'adv:pos', 'O'), ('się', 'qub', 'O'), ('zmienił', 'praet:sg:m3:perf', 'O'), (',', 'interp', 'O'), ('a', 'conj', 'O'), ('z', 'prep:inst:nwok', 'O'), ('nim', 'ppron3:sg:inst:m3:ter:akc:praep', 'O'), ('postawy', 'subst:pl:nom:f', 'O'), ('Polaków', 'subst:pl:gen:m1', 'placeName_country'), ('wobec', 'prep:gen', 'O'), ('kwestii', 'subst:sg:gen:f', 'O'), ('poszukiwania', 'subst:sg:gen:n', 'O'), ('pracy', 'subst:sg:gen:f', 'O'), ('lub', 'conj', 'O'), ('jej', 'ppron3:sg:gen:f:ter:akc:npraep', 'O'), ('zmiany', 'subst:sg:gen:f', 'O'), ('.', 'interp', 'O')], [('Przeważający', 'pact:sg:nom:m3:imperf:aff', 'O'), ('odsetek', 'subst:sg:nom:m3', 'O'), ('ankietowanych', 'ppas:pl:gen:m1:imperf:aff', 'O'), ('uważa', 'fin:sg:ter:imperf', 'O'), (',', 'interp', 'O'), ('iż', 'comp', 'O'), ('do', 'prep:gen', 'O'), ('rozwoju', 'subst:sg:gen:m3', 'O'), ('polskiej', 'adj:sg:gen:f:pos', 'placeName_country'), ('gospodarki', 'subst:sg:gen:f', 'O'), ('w', 'prep:loc:nwok', 'O'), ('większym', 'adj:sg:loc:m3:com', 'O'), ('stopniu', 'subst:sg:loc:m3', 'O'), ('przyczyniają', 'fin:pl:ter:imperf', 'O'), ('się', 'qub', 'O'), ('firmy', 'subst:pl:nom:f', 'O'), ('prywatne', 'adj:pl:nom:f:pos', 'O'), ('niż', 'prep:nom', 'O'), ('państwowe', 'adj:pl:nom:f:pos', 'O'), ('(', 'interp', 'O'), ('odpowiednio', 'adv:pos', 'O'), ('45', 'num:pl:nom:m3:rec', 'O'), ('%', 'subst:sg:nom:m3', 'O'), ('i', 'conj', 'O'), ('17', 'num:pl:nom:m3:rec', 'O'), ('%', 'subst:sg:nom:m3', 'O'), (')', 'interp', 'O'), ('oraz', 'conj', 'O'), ('że', 'comp', 'O'), ('są', 'fin:pl:ter:imperf', 'O'), ('one', 'ppron3:pl:nom:f:ter:akc:npraep', 'O'), ('bardziej', 'adv:com', 'O'), ('elastyczne', 'adj:pl:nom:f:pos', 'O'), ('i', 'conj', 'O'), ('lepiej', 'adv:com', 'O'), ('przystosowują', 'fin:pl:ter:imperf', 'O'), ('się', 'qub', 'O'), ('do', 'prep:gen', 'O'), ('potrzeb', 'subst:pl:gen:f', 'O'), ('rynku', 'subst:sg:gen:m3', 'O'), ('(', 'interp', 'O'), ('73', 'num:pl:nom:m3:congr', 'O'), ('%', 'subst:sg:nom:m3', 'O'), ('wobec', 'prep:gen', 'O'), ('8', 'num:pl:gen:m3:congr', 'O'), ('%', 'subst:sg:nom:m3', 'O'), (')', 'interp', 'O'), ('.', 'interp', 'O')], [('To', 'qub', 'O'), ('tam', 'adv', 'O'), ('właśnie', 'qub', 'O'), ('Polacy', 'subst:pl:nom:m1', 'placeName_country'), ('najczęściej', 'adv:sup', 'O'), ('poszukują', 'fin:pl:ter:imperf', 'O'), ('zatrudnienia', 'subst:sg:gen:n', 'O'), ('.', 'interp', 'O')], [('Po', 'prep:acc', 'O'), ('piąte', 'adj:sg:acc:n:pos', 'O'), ('wreszcie', 'qub', 'O'), (',', 'interp', 'O'), ('nie', 'qub', 'O'), ('uspokajajmy', 'impt:pl:pri:imperf', 'O'), ('się', 'qub', 'O'), (',', 'interp', 'O'), ('że', 'comp', 'O'), (\"'\", 'interp', 'O'), ('mamy', 'fin:pl:pri:imperf', 'O'), ('jeszcze', 'qub', 'O'), ('mnóstwo', 'subst:sg:acc:n', 'O'), ('czasu', 'subst:sg:gen:m3', 'O'), (\"'\", 'interp', 'O'), ('.', 'interp', 'O')], [('Praktyka', 'subst:sg:nom:f', 'O'), ('wykazuje', 'fin:sg:ter:imperf', 'O'), (',', 'interp', 'O'), ('że', 'comp', 'O'), ('z', 'prep:gen:nwok', 'O'), ('każdych', 'adj:pl:gen:m3:pos', 'O'), ('pięciu', 'num:pl:gen:m3:congr', 'O'), ('tzw', 'brev:pun', 'O'), ('.', 'interp', 'O')], [(\"'\", 'interp', 'O'), ('dużych', 'adj:pl:gen:m3:pos', 'O'), (\"'\", 'interp', 'O'), ('problemów', 'subst:pl:gen:m3', 'O'), ('informatycznych', 'adj:pl:gen:m3:pos', 'O'), ('(', 'interp', 'O'), ('a', 'conj', 'O'), ('Y2K', 'subst:sg:nom:m3', 'O'), ('jest', 'fin:sg:ter:imperf', 'O'), ('bez', 'prep:gen:nwok', 'O'), ('wątpienia', 'subst:sg:gen:n', 'O'), ('jednym', 'adj:sg:inst:m3:pos', 'O'), ('z', 'prep:gen:nwok', 'O'), ('największych', 'adj:pl:gen:m3:sup', 'O'), ('!', 'interp', 'O'), (')', 'interp', 'O'), ('rozwiązywanie', 'ger:sg:nom:n:imperf:aff', 'O'), ('aż', 'qub', 'O'), ('czterech', 'num:pl:gen:m3:congr', 'O'), ('kończy', 'fin:sg:ter:imperf', 'O'), ('się', 'qub', 'O'), ('znacznie', 'adv:pos', 'O'), ('po', 'prep:loc', 'O'), ('zaplanowanym', 'ppas:sg:loc:m3:perf:aff', 'O'), ('terminie', 'subst:sg:loc:m3', 'O'), ('.', 'interp', 'O')], [('Biorąc', 'pcon:imperf', 'O'), ('pod', 'prep:acc:nwok', 'O'), ('uwagę', 'subst:sg:acc:f', 'O'), ('tę', 'adj:sg:acc:f:pos', 'O'), ('groźną', 'adj:sg:acc:f:pos', 'O'), ('statystykę', 'subst:sg:acc:f', 'O'), (',', 'interp', 'O'), ('mamy', 'fin:pl:pri:imperf', 'O'), ('80', 'num:pl:acc:m3:rec', 'O'), ('%', 'interp', 'O'), ('pewności', 'subst:sg:gen:f', 'O'), (',', 'interp', 'O'), ('że', 'comp', 'O'), ('jeśli', 'comp', 'O'), ('zaczniemy', 'fin:pl:pri:perf', 'O'), ('robotę', 'subst:sg:acc:f', 'O'), ('w', 'prep:loc:nwok', 'O'), ('Polsce', 'subst:sg:loc:f', 'placeName_country'), ('dziś', 'adv', 'O'), (',', 'interp', 'O'), ('to', 'conj', 'O'), ('jej', 'ppron3:sg:gen:f:ter:akc:npraep', 'O'), ('na', 'prep:acc', 'O'), ('czas', 'subst:sg:acc:m3', 'O'), ('nie', 'qub', 'O'), ('ukończymy', 'fin:pl:pri:perf', 'O'), ('.', 'interp', 'O')], [('A', 'conj', 'O'), ('nadejścia', 'ger:sg:gen:n:perf:aff', 'O'), ('roku', 'subst:sg:gen:m3', 'date'), ('2000', 'adj:pl:gen:m3:pos', 'date'), ('nie', 'qub', 'O'), ('da', 'fin:sg:ter:perf', 'O'), ('się', 'qub', 'O'), ('odsunąć', 'inf:perf', 'O'), ('zarządzeniem', 'subst:sg:inst:n', 'O'), ('administracyjnym', 'adj:sg:inst:n:pos', 'O'), ('.', 'interp', 'O')], [('Dopuszcza', 'fin:sg:ter:imperf', 'O'), ('się', 'qub', 'O'), ('możliwość', 'subst:sg:acc:f', 'O'), ('uhonorowania', 'ger:sg:gen:n:perf:aff', 'O'), ('kilku', 'num:pl:gen:m1:congr', 'O'), ('laureatów', 'subst:pl:gen:m1', 'O'), ('w', 'prep:loc:nwok', 'O'), ('tej', 'adj:sg:loc:f:pos', 'O'), ('samej', 'adj:sg:loc:f:pos', 'O'), ('dziedzinie', 'subst:sg:loc:f', 'O'), ('.', 'interp', 'O')], [('Wówczas', 'adv', 'O'), ('pula', 'subst:sg:nom:f', 'O'), ('pieniędzy', 'subst:pl:gen:m3', 'O'), ('przeznaczona', 'ppas:sg:nom:f:perf:aff', 'O'), ('na', 'prep:acc', 'O'), ('daną', 'adj:sg:acc:f:pos', 'O'), ('nagrodę', 'subst:sg:acc:f', 'O'), ('jest', 'fin:sg:ter:imperf', 'O'), ('dzielona', 'ppas:sg:nom:f:imperf:aff', 'O'), ('równo', 'adv:pos', 'O'), ('pomiędzy', 'prep:acc', 'O'), ('nich', 'ppron3:pl:acc:m1:ter:akc:praep', 'O'), ('.', 'interp', 'O')], [('Nagrody', 'subst:pl:nom:f', 'O'), ('nie', 'qub', 'O'), ('mogą', 'fin:pl:ter:imperf', 'O'), ('być', 'inf:imperf', 'O'), ('przyznawane', 'ppas:pl:nom:f:imperf:aff', 'O'), ('pośmiertnie', 'adv:pos', 'O'), ('.', 'interp', 'O')], [('Raz', 'subst:sg:acc:m3', 'O'), ('tylko', 'qub', 'O'), ('uczyniono', 'imps:perf', 'O'), ('wyjątek', 'subst:sg:acc:m3', 'O'), (',', 'interp', 'O'), ('gdy', 'adv', 'O'), ('w', 'prep:loc:nwok', 'O'), ('1961', 'adj:sg:loc:m3:pos', 'date'), ('roku', 'subst:sg:loc:m3', 'date'), ('Nagrodę', 'subst:sg:acc:f', 'O'), ('Pokojową', 'adj:sg:acc:f:pos', 'O'), ('przyznano', 'imps:perf', 'O'), ('byłemu', 'adj:sg:dat:m1:pos', 'O'), ('sekretarzowi', 'subst:sg:dat:m1', 'O'), ('generalnemu', 'adj:sg:dat:m1:pos', 'O'), ('ONZ', 'subst:sg:gen:f', 'orgName'), (',', 'interp', 'O'), ('Szwedowi', 'subst:sg:dat:m1', 'placeName_country'), ('Dagowi', 'subst:sg:dat:m1', 'persName_forename'), ('Hammarskjöldowi', 'subst:sg:dat:m1', 'persName_surname'), (',', 'interp', 'O'), ('zmarłemu', 'adj:sg:dat:m1:pos', 'O'), ('rok', 'subst:sg:acc:m3', 'O'), ('wcześniej', 'adv:com', 'O'), ('.', 'interp', 'O')], [('W', 'prep:loc:nwok', 'O'), ('czasie', 'subst:sg:loc:m3', 'O'), ('niedawnego', 'adj:sg:gen:n:pos', 'O'), ('lądowania', 'ger:sg:gen:n:imperf:aff', 'O'), ('Pathfindera', 'subst:sg:gen:m2', 'O'), ('na', 'prep:loc', 'O'), ('Marsie', 'subst:sg:loc:m2', 'geogName'), ('NASA', 'subst:sg:nom:f', 'orgName'), ('przygotowała', 'praet:sg:f:perf', 'O'), ('trójwymiarowe', 'adj:sg:acc:n:pos', 'O'), ('sprawozdanie', 'subst:sg:acc:n', 'O'), (',', 'interp', 'O'), ('na', 'prep:acc', 'O'), ('gorąco', 'adv:pos', 'O'), ('retransmitowane', 'ppas:sg:acc:n:imperf:aff', 'O'), ('w', 'prep:loc:nwok', 'O'), ('Internecie', 'subst:sg:loc:m3', 'O'), ('do', 'prep:gen', 'O'), ('17', 'num:pl:gen:m3:congr', 'O'), (\"'\", 'interp', 'O'), ('zwierciadłowych', 'adj:pl:gen:m3:pos', 'O'), (\"'\", 'interp', 'O'), ('komputerów', 'subst:pl:gen:m3', 'O'), ('rozrzuconych', 'ppas:pl:gen:m3:perf:aff', 'O'), ('po', 'prep:loc', 'O'), ('całym', 'adj:sg:loc:m3:pos', 'O'), ('świecie', 'subst:sg:loc:m3', 'O'), ('.', 'interp', 'O')], [('Okazało', 'praet:sg:n:perf', 'O'), ('się', 'qub', 'O'), (',', 'interp', 'O'), ('że', 'comp', 'O'), ('nie', 'qub', 'O'), ('wystarczyło', 'praet:sg:n:perf', 'O'), ('to', 'subst:sg:nom:n', 'O'), ('do', 'prep:gen', 'O'), ('zaspokojenia', 'ger:sg:gen:n:perf:aff', 'O'), ('ciekawości', 'subst:sg:gen:f', 'O'), ('30', 'num:pl:gen:m3:congr', 'O'), ('mln', 'brev:npun', 'O'), ('internautów', 'subst:pl:gen:m1', 'O'), (',', 'interp', 'O'), ('godzinami', 'subst:pl:inst:f', 'O'), ('czekających', 'pact:pl:gen:m1:imperf:aff', 'O'), ('na', 'prep:acc', 'O'), ('dostęp', 'subst:sg:acc:m3', 'O'), ('do', 'prep:gen', 'O'), ('obrazów', 'subst:pl:gen:m3', 'O'), ('z', 'prep:gen:nwok', 'O'), ('Czerwonej', 'adj:sg:gen:f:pos', 'O'), ('Planety', 'subst:sg:gen:f', 'O'), ('.', 'interp', 'O')], [('-', 'interp', 'O'), ('Potrzebne', 'adj:pl:nom:f:pos', 'O'), ('są', 'fin:pl:ter:imperf', 'O'), ('nam', 'ppron12:pl:dat:m1:pri', 'O'), ('dwie', 'num:pl:nom:f:congr', 'O'), ('decyzje', 'subst:pl:nom:f', 'O'), (',', 'interp', 'O'), ('uzależnione', 'ppas:pl:nom:f:perf:aff', 'O'), ('od', 'prep:gen:nwok', 'O'), ('burmistrz', 'subst:sg:gen:m1', 'O'), (',', 'interp', 'O'), ('jako', 'conj', 'O'), ('zarządzającym', 'pact:sg:inst:m1:imperf:aff', 'O'), ('terenem', 'subst:sg:inst:m3', 'O'), ('-', 'interp', 'O'), ('powiedziała', 'praet:sg:f:perf', 'O'), ('Krystyna', 'subst:sg:nom:f', 'persName_forename'), ('Sroczyńska', 'subst:sg:nom:f', 'persName_surname'), ('.', 'interp', 'O')], [('-', 'interp', 'O'), ('Jedna', 'adj:sg:nom:f:pos', 'O'), ('o', 'prep:loc', 'O'), ('odebraniu', 'ger:sg:loc:n:perf:aff', 'O'), ('właścicielowi', 'subst:sg:dat:m1', 'O'), ('zezwolenia', 'subst:sg:gen:n', 'O'), ('na', 'prep:acc', 'O'), ('prowadzenie', 'ger:sg:acc:n:imperf:aff', 'O'), ('schroniska', 'subst:sg:gen:n', 'O'), (',', 'interp', 'O'), ('aby', 'comp', 'O'), ('odciąć', 'inf:perf', 'O'), ('dopływ', 'subst:sg:acc:m3', 'O'), ('nowych', 'adj:pl:gen:n:pos', 'O'), ('zwierząt', 'subst:pl:gen:n', 'O'), (',', 'interp', 'O'), ('druga', 'adj:sg:nom:f:pos', 'O'), ('o', 'prep:loc', 'O'), ('przekazaniu', 'ger:sg:loc:n:perf:aff', 'O'), ('zwierząt', 'subst:pl:gen:n', 'O'), ('naszej', 'adj:sg:dat:f:pos', 'O'), ('fundacji', 'subst:sg:dat:f', 'O'), (',', 'interp', 'O'), ('do', 'prep:gen', 'O'), ('rozdysponowania', 'ger:sg:gen:n:perf:aff', 'O'), ('ich', 'ppron3:pl:gen:n:ter:akc:npraep', 'O'), ('w', 'prep:loc:nwok', 'O'), ('innych', 'adj:pl:loc:n:pos', 'O'), ('schroniskach', 'subst:pl:loc:n', 'O'), (',', 'interp', 'O'), ('na', 'prep:loc', 'O'), ('razie', 'subst:sg:loc:m3', 'O'), ('jako', 'conj', 'O'), ('depozyty', 'subst:pl:acc:m3', 'O'), (',', 'interp', 'O'), ('do', 'prep:gen', 'O'), ('czasu', 'subst:sg:gen:m3', 'O'), ('wyroku', 'subst:sg:gen:m3', 'O'), ('sądowego', 'adj:sg:gen:m3:pos', 'O'), ('.', 'interp', 'O')], [('-', 'interp', 'O'), ('O', 'interj', 'O'), (',', 'interp', 'O'), ('tu', 'adv', 'O'), ('już', 'qub', 'O'), ('przesadziła', 'praet:sg:f:perf', 'O'), ('ś', 'aglt:sg:sec:imperf:nwok', 'O'), ('!', 'interp', 'O'), ('Pamiętaj', 'impt:sg:sec:imperf', 'O'), (':', 'interp', 'O'), ('świnia', 'subst:sg:nom:f', 'O'), ('nie', 'qub', 'O'), ('ma', 'fin:sg:ter:imperf', 'O'), ('duszy', 'subst:sg:gen:f', 'O'), (',', 'interp', 'O'), ('a', 'conj', 'O'), ('człowiek', 'subst:sg:nom:m1', 'O'), ('ma', 'fin:sg:ter:imperf', 'O'), ('.', 'interp', 'O')], [('I', 'conj', 'O'), ('człowiek', 'subst:sg:nom:m1', 'O'), ('jest', 'fin:sg:ter:imperf', 'O'), ('miarą', 'subst:sg:inst:f', 'O'), ('wszechrzeczy', 'subst:sg:gen:f', 'O'), ('.', 'interp', 'O')], [('Człowiek', 'subst:sg:nom:m1', 'O'), ('to', 'subst:sg:nom:n', 'O'), ('brzmi', 'fin:sg:ter:imperf', 'O'), ('dumnie', 'adv:pos', 'O'), ('!', 'interp', 'O'), ('Człowiek', 'subst:sg:nom:m1', 'O'), ('jest', 'fin:sg:ter:imperf', 'O'), ('Panem', 'subst:sg:inst:m1', 'O'), ('Stworzenia', 'subst:sg:gen:n', 'O'), ('.', 'interp', 'O')], [('Do', 'prep:gen', 'O'), ('wrzątku', 'subst:sg:gen:m3', 'O'), ('ich', 'ppron3:pl:gen:n:ter:akc:npraep', 'O'), ('wrzucać', 'inf:imperf', 'O'), ('nie', 'qub', 'O'), ('wolno', 'pred', 'O'), (',', 'interp', 'O'), ('tego', 'subst:sg:gen:n', 'O'), ('i', 'conj', 'O'), ('kodeks', 'subst:sg:nom:m3', 'O'), ('karny', 'adj:sg:nom:m3:pos', 'O'), ('zabrania', 'fin:sg:ter:imperf', 'O'), ('i', 'conj', 'O'), ('Dziesięć', 'num:pl:nom:n:rec', 'O'), ('Przykazań', 'subst:pl:gen:n', 'O'), ('.', 'interp', 'O')], [('-', 'interp', 'O'), ('Hmm', 'interj', 'O'), ('.', 'interp', 'O')], [('Tak', 'adv:pos', 'O'), ('wuj', 'subst:sg:nom:m1', 'O'), ('mówi', 'fin:sg:ter:imperf', 'O'), ('?', 'interp', 'O'), ('Ale', 'conj', 'O'), ('na', 'prep:acc', 'O'), ('hak', 'subst:sg:acc:m3', 'O'), ('za', 'prep:acc', 'O'), ('nogi', 'subst:pl:acc:f', 'O'), ('wuj', 'subst:sg:nom:m1', 'O'), ('by', 'qub', 'O'), ('pozwolił', 'praet:sg:m1:perf', 'O'), ('?', 'interp', 'O'), ('Spółdzielnia', 'subst:sg:nom:f', 'orgName'), ('Usług', 'subst:pl:gen:f', 'orgName'), ('Rolniczych', 'adj:pl:gen:f:pos', 'orgName'), ('w', 'prep:loc:nwok', 'O'), ('Żbikach', 'subst:pl:loc:n', 'placeName_settlement'), ('gmina', 'subst:sg:nom:f', 'placeName_region'), ('Krasne', 'subst:sg:nom:n', 'placeName_region'), ('z', 'prep:inst:nwok', 'O'), ('dniem', 'subst:sg:inst:m3', 'date'), ('10', 'adj:sg:gen:m3:pos', 'date'), ('kwietnia', 'subst:sg:gen:m3', 'date'), ('br', 'brev:pun', 'date'), ('.', 'interp', 'O')], [('została', 'praet:sg:f:perf', 'O'), ('postawiona', 'ppas:sg:nom:f:perf:aff', 'O'), ('w', 'prep:acc:nwok', 'O'), ('stan', 'subst:sg:acc:m3', 'O'), ('likwidacji', 'subst:sg:gen:f', 'O'), ('.', 'interp', 'O')], [('-', 'interp', 'O'), ('Przyczyn', 'subst:pl:gen:f', 'O'), ('tego', 'adj:sg:gen:m3:pos', 'O'), ('stanu', 'subst:sg:gen:m3', 'O'), ('rzeczy', 'subst:sg:gen:f', 'O'), ('było', 'praet:sg:n:imperf', 'O'), ('wiele', 'num:pl:nom:f:rec', 'O'), ('.', 'interp', 'O')], [('Jedna', 'adj:sg:nom:f:pos', 'O'), ('z', 'prep:gen:nwok', 'O'), ('głównych', 'adj:pl:gen:f:pos', 'O'), ('to', 'pred', 'O'), ('ciągłe', 'adj:sg:nom:n:pos', 'O'), ('zmniejszenie', 'ger:sg:nom:n:perf:aff', 'O'), ('się', 'qub', 'O'), ('zapotrzebowania', 'subst:sg:gen:n', 'O'), ('na', 'prep:acc', 'O'), ('usługi', 'subst:pl:acc:f', 'O'), ('rolnicze', 'adj:pl:acc:f:pos', 'O'), ('–', 'interp', 'O'), ('mówi', 'fin:sg:ter:imperf', 'O'), ('były', 'adj:sg:nom:m1:pos', 'O'), ('kierownik', 'subst:sg:nom:m1', 'O'), (',', 'interp', 'O'), ('a', 'conj', 'O'), ('obecnie', 'adv:pos', 'O'), ('likwidator', 'subst:sg:nom:m1', 'O'), ('spóldzielni', 'subst:sg:gen:f', 'O'), ('Bogdan', 'subst:sg:nom:m1', 'persName_forename'), ('Komorowski', 'subst:sg:nom:m1', 'persName_surname'), ('.', 'interp', 'O')], [('-', 'interp', 'O'), ('Wynika', 'fin:sg:ter:imperf', 'O'), ('to', 'subst:sg:nom:n', 'O'), ('z', 'prep:gen:nwok', 'O'), ('faktu', 'subst:sg:gen:m3', 'O'), (',', 'interp', 'O'), ('że', 'comp', 'O'), ('co', 'prep:gen:nwok', 'O'), ('roku', 'subst:sg:gen:m3', 'O'), ('zwiększa', 'fin:sg:ter:imperf', 'O'), ('się', 'qub', 'O'), ('zmechanizowanie', 'ger:sg:nom:n:perf:aff', 'O'), ('gospodarstw', 'subst:pl:gen:n', 'O'), ('i', 'conj', 'O'), ('rolnicy', 'subst:pl:nom:m1', 'O'), ('wykonują', 'fin:pl:ter:imperf', 'O'), ('prace', 'subst:pl:acc:f', 'O'), ('własnym', 'adj:sg:inst:m3:pos', 'O'), ('sprzętem', 'subst:sg:inst:m3', 'O'), ('.', 'interp', 'O')], [('Jak', 'adv:pos', 'O'), ('dowiadujemy', 'fin:pl:pri:imperf', 'O'), ('się', 'qub', 'O'), ('z', 'prep:gen:nwok', 'O'), ('informacji', 'subst:pl:gen:f', 'O'), ('zawartych', 'ppas:pl:gen:f:perf:aff', 'O'), ('w', 'prep:loc:nwok', 'O'), ('Internecie', 'subst:sg:loc:m3', 'O'), (',', 'interp', 'O'), ('ambasador', 'subst:sg:nom:m1', 'O'), ('jest', 'fin:sg:ter:imperf', 'O'), ('zapalonym', 'adj:sg:inst:m1:pos', 'O'), ('miłośnikiem', 'subst:sg:inst:m1', 'O'), ('pieszych', 'adj:pl:gen:f:pos', 'O'), ('wędrówek', 'subst:pl:gen:f', 'O'), ('.', 'interp', 'O')], [('Jego', 'ppron3:sg:gen:m1:ter:akc:npraep', 'O'), ('hobby', 'subst:sg:nom:n', 'O'), ('to', 'pred', 'O'), ('także', 'qub', 'O'), ('podróżowanie', 'ger:sg:nom:n:imperf:aff', 'O'), ('oraz', 'conj', 'O'), ('czytanie', 'ger:sg:nom:n:imperf:aff', 'O'), ('książek', 'subst:pl:gen:f', 'O'), ('historycznych', 'adj:pl:gen:f:pos', 'O'), ('i', 'conj', 'O'), ('powieści', 'subst:pl:gen:f', 'O'), ('kryminalnych', 'adj:pl:gen:f:pos', 'O'), ('.', 'interp', 'O')], [('Małżonka', 'subst:sg:nom:f', 'O'), ('dyplomaty', 'subst:sg:gen:m1', 'O'), ('przez', 'prep:acc:nwok', 'O'), ('13', 'num:pl:acc:m3:rec', 'O'), ('lat', 'subst:pl:gen:m3', 'O'), ('była', 'praet:sg:f:imperf', 'O'), ('nauczycielką', 'subst:sg:inst:f', 'O'), ('w', 'prep:loc:nwok', 'O'), ('szkole', 'subst:sg:loc:f', 'O'), ('podstawowej', 'adj:sg:loc:f:pos', 'O'), ('.', 'interp', 'O')], [('Państwo', 'subst:pl:nom:m1', 'O'), ('Ashe', 'subst:pl:nom:m1', 'persName_surname'), ('mają', 'fin:pl:ter:imperf', 'O'), ('dwoje', 'numcol:pl:acc:n:rec', 'O'), ('nastoletnich', 'adj:pl:gen:n:pos', 'O'), ('dzieci', 'subst:pl:gen:n', 'O'), (':', 'interp', 'O'), ('17-letniego', 'adj:sg:acc:m1:pos', 'O'), ('J', 'brev:pun', 'persName_forename'), ('.', 'interp', 'persName_forename')], [('Victora', 'subst:sg:acc:m1', 'persName_forename'), ('i', 'conj', 'O'), ('14-letnią', 'adj:sg:acc:f:pos', 'O'), ('Marthę', 'subst:sg:acc:f', 'persName_forename'), ('.', 'interp', 'O')], [('Igor', 'subst:sg:nom:m1', 'persName_forename'), ('Kantorowski', 'subst:sg:nom:m1', 'persName_surname'), ('zajmował', 'praet:sg:m1:imperf', 'O'), ('się', 'qub', 'O'), ('również', 'qub', 'O'), ('krytyką', 'subst:sg:inst:f', 'O'), ('literacką', 'adj:sg:inst:f:pos', 'O'), ('.', 'interp', 'O')], [('Swoje', 'adj:pl:acc:m3:pos', 'O'), ('teksty', 'subst:pl:acc:m3', 'O'), ('zamieszczał', 'praet:sg:m1:imperf', 'O'), ('w', 'prep:loc:nwok', 'O'), (\"'\", 'interp', 'O'), ('Twórczości', 'subst:sg:loc:f', 'O'), (\"'\", 'interp', 'O'), (',', 'interp', 'O'), (\"'\", 'interp', 'O'), ('Miesięczniku', 'subst:sg:loc:m3', 'O'), ('Literackim', 'adj:sg:loc:m3:pos', 'O'), (\"'\", 'interp', 'O'), (',', 'interp', 'O'), (\"'\", 'interp', 'O'), ('Dekadzie', 'subst:sg:loc:f', 'O'), ('literackiej', 'adj:sg:loc:f:pos', 'O'), (\"'\", 'interp', 'O'), ('.', 'interp', 'O')], [('Dzisiaj', 'adv', 'O'), ('lubi', 'fin:sg:ter:imperf', 'O'), ('organizować', 'inf:imperf', 'O'), ('spotkania', 'subst:pl:acc:n', 'O'), ('poetyckie', 'adj:pl:acc:n:pos', 'O'), ('swoim', 'adj:pl:dat:m1:pos', 'O'), ('przyjaciołom', 'subst:pl:dat:m1', 'O'), ('i', 'conj', 'O'), ('znajomym', 'subst:pl:dat:m1', 'O'), ('.', 'interp', 'O')], [('Od', 'prep:gen:nwok', 'O'), ('lat', 'subst:pl:gen:m3', 'O'), ('realizuje', 'fin:sg:ter:imperf', 'O'), ('kolejną', 'adj:sg:acc:f:pos', 'O'), ('pasję', 'subst:sg:acc:f', 'O'), (',', 'interp', 'O'), ('którą', 'adj:sg:inst:f:pos', 'O'), ('jest', 'fin:sg:ter:imperf', 'O'), ('fotografia', 'subst:sg:nom:f', 'O'), ('.', 'interp', 'O')], [('Poeta', 'subst:sg:nom:m1', 'O'), ('zdążył', 'praet:sg:m1:perf', 'O'), ('dorobić', 'inf:perf', 'O'), ('się', 'qub', 'O'), ('czterech', 'num:pl:gen:f:congr', 'O'), ('wystaw', 'subst:pl:gen:f', 'O'), ('fotograficznych', 'adj:pl:gen:f:pos', 'O'), ('.', 'interp', 'O')], [('Jedna', 'adj:sg:nom:f:pos', 'O'), ('z', 'prep:gen:nwok', 'O'), ('nich', 'ppron3:pl:gen:f:ter:akc:praep', 'O'), ('odbyła', 'praet:sg:f:perf', 'O'), ('się', 'qub', 'O'), ('w', 'prep:loc:nwok', 'O'), ('płońskiej', 'adj:sg:loc:f:pos', 'placeName_settlement'), ('Galerii', 'subst:sg:loc:f', 'geogName'), (\"'\", 'interp', 'geogName'), ('P', 'subst:sg:loc:f', 'geogName'), (\"'\", 'interp', 'geogName'), ('.', 'interp', 'O')], [('Potem', 'adv', 'O'), ('straciła', 'praet:sg:f:perf', 'O'), ('m', 'aglt:sg:pri:imperf:nwok', 'O'), ('Adama', 'subst:sg:acc:m1', 'persName_forename'), ('Humięckiego', 'subst:sg:acc:m1', 'persName_surname'), ('z', 'prep:gen:nwok', 'O'), ('oczu', 'subst:pl:gen:n', 'O'), ('na', 'prep:acc', 'O'), ('wiele', 'num:pl:acc:m3:rec', 'O'), ('lat', 'subst:pl:gen:m3', 'O'), ('i', 'conj', 'O'), ('nie', 'qub', 'O'), ('wiedziała', 'praet:sg:f:imperf', 'O'), ('m', 'aglt:sg:pri:imperf:nwok', 'O'), ('co', 'subst:sg:nom:n', 'O'), ('się', 'qub', 'O'), ('z', 'prep:inst:nwok', 'O'), ('nim', 'ppron3:sg:inst:m1:ter:akc:praep', 'O'), ('dzieje', 'fin:sg:ter:imperf', 'O'), ('.', 'interp', 'O')], [('Objawił', 'praet:sg:m1:perf', 'O'), ('się', 'qub', 'O'), ('niedawno', 'adv:pos', 'O'), ('w', 'prep:loc:nwok', 'O'), ('redakcji', 'subst:sg:loc:f', 'O'), ('„', 'interp', 'orgName'), ('Tygodnika', 'subst:sg:gen:m3', 'orgName'), ('”', 'interp', 'orgName'), ('jako', 'conj', 'O'), ('współwłaściciel', 'subst:sg:nom:m1', 'O'), ('firmy', 'subst:sg:gen:f', 'O'), ('budowlanej', 'adj:sg:gen:f:pos', 'O'), ('w', 'prep:loc:nwok', 'O'), ('Pęczkach', 'subst:sg:loc:n', 'placeName_settlement'), ('.', 'interp', 'O')], [('Radosny', 'adj:sg:nom:m3:pos', 'O'), ('uśmiech', 'subst:sg:nom:m3', 'O'), ('nie', 'qub', 'O'), ('gościł', 'praet:sg:m3:imperf', 'O'), ('jednak', 'qub', 'O'), ('na', 'prep:loc', 'O'), ('twarzy', 'subst:sg:loc:f', 'O'), ('pana', 'subst:sg:gen:m1', 'O'), ('Adama', 'subst:sg:gen:m1', 'persName_forename'), ('.', 'interp', 'O')], [('Przeciwnie', 'adv:pos', 'O'), ('.', 'interp', 'O')], [('To', 'pred', 'O'), ('człowiek', 'subst:sg:nom:m1', 'O'), ('zdesperowany', 'adj:sg:nom:m1:pos', 'O'), ('i', 'conj', 'O'), ('sfrustrowany', 'adj:sg:nom:m1:pos', 'O'), ('–', 'interp', 'O'), ('jak', 'adv:pos', 'O'), ('mówi', 'fin:sg:ter:imperf', 'O'), (':', 'interp', 'O'), ('„', 'interp', 'O'), ('.', 'interp', 'O')], [('absurdalnymi', 'adj:pl:inst:m3:pos', 'O'), (',', 'interp', 'O'), ('często', 'adv:pos', 'O'), ('sprzecznymi', 'adj:pl:inst:m3:pos', 'O'), ('przepisami', 'subst:pl:inst:m3', 'O'), ('obowiązującymi', 'pact:pl:inst:m3:imperf:aff', 'O'), ('w', 'prep:loc:nwok', 'O'), ('nowym', 'adj:sg:loc:m3:pos', 'O'), ('ustroju', 'subst:sg:loc:m3', 'O'), (',', 'interp', 'O'), ('które', 'adj:pl:nom:m3:pos', 'O'), ('zamiast', 'conj', 'O'), ('sprzyjać', 'inf:imperf', 'O'), ('rozwojowi', 'subst:sg:dat:m3', 'O'), ('małych', 'adj:pl:gen:n:pos', 'O'), ('i', 'conj', 'O'), ('średnich', 'adj:pl:gen:n:pos', 'O'), ('przedsiębiorstw', 'subst:pl:gen:n', 'O'), (',', 'interp', 'O'), ('powodują', 'fin:pl:ter:imperf', 'O'), ('ich', 'ppron3:pl:gen:m3:ter:akc:npraep', 'O'), ('upadek', 'subst:sg:acc:m3', 'O'), ('”', 'interp', 'O'), ('.', 'interp', 'O')], [('-', 'interp', 'O'), ('Nagle', 'adv:pos', 'O'), ('znalazła', 'praet:sg:f:perf', 'O'), ('m', 'aglt:sg:pri:imperf:nwok', 'O'), ('się', 'qub', 'O'), ('bez', 'prep:gen:nwok', 'O'), ('pracy', 'subst:sg:gen:f', 'O'), (',', 'interp', 'O'), ('przeżywała', 'praet:sg:f:imperf', 'O'), ('m', 'aglt:sg:pri:imperf:nwok', 'O'), ('trudne', 'adj:pl:acc:m3:pos', 'O'), ('dni', 'subst:pl:acc:m3', 'O'), ('.', 'interp', 'O')], [('Zwłaszcza', 'qub', 'O'), ('że', 'comp', 'O'), ('na', 'prep:loc', 'O'), ('utrzymaniu', 'subst:sg:loc:n', 'O'), ('mam', 'fin:sg:pri:imperf', 'O'), ('dwoje', 'numcol:pl:acc:n:rec', 'O'), ('dzieci', 'subst:pl:acc:n', 'O'), ('-', 'interp', 'O'), ('twierdzi', 'fin:sg:ter:imperf', 'O'), ('.', 'interp', 'O')], [('Sąd', 'subst:sg:nom:m3', 'O'), ('przywrócił', 'praet:sg:m3:perf', 'O'), ('do', 'prep:gen', 'O'), ('pracy', 'subst:sg:gen:f', 'O'), ('obie', 'num:pl:acc:f:congr', 'O'), ('kobiety', 'subst:pl:acc:f', 'O'), ('-', 'interp', 'O'), ('na', 'prep:loc', 'O'), ('poprzednich', 'adj:pl:loc:m3:pos', 'O'), ('warunkach', 'subst:pl:loc:m3', 'O'), ('.', 'interp', 'O')], [('Nakazał', 'praet:sg:m3:perf', 'O'), ('też', 'qub', 'O'), ('wypłatę', 'subst:sg:acc:f', 'O'), ('wynagrodzenia', 'subst:sg:gen:n', 'O'), (',', 'interp', 'O'), ('które', 'adj:sg:acc:n:pos', 'O'), ('by', 'qub', 'O'), ('otrzymywały', 'praet:pl:f:imperf', 'O'), (',', 'interp', 'O'), ('gdyby', 'comp', 'O'), ('świadczyły', 'praet:pl:f:imperf', 'O'), ('pracę', 'subst:sg:acc:f', 'O'), ('w', 'prep:loc:nwok', 'O'), ('poradni', 'subst:sg:loc:f', 'O'), ('.', 'interp', 'O')], [('-', 'interp', 'O'), ('Są', 'fin:pl:ter:imperf', 'O'), ('okresy', 'subst:pl:nom:m3', 'O'), ('w', 'prep:loc:nwok', 'O'), ('ciągu', 'subst:sg:loc:m3', 'O'), ('roku', 'subst:sg:gen:m3', 'O'), (',', 'interp', 'O'), ('kiedy', 'adv', 'O'), ('jest', 'fin:sg:ter:imperf', 'O'), ('większy', 'adj:sg:nom:m3:com', 'O'), ('napływ', 'subst:sg:nom:m3', 'O'), ('turystów', 'subst:pl:gen:m1', 'O'), (',', 'interp', 'O'), ('np', 'brev:pun', 'O'), ('.', 'interp', 'O')], [('w', 'prep:loc:nwok', 'O'), ('lutym', 'subst:sg:loc:m3', 'date'), ('i', 'conj', 'O'), ('w', 'prep:loc:nwok', 'O'), ('październiku', 'subst:sg:loc:m3', 'date'), ('są', 'fin:pl:ter:imperf', 'O'), ('to', 'pred', 'O'), ('głównie', 'qub', 'O'), ('wycieczki', 'subst:pl:nom:f', 'O'), ('szkolne', 'adj:pl:nom:f:pos', 'O'), ('.', 'interp', 'O')], [('Zamek', 'subst:sg:acc:m3', 'O'), ('chętnie', 'adv:pos', 'O'), ('zwiedzają', 'fin:pl:ter:imperf', 'O'), ('cudzoziemcy', 'subst:pl:nom:m1', 'O'), ('.', 'interp', 'O')], [('Robią', 'fin:pl:ter:imperf', 'O'), ('tu', 'adv', 'O'), ('pamiątkowe', 'adj:pl:acc:n:pos', 'O'), ('zdjęcia', 'subst:pl:acc:n', 'O'), ('i', 'conj', 'O'), ('kupują', 'fin:pl:ter:imperf', 'O'), ('drobiazgi', 'subst:pl:acc:m3', 'O'), ('.', 'interp', 'O')], [('Ciechanowianie', 'subst:pl:nom:m1', 'placeName_settlement'), ('szczycą', 'fin:pl:ter:imperf', 'O'), ('się', 'qub', 'O'), ('zabytkiem', 'subst:sg:inst:m3', 'O'), ('i', 'conj', 'O'), ('lubią', 'fin:pl:ter:imperf', 'O'), ('przyprowadzać', 'inf:imperf', 'O'), ('tu', 'adv', 'O'), ('swoich', 'adj:pl:acc:m1:pos', 'O'), ('krewnych', 'subst:pl:acc:m1', 'O'), ('z', 'prep:gen:nwok', 'O'), ('innych', 'adj:pl:gen:n:pos', 'O'), ('miast', 'subst:pl:gen:n', 'O'), ('.', 'interp', 'O')], [('Roman', 'subst:sg:nom:m1', 'persName_forename'), ('Kosecki', 'subst:sg:nom:m1', 'persName_surname'), ('to', 'pred', 'O'), ('jeden', 'adj:sg:nom:m1:pos', 'O'), ('z', 'prep:gen:nwok', 'O'), ('najbardziej', 'adv:sup', 'O'), ('utalentowanych', 'adj:pl:gen:m1:pos', 'O'), ('polskich', 'adj:pl:gen:m1:pos', 'placeName_country'), ('piłkarzy', 'subst:pl:gen:m1', 'O'), ('lat', 'subst:pl:gen:m3', 'date'), ('dziewięćdziesiątych', 'adj:pl:gen:m3:pos', 'date'), ('.', 'interp', 'O')], [('Kochany', 'ppas:sg:nom:m1:imperf:aff', 'O'), ('przez', 'prep:acc:nwok', 'O'), ('kibiców', 'subst:pl:acc:m1', 'O'), ('w', 'prep:loc:nwok', 'O'), ('Polsce', 'subst:sg:loc:f', 'placeName_country'), (',', 'interp', 'O'), ('znany', 'ppas:sg:nom:m1:imperf:aff', 'O'), ('też', 'qub', 'O'), ('i', 'conj', 'O'), ('podziwiany', 'ppas:sg:nom:m1:imperf:aff', 'O'), ('w', 'prep:loc:nwok', 'O'), ('Europie', 'subst:sg:loc:f', 'geogName'), ('.', 'interp', 'O')], [('Zakończenie', 'subst:sg:nom:n', 'O'), ('pięknej', 'adj:sg:gen:f:pos', 'O'), ('piłkarskiej', 'adj:sg:gen:f:pos', 'O'), ('kariery', 'subst:sg:gen:f', 'O'), ('wcale', 'adv', 'O'), ('nie', 'qub', 'O'), ('oznaczało', 'praet:sg:n:imperf', 'O'), ('końca', 'subst:sg:gen:m3', 'O'), ('przygody', 'subst:sg:gen:f', 'O'), ('z', 'prep:inst:nwok', 'O'), ('piłką', 'subst:sg:inst:f', 'O'), ('nożną', 'adj:sg:inst:f:pos', 'O'), ('.', 'interp', 'O')], [('Przy', 'prep:loc', 'O'), ('okazji', 'subst:sg:loc:f', 'O'), ('pobytu', 'subst:sg:gen:m3', 'O'), ('w', 'prep:loc:nwok', 'O'), ('Ciechanowie', 'subst:sg:loc:m3', 'placeName_settlement'), (',', 'interp', 'O'), ('wraz', 'adv', 'O'), ('ze', 'prep:inst:wok', 'O'), ('swoją', 'adj:sg:inst:f:pos', 'O'), ('drużyną', 'subst:sg:inst:f', 'O'), ('KOSĄ', 'subst:sg:inst:f', 'orgName'), ('Konstancin', 'subst:sg:nom:m3', 'placeName_settlement'), (',', 'interp', 'O'), ('Roman', 'subst:sg:nom:m1', 'persName_forename'), ('Kosecki', 'subst:sg:nom:m1', 'persName_surname'), ('udzielił', 'praet:sg:m1:perf', 'O'), ('wywiadu', 'subst:sg:gen:m3', 'O'), ('naszej', 'adj:sg:dat:f:pos', 'O'), ('redakcji', 'subst:sg:dat:f', 'O'), ('.', 'interp', 'O')], [('Gość', 'subst:sg:nom:m1', 'O'), ('napisał', 'praet:sg:m1:perf', 'O'), (\"'\", 'interp', 'O'), ('W', 'prep:loc:nwok', 'O'), ('Londynie', 'subst:sg:loc:m3', 'placeName_settlement'), ('pracuję', 'fin:sg:pri:imperf', 'O'), ('w', 'prep:loc:nwok', 'O'), ('swoim', 'adj:sg:loc:m3:pos', 'O'), ('zawodzie', 'subst:sg:loc:m3', 'O'), (',', 'interp', 'O'), ('robię', 'fin:sg:pri:imperf', 'O'), ('dokładnie', 'qub', 'O'), ('to', 'subst:sg:acc:n', 'O'), ('samo', 'adj:sg:acc:n:pos', 'O'), ('co', 'subst:sg:acc:n', 'O'), ('w', 'prep:loc:nwok', 'O'), ('Polsce', 'subst:sg:loc:f', 'placeName_country'), ('-', 'interp', 'O'), ('projektuje', 'fin:sg:ter:imperf', 'O'), ('instalacje', 'subst:pl:acc:f', 'O'), ('sanitarne', 'adj:pl:acc:f:pos', 'O'), ('.', 'interp', 'O')], [('Sam', 'adj:sg:nom:m3:pos', 'O'), ('proces', 'subst:sg:nom:m3', 'O'), ('projektowania', 'ger:sg:gen:n:imperf:aff', 'O'), ('nie', 'qub', 'O'), ('różni', 'fin:sg:ter:imperf', 'O'), ('się', 'qub', 'O'), ('w', 'prep:loc:nwok', 'O'), ('niczym', 'subst:sg:loc:n', 'O'), ('od', 'prep:gen:nwok', 'O'), ('tego', 'subst:sg:gen:n', 'O'), ('jak', 'adv:pos', 'O'), ('to', 'subst:sg:acc:n', 'O'), ('robimy', 'fin:pl:pri:imperf', 'O'), ('w', 'prep:loc:nwok', 'O'), ('kraju', 'subst:sg:loc:m3', 'O'), ('.', 'interp', 'O')], [('Może', 'qub', 'O'), ('tylko', 'qub', 'O'), ('standardy', 'subst:pl:nom:m3', 'O'), ('są', 'fin:pl:ter:imperf', 'O'), ('nieco', 'adv', 'O'), ('inne', 'adj:pl:nom:m3:pos', 'O'), (',', 'interp', 'O'), ('i', 'conj', 'O'), ('.', 'interp', 'O')], [('niższe', 'adj:pl:nom:m3:com', 'O'), ('niż', 'conj', 'O'), ('w', 'prep:loc:nwok', 'O'), ('Polsce', 'subst:sg:loc:f', 'placeName_country'), ('.', 'interp', 'O')], [('To', 'subst:sg:acc:n', 'O'), ('samo', 'adj:sg:acc:n:pos', 'O'), ('zresztą', 'qub', 'O'), ('mówią', 'fin:pl:ter:imperf', 'O'), ('moi', 'adj:pl:nom:m1:pos', 'O'), ('koledzy', 'subst:pl:nom:m1', 'O'), ('architekci', 'subst:pl:nom:m1', 'O'), ('z', 'prep:gen:nwok', 'O'), ('Polski', 'subst:sg:gen:f', 'placeName_country'), ('.', 'interp', 'O')], [('Chodzi', 'fin:sg:ter:imperf', 'O'), ('o', 'prep:acc', 'O'), ('35-letnią', 'adj:sg:acc:f:pos', 'O'), ('Małgorzatę', 'subst:sg:acc:f', 'persName_forename'), ('T', 'brev:pun', 'persName_surname'), ('.', 'interp', 'persName_surname')], [(',', 'interp', 'O'), ('mieszkankę', 'subst:sg:acc:f', 'O'), ('jednej', 'adj:sg:gen:f:pos', 'O'), ('z', 'prep:gen:nwok', 'O'), ('pobliskich', 'adj:pl:gen:f:pos', 'O'), ('gmin', 'subst:pl:gen:f', 'O'), ('.', 'interp', 'O')], [('W', 'prep:loc:nwok', 'O'), ('styczniu', 'subst:sg:loc:m3', 'date'), ('ub', 'brev:pun', 'O'), ('.', 'interp', 'O')], [('r', 'brev:pun', 'O'), ('.', 'interp', 'O')], [('trafiła', 'praet:sg:f:perf', 'O'), ('ona', 'ppron3:sg:nom:f:ter:akc:npraep', 'O'), ('do', 'prep:gen', 'O'), ('mławskiego', 'adj:sg:gen:m3:pos', 'placeName_settlement'), ('szpitala', 'subst:sg:gen:m3', 'O'), ('.', 'interp', 'O')], [('W', 'prep:loc:nwok', 'O'), ('tej', 'adj:sg:loc:f:pos', 'O'), ('lecznicy', 'subst:sg:loc:f', 'O'), ('usunięto', 'imps:perf', 'O'), ('pacjentce', 'subst:sg:dat:f', 'O'), ('martwą', 'adj:sg:acc:f:pos', 'O'), ('ciążę', 'subst:sg:acc:f', 'O'), (',', 'interp', 'O'), ('a', 'conj', 'O'), ('także', 'conj', 'O'), ('macicę', 'subst:sg:acc:f', 'O'), ('i', 'conj', 'O'), ('fragment', 'subst:sg:acc:m3', 'O'), ('jelita', 'subst:sg:gen:n', 'O'), ('.', 'interp', 'O')], [('W', 'prep:acc:nwok', 'O'), ('kilkanaście', 'num:pl:acc:m3:rec', 'O'), ('dni', 'subst:pl:gen:m3', 'O'), ('później', 'adv:com', 'O'), ('-', 'interp', 'O'), ('na', 'prep:acc', 'O'), ('skutek', 'subst:sg:acc:m3', 'O'), ('komplikacji', 'subst:pl:gen:f', 'O'), ('urologicznych', 'adj:pl:gen:f:pos', 'O'), ('-', 'interp', 'O'), ('już', 'qub', 'O'), ('w', 'prep:loc:nwok', 'O'), ('ciechanowskim', 'adj:sg:loc:m3:pos', 'placeName_settlement'), ('szpitalu', 'subst:sg:loc:m3', 'O'), ('kobiecie', 'subst:sg:dat:f', 'O'), ('usunięto', 'imps:perf', 'O'), ('również', 'qub', 'O'), ('nerkę', 'subst:sg:acc:f', 'O'), ('.', 'interp', 'O')], [('-', 'interp', 'O'), ('Na', 'prep:loc', 'O'), ('początku', 'subst:sg:loc:m3', 'O'), ('byli', 'praet:pl:m1:imperf', 'O'), ('nimi', 'ppron3:pl:inst:m1:ter:akc:npraep', 'O'), ('napastnicy', 'subst:pl:nom:m1', 'O'), (',', 'interp', 'O'), ('zwłaszcza', 'qub', 'O'), ('Mariusz', 'subst:sg:nom:m1', 'persName_forename'), ('Kopecki', 'subst:sg:nom:m1', 'persName_surname'), (',', 'interp', 'O'), ('który', 'adj:sg:nom:m1:pos', 'O'), ('zdobył', 'praet:sg:m1:perf', 'O'), ('wiele', 'num:pl:acc:f:rec', 'O'), ('istotnych', 'adj:pl:gen:f:pos', 'O'), ('bramek', 'subst:pl:gen:f', 'O'), ('i', 'conj', 'O'), ('został', 'praet:sg:m1:perf', 'O'), ('królem', 'subst:sg:inst:m1', 'O'), ('strzelców', 'subst:pl:gen:m1', 'O'), ('tej', 'adj:sg:gen:f:pos', 'O'), ('rundy', 'subst:sg:gen:f', 'O'), ('w', 'prep:loc:nwok', 'O'), ('V', 'adj:sg:loc:f:pos', 'O'), ('lidze', 'subst:sg:loc:f', 'O'), ('.', 'interp', 'O')], [('Niestety', 'qub', 'O'), ('później', 'adv:com', 'O'), ('zatracił', 'praet:sg:m1:perf', 'O'), ('już', 'qub', 'O'), ('swą', 'adj:sg:acc:f:pos', 'O'), ('skuteczność', 'subst:sg:acc:f', 'O'), ('.', 'interp', 'O')], [('Tworzymy', 'fin:pl:pri:imperf', 'O'), ('silny', 'adj:sg:acc:m3:pos', 'O'), ('zespół', 'subst:sg:acc:m3', 'O'), ('i', 'conj', 'O'), ('to', 'pred', 'O'), ('jest', 'fin:sg:ter:imperf', 'O'), ('nasz', 'adj:sg:nom:m3:pos', 'O'), ('największy', 'adj:sg:nom:m3:sup', 'O'), ('atut', 'subst:sg:nom:m3', 'O'), ('.', 'interp', 'O')], [('Dużo', 'num:pl:acc:n:rec', 'O'), ('wnoszą', 'fin:pl:ter:imperf', 'O'), ('młodzi', 'adj:pl:nom:m1:pos', 'O'), ('zawodnicy', 'subst:pl:nom:m1', 'O'), (',', 'interp', 'O'), ('którzy', 'adj:pl:nom:m1:pos', 'O'), ('niespodziewanie', 'adv:pos', 'O'), ('świetnie', 'adv:pos', 'O'), ('wkomponowali', 'praet:pl:m1:perf', 'O'), ('się', 'qub', 'O'), ('w', 'prep:acc:nwok', 'O'), ('zespół', 'subst:sg:acc:m3', 'O'), ('.', 'interp', 'O')], [('Na', 'prep:loc', 'O'), ('pastwisku', 'subst:sg:loc:n', 'O'), ('w', 'prep:loc:nwok', 'O'), ('Uniszkach', 'subst:pl:loc:n', 'placeName_settlement'), ('Gumowskich', 'adj:pl:loc:n:pos', 'placeName_settlement'), ('rolnik', 'subst:sg:nom:m1', 'O'), ('załadował', 'praet:sg:m1:perf', 'O'), ('na', 'prep:acc', 'O'), ('dwukółkę', 'subst:sg:acc:f', 'O'), ('krowę', 'subst:sg:acc:f', 'O'), ('.', 'interp', 'O')], [('Zamierzał', 'praet:sg:m1:imperf', 'O'), ('ją', 'ppron3:sg:acc:f:ter:akc:npraep', 'O'), ('zawieść', 'inf:perf', 'O'), ('do', 'prep:gen', 'O'), ('inseminatora', 'subst:sg:gen:m1', 'O'), ('.', 'interp', 'O')], [('Gdy', 'adv', 'O'), ('dojeżdżał', 'praet:sg:m1:imperf', 'O'), ('do', 'prep:gen', 'O'), ('bramy', 'subst:sg:gen:f', 'O'), ('ogrodzenia', 'subst:sg:gen:n', 'O'), (',', 'interp', 'O'), ('spojrzał', 'praet:sg:m1:perf', 'O'), ('za', 'prep:acc', 'O'), ('siebie', 'siebie:acc', 'O'), ('.', 'interp', 'O')], [('Dostrzegł', 'praet:sg:m1:perf', 'O'), ('pędzącego', 'pact:sg:acc:m2:imperf:aff', 'O'), ('byka', 'subst:sg:acc:m2', 'O'), ('.', 'interp', 'O')], [('Zatrzymał', 'praet:sg:m1:perf', 'O'), ('traktor', 'subst:sg:acc:m3', 'O'), ('.', 'interp', 'O')], [('Wyszedł', 'praet:sg:m1:perf', 'O'), ('z', 'prep:gen:nwok', 'O'), ('kabiny', 'subst:sg:gen:f', 'O'), (',', 'interp', 'O'), ('by', 'comp', 'O'), ('zamknąć', 'inf:perf', 'O'), ('bramę', 'subst:sg:acc:f', 'O'), ('.', 'interp', 'O')], [('Tymczasem', 'adv', 'O'), ('byk', 'subst:sg:nom:m2', 'O'), ('już', 'qub', 'O'), ('był', 'praet:sg:m2:imperf', 'O'), ('przy', 'prep:loc', 'O'), ('nim', 'ppron3:sg:loc:m1:ter:akc:praep', 'O'), ('.', 'interp', 'O')], [('Rolnik', 'subst:sg:nom:m1', 'O'), (',', 'interp', 'O'), ('szukając', 'pcon:imperf', 'O'), ('schronienia', 'subst:sg:gen:n', 'O'), (',', 'interp', 'O'), ('błyskawicznie', 'adv:pos', 'O'), ('wskoczył', 'praet:sg:m1:perf', 'O'), ('na', 'prep:acc', 'O'), ('dwukółkę', 'subst:sg:acc:f', 'O'), ('.', 'interp', 'O')], [('Zwichnął', 'praet:sg:m1:perf', 'O'), (',', 'interp', 'O'), ('okażę', 'fin:sg:ter:perf', 'O'), ('się', 'qub', 'O'), (',', 'interp', 'O'), ('rękę', 'subst:sg:acc:f', 'O'), ('.', 'interp', 'O')], [('Celnicy', 'subst:pl:nom:m1', 'O'), (',', 'interp', 'O'), ('których', 'adj:pl:acc:m1:pos', 'O'), ('jedynie', 'qub', 'O'), ('Jezus', 'subst:sg:nom:m1', 'persName_forename'), ('był', 'praet:sg:m1:imperf', 'O'), ('w', 'prep:loc:nwok', 'O'), ('stanie', 'subst:sg:loc:m3', 'O'), ('pokochać', 'inf:perf', 'O'), (',', 'interp', 'O'), ('sparaliżowali', 'praet:pl:m1:perf', 'O'), ('kraj', 'subst:sg:acc:m3', 'O'), ('doprowadzając', 'pcon:imperf', 'O'), ('do', 'prep:gen', 'O'), ('trudnych', 'adj:pl:gen:f:pos', 'O'), ('w', 'prep:loc:nwok', 'O'), ('oszacowaniu', 'ger:sg:loc:n:perf:aff', 'O'), ('strat', 'subst:pl:gen:f', 'O'), (',', 'interp', 'O'), ('idących', 'pact:pl:gen:f:imperf:aff', 'O'), ('bez', 'prep:gen:nwok', 'O'), ('wątpienia', 'subst:sg:gen:n', 'O'), ('w', 'prep:acc:nwok', 'O'), ('setki', 'subst:pl:acc:f', 'O'), ('milionów', 'subst:pl:gen:m3', 'O'), ('złotych', 'subst:pl:gen:m2', 'O'), ('.', 'interp', 'O')], [('Faktyczny', 'adj:sg:nom:m3:pos', 'O'), ('strajk', 'subst:sg:nom:m3', 'O'), (',', 'interp', 'O'), ('który', 'adj:sg:nom:m3:pos', 'O'), ('jest', 'fin:sg:ter:imperf', 'O'), ('im', 'ppron3:pl:dat:m1:ter:akc:npraep', 'O'), ('zabroniony', 'ppas:sg:nom:m3:perf:aff', 'O'), (',', 'interp', 'O'), ('oprócz', 'prep:gen', 'O'), ('wymiernych', 'adj:pl:gen:m3:pos', 'O'), ('kosztów', 'subst:pl:gen:m3', 'O'), ('dla', 'prep:gen', 'O'), ('tysięcy', 'subst:pl:gen:m3', 'O'), ('firm', 'subst:pl:gen:f', 'O'), ('naraził', 'praet:sg:m3:perf', 'O'), ('państwo', 'subst:sg:acc:n', 'O'), ('polskie', 'adj:sg:acc:n:pos', 'placeName_country'), ('na', 'prep:acc', 'O'), ('kompromitację', 'subst:sg:acc:f', 'O'), ('.', 'interp', 'O')], [('Zbigniew', 'subst:sg:nom:m1', 'persName_forename'), ('Rzymkowski', 'subst:sg:nom:m1', 'persName_surname'), (',', 'interp', 'O'), ('rzecznik', 'subst:sg:nom:m1', 'O'), ('prasowy', 'adj:sg:nom:m1:pos', 'O'), ('policji', 'subst:sg:gen:f', 'O'), ('w', 'prep:loc:nwok', 'O'), ('Komendzie', 'subst:sg:loc:f', 'orgName'), ('Powiatowej', 'adj:sg:loc:f:pos', 'orgName'), ('w', 'prep:loc:nwok', 'orgName'), ('Żurominie', 'subst:sg:loc:m3', 'placeName_settlement'), ('jest', 'fin:sg:ter:imperf', 'O'), ('doświadczonym', 'adj:sg:inst:m1:pos', 'O'), ('funkcjonariuszem', 'subst:sg:inst:m1', 'O'), ('.', 'interp', 'O')], [('Zna', 'fin:sg:ter:imperf', 'O'), ('młodych', 'adj:pl:acc:m1:pos', 'O'), ('Kramerów', 'subst:pl:acc:m1', 'persName_surname'), ('z', 'prep:gen:nwok', 'O'), ('ich', 'ppron3:pl:gen:m1:ter:akc:npraep', 'O'), ('wcześniejszych', 'adj:pl:gen:m3:com', 'O'), ('wyskoków', 'subst:pl:gen:m3', 'O'), ('.', 'interp', 'O')], [('Teraz', 'adv', 'O'), ('się', 'qub', 'O'), ('już', 'qub', 'O'), ('uspokoili', 'praet:pl:m1:perf', 'O'), ('.', 'interp', 'O')], [('Ale', 'conj', 'O'), ('rzeczywiście', 'adv:pos', 'O'), (',', 'interp', 'O'), ('Kramerowa', 'subst:sg:nom:f', 'persName_surname'), ('bardzo', 'adv:pos', 'O'), ('często', 'adv:pos', 'O'), ('skarży', 'fin:sg:ter:imperf', 'O'), ('na', 'prep:acc', 'O'), ('Anielewskich', 'subst:pl:acc:m1', 'persName_surname'), ('.', 'interp', 'O')], [('Przy', 'prep:loc', 'O'), ('czym', 'subst:sg:loc:n', 'O'), ('skargi', 'subst:pl:nom:f', 'O'), ('nie', 'qub', 'O'), ('znajdują', 'fin:pl:ter:imperf', 'O'), ('potwierdzenia', 'subst:sg:gen:n', 'O'), ('.', 'interp', 'O')], [('Rzymkowski', 'subst:sg:nom:m1', 'persName_surname'), ('nie', 'qub', 'O'), ('potrafił', 'praet:sg:m1:imperf', 'O'), ('znaleźć', 'inf:perf', 'O'), ('potwierdzenie', 'subst:sg:gen:n', 'O'), (',', 'interp', 'O'), ('że', 'comp', 'O'), ('policjanci', 'subst:pl:nom:m1', 'O'), ('z', 'prep:gen:nwok', 'O'), ('posterunku', 'subst:sg:gen:m3', 'O'), ('w', 'prep:loc:nwok', 'O'), ('Lubowidzu', 'subst:sg:loc:m3', 'placeName_settlement'), ('zajmowali', 'praet:pl:m1:imperf', 'O'), ('jakiekolwiek', 'adj:sg:acc:n:pos', 'O'), ('stanowisko', 'subst:sg:acc:n', 'O'), ('.', 'interp', 'O')], [('Nie', 'qub', 'O'), ('ma', 'fin:sg:ter:imperf', 'O'), ('w', 'prep:loc:nwok', 'O'), ('archiwum', 'subst:sg:loc:n', 'O'), ('żadnych', 'adj:pl:gen:n:pos', 'O'), ('pism', 'subst:pl:gen:n', 'O'), (',', 'interp', 'O'), ('żaden', 'adj:sg:nom:m1:pos', 'O'), ('z', 'prep:gen:nwok', 'O'), ('policjantów', 'subst:pl:gen:m1', 'O'), ('z', 'prep:gen:nwok', 'O'), ('tego', 'adj:sg:gen:m3:pos', 'O'), ('okresu', 'subst:sg:gen:m3', 'O'), ('już', 'qub', 'O'), ('nie', 'qub', 'O'), ('pracuje', 'fin:sg:ter:imperf', 'O'), ('.', 'interp', 'O')], [('-', 'interp', 'O'), ('Lepsi', 'adj:pl:nom:m1:com', 'O'), ('to', 'qub', 'O'), ('już', 'qub', 'O'), ('byli', 'praet:pl:m1:imperf', 'O'), ('.', 'interp', 'O')], [('Ci', 'adj:pl:nom:m1:pos', 'O'), ('z', 'prep:gen:nwok', 'O'), ('AWS', 'subst:sg:gen:f', 'orgName'), ('.', 'interp', 'O')]]\n"
          ]
        }
      ]
    },
    {
      "cell_type": "code",
      "metadata": {
        "id": "e14GPlth57bZ",
        "colab": {
          "base_uri": "https://localhost:8080/"
        },
        "outputId": "1e893e47-5fca-4b69-ffcf-7d2b3e16df97"
      },
      "source": [
        "print('wielkosć zbioru treningowego:', len(train_sents))\n",
        "print('wielkosć zbioru testowego:' , len(test_sents))\n",
        "train_sents[10]"
      ],
      "execution_count": null,
      "outputs": [
        {
          "output_type": "stream",
          "name": "stdout",
          "text": [
            "wielkosć zbioru treningowego: 15000\n",
            "wielkosć zbioru testowego: 68781\n"
          ]
        },
        {
          "output_type": "execute_result",
          "data": {
            "text/plain": [
              "[('To', 'pred', 'O'),\n",
              " ('są', 'fin:pl:ter:imperf', 'O'),\n",
              " ('oczywistości', 'subst:pl:nom:f', 'O'),\n",
              " ('.', 'interp', 'O')]"
            ]
          },
          "metadata": {},
          "execution_count": 143
        }
      ]
    },
    {
      "cell_type": "code",
      "metadata": {
        "id": "CFOhUrhz57bZ"
      },
      "source": [
        "#listing tagów w zbiorze treningowym tagi (2 kolumna) i etykiety (3 kolumna)\n",
        "\n",
        "labl={}\n",
        "tagl={}\n",
        "for s in train_sents:\n",
        "    for w in s:\n",
        "        try:\n",
        "            labl[w[2]]+=1\n",
        "        except KeyError:\n",
        "            labl[w[2]]=1\n",
        "        try:\n",
        "            tagl[w[1]]+=1\n",
        "        except KeyError:\n",
        "            tagl[w[1]]=1\n",
        "#labl=sorted(labl)\n",
        "#tagl=sorted(tagl)"
      ],
      "execution_count": null,
      "outputs": []
    },
    {
      "cell_type": "code",
      "metadata": {
        "id": "lj86Obog57bZ",
        "colab": {
          "base_uri": "https://localhost:8080/"
        },
        "outputId": "9c2fca24-80a9-4dd0-cb88-7f9192668bec"
      },
      "source": [
        "print(labl)\n",
        "print(tagl)\n",
        "print(sorted(labl))\n",
        "print(sorted(tagl))"
      ],
      "execution_count": null,
      "outputs": [
        {
          "output_type": "stream",
          "name": "stdout",
          "text": [
            "{'O': 217689, 'persName_surname': 2933, 'placeName_settlement': 1562, 'orgName': 3933, 'geogName': 1382, 'persName_addName': 179, 'persName_forename': 2757, 'persName': 411, 'time': 214, 'placeName_country': 1851, 'date': 2106, 'placeName': 77, 'placeName_region': 128, 'placeName_bloc': 28, 'placeName_district': 65}\n",
            "{'praet:sg:m1:perf': 1657, 'subst:pl:acc:n': 609, 'prep:gen:nwok': 2726, 'subst:sg:gen:n': 2643, 'interp': 41319, 'num:pl:acc:m3:congr': 149, 'subst:pl:acc:m3': 1087, 'subst:sg:acc:m3': 2729, 'subst:sg:acc:f': 3079, 'comp': 3313, 'inf:perf': 2164, 'qub': 11761, 'adv:pos': 4260, 'ppas:pl:nom:n:perf:aff': 42, 'prep:loc': 3001, 'subst:pl:loc:n': 458, 'ppron3:sg:acc:f:ter:akc:npraep': 109, 'conj': 9161, 'adj:sg:loc:f:pos': 909, 'subst:sg:loc:f': 2399, 'prep:inst': 363, 'subst:pl:inst:m3': 318, 'adv': 3070, 'praet:pl:m3:imperf': 133, 'prep:loc:nwok': 5430, 'adj:sg:loc:n:pos': 348, 'subst:sg:loc:n': 1116, 'adj:pl:nom:m3:pos': 548, 'subst:pl:nom:m3': 815, 'adj:pl:gen:m3:pos': 908, 'praet:sg:n:imperf': 659, 'ppron3:sg:gen:m1:ter:akc:npraep': 281, 'subst:sg:gen:m3': 4648, 'subst:sg:inst:m1': 588, 'subst:sg:gen:f': 6103, 'subst:sg:gen:m1': 2050, 'fin:sg:ter:imperf': 6160, 'subst:sg:nom:n': 2124, 'subst:sg:nom:m3': 3230, 'prep:gen': 3535, 'subst:pl:gen:m3': 2287, 'subst:sg:nom:f': 4349, 'adj:sg:nom:m3:pos': 1535, 'adj:sg:inst:m3:pos': 554, 'subst:sg:inst:m3': 1373, 'subst:sg:inst:n': 822, 'ppas:sg:inst:n:perf:aff': 17, 'adj:sg:gen:f:pos': 2155, 'adj:sg:acc:f:pos': 1198, 'adj:sg:gen:n:pos': 859, 'subst:sg:nom:m1': 4184, 'prep:acc:nwok': 1438, 'adjp': 162, 'praet:sg:m1:imperf': 1304, 'aglt:sg:pri:imperf:wok': 391, 'adj:sg:loc:m3:pos': 1149, 'subst:sg:loc:m3': 2759, 'subst:sg:acc:n': 1914, 'fin:sg:pri:imperf': 852, 'fin:sg:ter:perf': 687, 'ppron3:sg:gen:f:ter:akc:npraep': 204, 'ger:sg:gen:n:imperf:aff': 534, 'subst:sg:inst:f': 1590, 'adj:sg:nom:f:pos': 2062, 'subst:pl:acc:f': 1065, 'adj:pl:acc:m3:pos': 546, 'subst:pl:gen:m1': 1364, 'fin:pl:ter:imperf': 2148, 'subst:pl:nom:m1': 1098, 'adj:pl:nom:m1:pos': 659, 'prep:acc': 3225, 'subst:pl:nom:n': 528, 'adj:pl:nom:n:pos': 305, 'subst:pl:gen:f': 2056, 'adj:sg:acc:m3:pos': 1171, 'pred': 1255, 'subst:pl:nom:f': 1035, 'prep:loc:wok': 104, 'adj:pl:loc:f:pos': 281, 'subst:pl:loc:f': 493, 'adj:pl:dat:m1:pos': 99, 'subst:pl:dat:m1': 191, 'inf:imperf': 1778, 'adj:sg:acc:n:sup': 16, 'adj:pl:loc:m3:pos': 280, 'subst:pl:loc:m3': 596, 'subst:pl:dat:n': 46, 'adv:com': 624, 'ppron3:pl:gen:n:ter:akc:praep': 12, 'prep:inst:nwok': 2064, 'fin:pl:pri:imperf': 614, 'bedzie:sg:ter:imperf': 279, 'pact:sg:inst:f:imperf:aff': 32, 'adj:sg:nom:n:pos': 1087, 'pact:sg:nom:f:imperf:aff': 79, 'num:pl:gen:f:congr': 88, 'adj:pl:gen:f:sup': 25, 'adj:pl:gen:f:pos': 981, 'prep:gen:wok': 204, 'ger:sg:acc:n:perf:aff': 272, 'adj:sg:inst:f:pos': 609, 'adj:sg:gen:m1:pos': 252, 'adj:sg:gen:m3:pos': 1873, 'praet:sg:m1:perf:nagl': 34, 'praet:sg:n:perf': 505, 'adj:sg:inst:f:sup': 18, 'adj:pl:nom:f:pos': 727, 'adj:pl:gen:n:pos': 506, 'subst:pl:gen:n': 1204, 'praet:pl:f:imperf': 206, 'praet:sg:f:perf': 932, 'ppron3:pl:acc:f:ter:akc:npraep': 49, 'siebie:inst': 56, 'praet:sg:f:imperf': 811, 'adj:sg:nom:m1:pos': 930, 'pcon:imperf': 596, 'adj:sg:dat:f:pos': 112, 'subst:sg:dat:f': 291, 'pact:pl:inst:m3:imperf:aff': 12, 'prep:nom': 212, 'prep:inst:wok': 215, 'ppas:sg:inst:m3:perf:aff': 28, 'ger:sg:nom:n:imperf:aff': 195, 'imps:imperf': 134, 'subst:pl:loc:m1': 26, 'subst:sg:loc:m1': 105, 'subst:sg:gen:m2': 152, 'praet:sg:m3:perf': 442, 'ppas:sg:nom:f:perf:aff': 281, 'ger:sg:inst:n:perf:aff': 78, 'siebie:loc': 40, 'adj:pl:acc:n:pos': 319, 'siebie:acc': 46, 'ppas:pl:inst:n:perf:aff': 8, 'subst:pl:inst:n': 190, 'adj:pl:loc:n:pos': 177, 'praet:sg:m3:imperf': 380, 'ppron3:sg:acc:m3:ter:nakc:npraep': 81, 'ppron3:sg:gen:m3:ter:akc:npraep': 78, 'adj:sg:acc:n:pos': 641, 'subst:sg:dat:m3': 115, 'ppas:pl:nom:f:imperf:aff': 65, 'adj:sg:inst:n:pos': 281, 'praet:pl:n:imperf': 99, 'ppas:sg:nom:m3:perf:aff': 218, 'num:pl:acc:m3:rec': 534, 'praet:sg:m2:imperf': 20, 'subst:sg:nom:m2': 242, 'ppas:pl:nom:m3:imperf:aff': 57, 'subst:pl:acc:m1': 342, 'ppron3:sg:dat:f:ter:akc:npraep': 65, 'subst:pl:inst:f': 272, 'pact:pl:nom:f:imperf:aff': 39, 'praet:pl:m1:imperf': 598, 'praet:pl:f:perf': 189, 'fin:sg:sec:imperf': 308, 'impt:sg:sec:imperf': 120, 'siebie:gen': 70, 'ppas:pl:acc:m3:perf:aff': 43, 'adj:sg:nom:f:com': 52, 'praet:sg:m2:perf': 28, 'praet:pl:m2:perf': 11, 'subst:pl:nom:m2': 71, 'praet:pl:m1:perf': 584, 'ppron3:pl:gen:m1:ter:akc:praep': 56, 'ger:sg:loc:n:perf:aff': 177, 'pact:pl:nom:m1:imperf:aff': 32, 'adja': 145, 'adj:sg:nom:m2:pos': 59, 'imps:perf': 333, 'ppron3:sg:dat:m1:ter:nakc:npraep': 154, 'subst:sg:dat:m1': 247, 'subst:pl:gen:m2': 152, 'adj:sg:inst:m3:sup': 19, 'siebie:dat': 219, 'prep:dat': 194, 'adj:pl:acc:f:pos': 542, 'praet:pl:m2:imperf': 12, 'pact:pl:acc:n:imperf:aff': 16, 'ppron3:pl:gen:m1:ter:akc:npraep': 130, 'ppron3:pl:dat:m1:ter:akc:praep': 3, 'ppas:sg:nom:m2:imperf:aff': 4, 'ppas:sg:nom:f:imperf:aff': 97, 'pact:sg:nom:n:imperf:aff': 31, 'ger:sg:nom:n:perf:aff': 218, 'ppas:pl:gen:f:imperf:aff': 39, 'subst:sg:acc:m1': 596, 'ppron3:sg:acc:m1:ter:nakc:npraep': 131, 'praet:pl:m3:perf': 129, 'ppas:pl:nom:m3:perf:aff': 108, 'ppron3:pl:inst:m1:ter:akc:praep': 13, 'praet:sg:m1:imperf:nagl': 47, 'ppas:sg:inst:f:perf:aff': 43, 'adj:pl:nom:m2:pos': 40, 'pact:pl:nom:m2:imperf:aff': 3, 'ppron3:pl:dat:m1:ter:akc:npraep': 48, 'ppas:pl:nom:f:perf:aff': 99, 'ppron3:pl:nom:m1:ter:akc:npraep': 53, 'burk': 24, 'pact:pl:gen:f:imperf:aff': 68, 'pact:pl:acc:f:imperf:aff': 42, 'pant:perf': 53, 'subst:sg:acc:m2': 74, 'pact:sg:inst:m3:imperf:aff': 18, 'pact:sg:acc:f:imperf:aff': 43, 'ppron3:pl:acc:m1:ter:akc:npraep': 49, 'ppas:pl:acc:f:perf:aff': 37, 'adj:pl:dat:m3:com': 1, 'pact:pl:dat:m3:imperf:aff': 2, 'adj:pl:dat:m3:pos': 27, 'subst:pl:dat:m3': 37, 'prep:acc:wok': 30, 'num:pl:acc:m1:rec': 59, 'ppas:sg:acc:m3:perf:aff': 63, 'adj:pl:acc:m2:pos': 23, 'subst:pl:acc:m2': 72, 'ppron12:pl:dat:m1:pri': 92, 'ppron12:sg:dat:m1:pri:nakc': 126, 'ppron3:sg:dat:m1:ter:akc:npraep': 6, 'fin:sg:pri:perf': 106, 'subst:sg:voc:m1': 83, 'fin:pl:pri:perf': 131, 'ppron12:pl:loc:m1:pri': 8, 'ppron12:pl:nom:m1:pri': 48, 'pact:pl:nom:n:imperf:aff': 19, 'adj:sg:acc:m1:pos': 133, 'ppron3:sg:inst:m3:ter:akc:praep': 6, 'subst:pl:inst:m1': 171, 'ppas:sg:acc:f:perf:aff': 52, 'adj:sg:acc:m3:com': 23, 'ppas:pl:nom:n:imperf:aff': 26, 'adj:pl:acc:m1:pos': 142, 'ppas:pl:acc:m1:perf:aff': 11, 'ppas:pl:nom:m2:perf:aff': 6, 'ppas:sg:acc:m2:perf:aff': 1, 'adj:sg:inst:m1:pos': 200, 'ppas:sg:acc:n:perf:aff': 30, 'ppron12:sg:acc:m1:pri:akc': 63, 'aglt:sg:pri:imperf:nwok': 231, 'adj:sg:gen:m3:sup': 18, 'ppron12:sg:nom:m1:pri': 122, 'ger:sg:gen:n:perf:aff': 554, 'adv:sup': 220, 'ppron3:sg:acc:n:ter:akc:praep': 2, 'num:pl:nom:m3:rec': 430, 'adj:pl:gen:m1:pos': 414, 'pact:pl:acc:m1:imperf:aff': 16, 'adj:pl:inst:n:pos': 67, 'ppas:pl:nom:m1:perf:aff': 69, 'ppas:pl:gen:f:perf:aff': 71, 'subst:pl:inst:m2': 14, 'adj:sg:dat:m1:pos': 60, 'ppron12:sg:gen:m1:pri:akc': 46, 'adj:sg:gen:m2:pos': 37, 'ppron3:sg:inst:m1:ter:akc:praep': 36, 'fin:pl:ter:perf': 213, 'aglt:pl:pri:imperf:nwok': 275, 'ppron12:pl:nom:m1:sec': 7, 'num:pl:nom:m1:congr': 25, 'num:pl:gen:m1:congr': 43, 'ppas:sg:nom:m1:perf:aff': 145, 'praet:pl:n:perf': 89, 'subst:sg:voc:f': 23, 'adj:pl:inst:f:pos': 131, 'ppron3:sg:gen:m1:ter:nakc:praep': 3, 'adjc': 14, 'ppron3:sg:nom:m1:ter:akc:npraep': 88, 'ppron3:sg:acc:f:ter:akc:praep': 11, 'adj:pl:loc:m1:pos': 10, 'ppron3:sg:gen:m3:ter:nakc:npraep': 14, 'fin:sg:sec:perf': 49, 'num:pl:nom:m3:congr': 197, 'ppas:sg:nom:n:perf:aff': 99, 'ppas:pl:gen:m3:perf:aff': 67, 'adj:sg:voc:m1:pos': 15, 'ppron3:sg:nom:f:ter:akc:npraep': 87, 'ppron3:sg:loc:f:ter:akc:praep': 33, 'interj': 60, 'ger:sg:loc:n:imperf:aff': 110, 'adj:pl:nom:f:com': 22, 'pact:sg:acc:m3:imperf:aff': 63, 'ppas:pl:acc:m3:imperf:aff': 18, 'ppron3:sg:acc:m1:ter:akc:praep': 19, 'numcol:pl:inst:n:rec': 5, 'ppron3:sg:gen:m1:ter:akc:praep': 45, 'adj:pl:gen:m2:pos': 25, 'pact:pl:acc:m3:imperf:aff': 42, 'pact:pl:nom:m3:imperf:aff': 35, 'ppas:sg:gen:n:perf:aff': 37, 'adj:sg:inst:n:sup': 10, 'adj:sg:nom:m1:sup': 14, 'num:pl:loc:f:congr': 46, 'ppron3:sg:acc:n:ter:akc:npraep': 18, 'pact:pl:gen:m1:imperf:aff': 59, 'bedzie:pl:ter:imperf': 102, 'numcol:pl:acc:n:rec': 8, 'praet:sg:m2:imperf:nagl': 1, 'num:pl:acc:n:rec': 105, 'pact:pl:acc:m2:imperf:aff': 2, 'num:pl:nom:f:rec': 164, 'num:pl:nom:n:rec': 77, 'ppas:sg:inst:m1:perf:aff': 12, 'ppas:sg:nom:m1:imperf:aff': 45, 'adj:sg:voc:f:pos': 2, 'impt:pl:pri:imperf': 30, 'pact:pl:gen:n:imperf:aff': 44, 'ppron3:sg:loc:m1:ter:akc:praep': 26, 'ppron12:sg:nom:m1:sec': 29, 'ppron12:sg:acc:f:pri:akc': 19, 'ppron3:pl:loc:m3:ter:akc:praep': 11, 'winien:sg:f:imperf': 38, 'adj:sg:loc:m1:pos': 28, 'ppas:pl:acc:m2:perf:aff': 3, 'adj:sg:inst:m1:sup': 2, 'adj:pl:nom:n:com': 5, 'ppron3:sg:inst:m3:ter:akc:npraep': 4, 'impt:sg:sec:perf': 178, 'pact:sg:gen:m2:imperf:aff': 2, 'ppron3:sg:loc:m3:ter:akc:praep': 26, 'brev:npun': 462, 'ppron3:sg:dat:m2:ter:nakc:npraep': 3, 'pact:sg:acc:n:imperf:aff': 16, 'ppron12:sg:gen:m2:pri:akc': 1, 'adj:sg:gen:m1:sup': 7, 'brev:pun': 1609, 'numcol:pl:nom:m1:rec': 2, 'ppas:pl:acc:n:perf:aff': 17, 'ppron12:sg:acc:m1:sec:nakc': 22, 'bedzie:sg:sec:imperf': 12, 'fin:pl:sec:imperf': 57, 'ppron12:pl:gen:m1:pri': 104, 'ppron12:sg:dat:m1:sec:nakc': 24, 'ppas:sg:loc:m3:perf:aff': 25, 'pact:sg:gen:f:imperf:aff': 61, 'ppas:sg:loc:f:perf:aff': 35, 'adj:sg:nom:m1:com': 14, 'adj:sg:gen:m1:com': 5, 'adj:pl:inst:m3:pos': 133, 'num:pl:acc:f:rec': 146, 'num:pl:acc:f:congr': 57, 'pact:sg:inst:n:imperf:aff': 9, 'pact:sg:gen:n:imperf:aff': 20, 'adj:pl:gen:n:com': 10, 'ppas:pl:acc:f:imperf:aff': 11, 'ppron3:pl:acc:n:ter:akc:npraep': 26, 'ppron3:pl:loc:f:ter:akc:praep': 9, 'ppron3:sg:loc:n:ter:akc:praep': 5, 'num:pl:dat:m1:congr': 9, 'ppron3:pl:acc:m1:ter:akc:praep': 9, 'ger:sg:inst:n:imperf:aff': 64, 'aglt:sg:sec:imperf:nwok': 72, 'subst:pl:dat:f': 75, 'ger:pl:nom:n:perf:aff': 1, 'num:pl:gen:m3:congr': 288, 'ppron3:pl:gen:f:ter:akc:npraep': 85, 'ppron3:sg:dat:m3:ter:nakc:npraep': 9, 'praet:sg:m3:perf:nagl': 18, 'adj:sg:nom:m3:com': 41, 'ppas:sg:acc:m3:imperf:aff': 10, 'ppron3:sg:acc:m1:ter:nakc:praep': 4, 'ppas:sg:inst:f:perf:neg': 2, 'num:pl:loc:m3:congr': 100, 'adj:pl:inst:m1:pos': 50, 'ppas:sg:gen:f:perf:aff': 77, 'ppron3:sg:gen:m1:ter:nakc:npraep': 22, 'ppron3:pl:dat:f:ter:akc:npraep': 20, 'pact:sg:nom:m3:imperf:aff': 63, 'ppas:pl:gen:n:perf:aff': 39, 'ppas:pl:inst:m3:perf:aff': 4, 'ppas:sg:gen:f:imperf:aff': 31, 'ppron3:pl:loc:m1:ter:akc:praep': 8, 'pact:sg:gen:m3:imperf:aff': 46, 'pact:sg:loc:m3:imperf:aff': 14, 'adj:sg:dat:n:pos': 33, 'subst:sg:dat:n': 108, 'num:pl:inst:m3:congr': 22, 'num:pl:nom:f:congr': 79, 'num:pl:gen:n:congr': 37, 'num:pl:nom:n:congr': 31, 'adj:pl:gen:m1:com': 9, 'ger:sg:dat:n:imperf:aff': 16, 'adj:pl:dat:n:pos': 28, 'ppas:pl:dat:n:perf:aff': 2, 'adj:sg:nom:f:sup': 24, 'ppron12:sg:inst:m1:pri': 13, 'pact:pl:gen:m3:imperf:aff': 56, 'ppron3:pl:gen:m2:ter:akc:npraep': 10, 'ppron3:pl:nom:n:ter:akc:npraep': 9, 'ppron3:pl:gen:n:ter:akc:npraep': 22, 'pact:sg:nom:m1:imperf:aff': 70, 'pact:pl:dat:n:imperf:aff': 2, 'adj:sg:gen:f:com': 31, 'num:pl:nom:m1:rec': 117, 'adj:sg:dat:m3:pos': 35, 'ppas:pl:loc:m3:perf:aff': 23, 'ppron3:sg:dat:m1:ter:akc:praep': 4, 'ppron12:pl:dat:m1:sec': 16, 'adj:sg:loc:f:sup': 7, 'pact:sg:loc:f:imperf:aff': 15, 'ppas:sg:nom:m2:perf:aff': 4, 'ppron3:pl:acc:m3:ter:akc:npraep': 31, 'pact:sg:gen:m1:imperf:aff': 24, 'adj:pl:gen:f:com': 18, 'ppron3:pl:inst:n:ter:akc:praep': 6, 'qub:wok': 3, 'num:pl:inst:f:congr': 15, 'ppron3:pl:gen:m3:ter:akc:npraep': 47, 'num:pl:acc:m2:rec': 38, 'ppas:sg:loc:n:perf:aff': 12, 'adj:sg:nom:n:sup': 24, 'ppron12:sg:dat:f:pri:nakc': 32, 'ppron12:sg:nom:f:pri': 21, 'ppron3:pl:acc:m2:ter:akc:npraep': 4, 'subst:sg:dat:m2': 8, 'aglt:sg:sec:imperf:wok': 45, 'adj:sg:loc:n:sup': 5, 'adj:sg:nom:n:com': 33, 'adj:sg:acc:n:com': 18, 'ppas:pl:gen:n:imperf:aff': 17, 'ppron3:pl:loc:n:ter:akc:praep': 6, 'ppron3:sg:gen:f:ter:akc:praep': 35, 'bedzie:sg:pri:imperf': 23, 'ppron12:pl:acc:n:sec': 2, 'ppron3:sg:inst:f:ter:akc:praep': 20, 'depr:pl:nom:m2': 14, 'ppron3:pl:acc:n:ter:akc:praep': 4, 'adj:pl:nom:m3:com': 10, 'ppas:sg:inst:m3:imperf:aff': 5, 'num:pl:acc:n:congr': 11, 'ppron3:sg:gen:m3:ter:akc:praep': 15, 'ppas:sg:gen:m1:perf:aff': 12, 'ppron12:pl:loc:m3:sec': 2, 'ppas:pl:loc:n:imperf:aff': 4, 'ppas:pl:nom:m1:imperf:aff': 28, 'depr:pl:acc:m2': 8, 'ppas:pl:loc:f:perf:aff': 12, 'ppron3:pl:dat:n:ter:akc:npraep': 5, 'adj:pl:dat:f:pos': 51, 'ger:sg:acc:n:imperf:aff': 168, 'ppron3:sg:gen:n:ter:akc:npraep': 37, 'adj:pl:acc:m3:com': 10, 'adj:sg:acc:f:com': 42, 'pact:pl:gen:m2:imperf:aff': 5, 'ppas:pl:inst:f:perf:aff': 12, 'impt:pl:pri:perf': 55, 'pact:sg:inst:m1:imperf:aff': 10, 'ppron3:pl:nom:m3:ter:akc:npraep': 15, 'ppron12:sg:gen:m1:sec:akc': 7, 'adj:pl:nom:f:sup': 12, 'ppron3:pl:nom:f:ter:akc:npraep': 28, 'ppron3:sg:nom:n:ter:akc:npraep': 17, 'winien:pl:m1:imperf': 27, 'ppron3:pl:inst:f:ter:akc:praep': 6, 'ppron12:sg:acc:m1:sec:akc': 5, 'adj:sg:acc:m3:sup': 16, 'adj:sg:acc:m2:pos': 22, 'ppron12:sg:inst:m1:sec': 8, 'ppron3:pl:inst:m1:ter:akc:npraep': 1, 'subst:sg:loc:m2': 18, 'subst:sg:inst:m2': 42, 'ppron12:pl:inst:m1:sec': 3, 'ppron12:sg:gen:f:sec:akc': 9, 'ppron12:pl:acc:m1:pri': 57, 'ppron3:pl:gen:m3:ter:akc:praep': 12, 'ppron3:sg:acc:m2:ter:nakc:npraep': 6, 'impt:pl:sec:imperf': 30, 'ppas:sg:gen:m3:perf:aff': 54, 'winien:sg:m1:imperf': 32, 'ppas:pl:dat:m1:perf:aff': 5, 'adj:sg:gen:f:sup': 25, 'pact:pl:dat:m1:imperf:aff': 9, 'adj:pl:dat:f:sup': 1, 'ppas:sg:nom:m3:imperf:aff': 64, 'adj:pl:gen:m1:sup': 16, 'ppas:sg:gen:f:perf:neg': 4, 'adj:sg:gen:n:com': 17, 'ppron3:sg:dat:n:ter:akc:praep': 1, 'ppas:sg:nom:n:perf:neg': 2, 'adj:pl:inst:f:com': 6, 'adj:sg:nom:m3:sup': 29, 'winien:pl:m3:imperf': 8, 'adj:pl:loc:n:sup': 4, 'ppas:sg:acc:m3:imperf:neg': 1, 'pact:sg:acc:m1:imperf:aff': 11, 'ppas:sg:acc:m1:imperf:aff': 2, 'num:pl:loc:n:congr': 17, 'xxx': 183, 'ppron3:sg:dat:n:ter:nakc:npraep': 4, 'ppron12:sg:loc:m1:pri': 8, 'pact:sg:dat:f:imperf:aff': 6, 'ger:sg:gen:n:imperf:neg': 6, 'pact:sg:inst:m3:imperf:neg': 2, 'ppron3:sg:nom:m3:ter:akc:npraep': 46, 'praet:sg:m3:imperf:nagl': 24, 'ppron3:sg:acc:m3:ter:nakc:praep': 3, 'ppas:sg:dat:m1:perf:aff': 2, 'adj:sg:loc:m3:sup': 15, 'adj:sg:gen:n:sup': 10, 'ppron12:sg:acc:m1:pri:nakc': 2, 'ppron12:sg:acc:f:sec:nakc': 14, 'impt:pl:sec:perf': 21, 'num:pl:gen:m2:congr': 21, 'ppron12:pl:acc:m1:sec': 12, 'ppas:sg:nom:n:imperf:aff': 44, 'ppas:sg:dat:m3:perf:aff': 3, 'ppron12:sg:dat:m1:pri:akc': 7, 'winien:sg:n:imperf': 32, 'ppas:sg:loc:n:imperf:aff': 3, 'pact:sg:loc:n:imperf:aff': 9, 'adj:pl:nom:m3:sup': 10, 'ppron3:pl:acc:m3:ter:akc:praep': 6, 'adj:sg:gen:m3:com': 11, 'adj:pl:acc:m3:sup': 11, 'bedzie:pl:pri:imperf': 36, 'ppas:sg:acc:f:imperf:aff': 13, 'adj:pl:loc:f:com': 7, 'adj:pl:acc:m1:com': 3, 'ppas:sg:loc:m3:imperf:aff': 14, 'ppron12:pl:nom:m1:sec:akc': 1, 'aglt:pl:sec:imperf:nwok': 20, 'ppas:sg:dat:f:perf:aff': 5, 'adj:sg:loc:m3:com': 16, 'ppron3:sg:gen:n:ter:nakc:npraep': 6, 'ppron12:pl:inst:m1:pri': 18, 'praet:sg:m1:imperf:agl': 9, 'adj:sg:acc:f:sup': 19, 'praet:sg:m1:perf:agl': 4, 'ger:sg:dat:n:perf:aff': 29, 'ppron12:sg:loc:m1:sec': 2, 'ppas:pl:gen:m3:imperf:aff': 25, 'adj:pl:gen:m3:sup': 23, 'ger:sg:acc:n:imperf:neg': 5, 'ppas:pl:gen:m1:perf:aff': 46, 'adj:sg:inst:f:com': 14, 'ppas:sg:gen:n:imperf:aff': 11, 'adj:sg:loc:f:com': 10, 'ppas:sg:acc:m1:perf:aff': 8, 'pact:pl:loc:m3:imperf:aff': 14, 'ppas:sg:loc:m1:perf:aff': 2, 'ppron3:sg:dat:n:ter:akc:npraep': 1, 'bedzie:pl:sec:imperf': 5, 'ppas:sg:dat:f:imperf:aff': 2, 'num:pl:gen:m3:rec': 25, 'ppron3:pl:gen:f:ter:akc:praep': 35, 'ppas:sg:gen:m3:imperf:aff': 32, 'num:pl:inst:m1:congr': 4, 'ppron12:sg:gen:f:pri:akc': 21, 'ppron12:pl:dat:f:pri': 6, 'ppas:sg:acc:m3:perf:neg': 1, 'ppas:pl:nom:m2:imperf:aff': 2, 'adj:sg:loc:n:com': 2, 'ppron12:sg:acc:f:sec:akc': 6, 'ppron12:sg:dat:f:sec:nakc': 22, 'ppron12:sg:gen:m2:sec:akc': 2, 'ppron12:sg:acc:m2:pri:akc': 1, 'ppron12:sg:gen:m2:sec:nakc': 1, 'ppron12:sg:nom:f:pri:nakc': 1, 'ppron12:sg:gen:f:sec:nakc': 2, 'ppron12:sg:nom:f:sec': 13, 'ppas:pl:acc:n:imperf:aff': 7, 'ppron12:sg:nom:m1:sec:akc': 1, 'ppron12:sg:nom:m3:pri': 2, 'ppron12:sg:inst:f:pri': 4, 'adj:sg:inst:m2:pos': 14, 'adj:pl:acc:f:com': 16, 'ppron12:sg:inst:f:sec': 6, 'adj:pl:dat:m1:com': 2, 'ppron3:pl:inst:m3:ter:akc:praep': 1, 'winien:pl:f:imperf': 8, 'ppron12:sg:loc:f:sec': 5, 'ppron3:sg:inst:m1:ter:akc:npraep': 5, 'ppas:sg:inst:f:imperf:aff': 8, 'ppron12:pl:nom:f:sec': 1, ':subst:sg:gen:n': 1, ':subst:sg:acc:n': 1, 'adj:sg:loc:m2:pos': 5, 'ppron3:sg:nom:m2:ter:akc:npraep': 5, 'winien:sg:m2:imperf': 1, 'ppron3:sg:gen:m2:ter:akc:npraep': 9, 'subst:pl:loc:m2': 9, 'ppron3:pl:dat:m3:ter:akc:npraep': 3, 'adj:pl:gen:n:sup': 4, 'ppas:pl:inst:m3:imperf:aff': 5, 'ger:pl:gen:n:imperf:aff': 1, 'adj:sg:dat:f:com': 2, 'adj:pl:gen:m3:com': 16, 'adj:pl:nom:m1:com': 13, 'ppas:pl:gen:m1:imperf:aff': 11, 'pact:pl:loc:f:imperf:aff': 9, 'num:pl:inst:n:congr': 3, 'adj:pl:acc:m1:sup': 4, 'adj:pl:nom:m1:sup': 13, 'num:pl:loc:f:rec': 3, 'adj:sg:inst:n:com': 7, 'adj:pl:dat:n:sup': 1, 'pact:pl:inst:f:imperf:aff': 6, 'ger:sg:nom:n:perf:neg': 2, 'pact:pl:dat:f:imperf:aff': 3, 'adj:pl:loc:m3:sup': 6, 'num:pl:nom:m2:rec': 36, 'num:pl:gen:f:rec': 5, 'adj:sg:inst:m3:com': 9, 'adj:sg:dat:m2:pos': 2, 'adj:pl:acc:f:sup': 6, 'pact:pl:loc:n:imperf:aff': 6, 'ppron3:pl:acc:f:ter:akc:praep': 1, 'ppas:sg:acc:n:imperf:aff': 7, 'num:sg:acc:m3:rec': 1, 'ppron3:pl:gen:m2:ter:akc:praep': 2, 'ppas:pl:inst:m1:perf:aff': 3, 'adj:pl:loc:n:com': 5, 'adj:sg:dat:f:sup': 4, 'fin:pl:sec:perf': 13, 'adj:pl:dat:m1:sup': 1, 'adj:pl:loc:f:sup': 4, 'winien:sg:m3:imperf': 11, 'winien:pl:n:imperf': 6, 'numcol:pl:gen:n:rec': 4, 'numcol:pl:nom:n:rec': 3, 'adj:pl:loc:m3:com': 9, 'ppas:pl:gen:m2:perf:aff': 2, 'ppas:sg:gen:m3:perf:neg': 3, 'num:pl:gen:m2:rec': 4, 'ppron12:pl:loc:m1:sec': 1, 'ppas:sg:gen:m1:imperf:aff': 4, 'ppron3:sg:gen:n:ter:akc:praep': 5, 'adj:pl:acc:n:sup': 4, 'pact:pl:inst:m1:imperf:aff': 10, 'ppas:pl:dat:f:perf:aff': 2, 'ppron12:pl:nom:n:sec': 1, 'adj:pl:inst:m1:sup': 4, 'ppas:sg:loc:f:imperf:aff': 6, 'pact:sg:dat:m1:imperf:aff': 2, 'ppas:sg:gen:m3:imperf:neg': 2, 'adj:pl:nom:n:sup': 4, 'ppas:pl:loc:n:perf:aff': 4, 'adj:sg:acc:m1:sup': 2, 'ppron3:sg:acc:m1:ter:akc:npraep': 3, 'ppron12:sg:dat:m1:sec:akc': 1, 'ppron12:sg:dat:f:sec:akc': 2, 'num:sg:nom:m3:congr': 2, 'adj:pl:nom:m2:sup': 1, 'ppas:sg:inst:f:imperf:neg': 2, 'ppas:pl:loc:f:perf:neg': 1, 'ppas:sg:gen:m2:perf:aff': 1, 'pact:pl:loc:m1:imperf:aff': 1, 'adj:sg:dat:m1:com': 1, 'ppron12:pl:gen:m1:sec': 7, 'num:sg:gen:m3:rec': 3, 'pact:sg:dat:m2:imperf:aff': 1, 'ppas:pl:inst:n:imperf:aff': 4, 'ppron3:sg:gen:m2:ter:akc:praep': 1, 'ger:sg:gen:n:perf:neg': 2, 'ppas:sg:inst:n:perf:neg': 2, 'ppron3:pl:nom:m2:ter:akc:npraep': 1, 'adj:pl:inst:n:sup': 3, 'ppron12:sg:inst:m1:pri:nakc': 1, 'num:pl:acc:m1:congr': 4, 'ppas:pl:loc:f:imperf:aff': 5, 'ppas:pl:loc:m1:imperf:aff': 1, 'ppron3:sg:loc:m2:ter:akc:praep': 2, 'ppas:sg:nom:m1:perf:neg': 1, 'ppas:pl:nom:m1:perf:neg': 1, 'ppas:sg:inst:m1:imperf:aff': 4, 'adj:pl:loc:m2:pos': 3, 'num:pl:acc:m2:congr': 6, 'adj:sg:acc:m1:com': 1, 'adj:pl:inst:f:sup': 1, 'adj:pl:acc:n:com': 8, 'ppas:sg:acc:m2:imperf:aff': 1, 'ger:sg:nom:n:imperf:neg': 3, 'ppas:sg:dat:m1:imperf:aff': 1, 'ppron3:pl:inst:f:ter:akc:npraep': 2, 'ppas:sg:nom:f:perf:neg': 1, 'pact:pl:gen:m1:imperf:neg': 1, 'qub:nwok': 1, 'num:sg:nom:m3:rec': 2, 'ppron3:pl:dat:f:ter:akc:praep': 2, 'ger:pl:inst:n:imperf:aff': 1, 'adj:pl:dat:m2:pos': 1, 'subst:pl:dat:m2': 1, 'ppas:pl:acc:m2:imperf:aff': 4, 'ppas:sg:loc:f:perf:neg': 1, 'ppas:pl:acc:m1:imperf:neg': 1, 'adj:sg:inst:m1:com': 3, 'adj:pl:inst:m3:com': 5, 'adj:pl:loc:m1:com': 1, 'ger:sg:acc:n:perf:neg': 2, 'ppas:sg:acc:f:perf:neg': 2, 'adj:sg:voc:f:sup': 1, 'pact:pl:inst:n:imperf:aff': 1, 'ppron12:pl:inst:n:pri': 1, 'adj:sg:dat:m1:sup': 1, 'num:sg:nom:n:rec': 2, 'ppron12:sg:acc:m3:sec:nakc': 1, 'adj:sg:voc:m3:pos': 2, 'subst:sg:voc:m3': 2, 'ppron12:sg:nom:m3:sec': 1, 'adj:sg:acc:m2:sup': 1, 'adj:pl:inst:m2:pos': 3, 'ppron3:sg:acc:m3:ter:akc:praep': 2, 'ppas:pl:gen:f:perf:neg': 2, 'ppas:sg:dat:n:perf:aff': 3, 'adj:pl:inst:m1:com': 2, 'ppas:pl:inst:m1:imperf:aff': 1, 'ppron3:sg:nom:m2:ter:akc:praep': 1, 'ppas:pl:nom:f:perf:neg': 2, 'ppas:pl:nom:m1:imperf:neg': 1, 'ppron3:pl:dat:m2:ter:akc:npraep': 2, 'ppron3:pl:acc:m2:ter:akc:praep': 2, 'ppas:sg:nom:m3:perf:neg': 2, 'ppas:pl:inst:f:imperf:aff': 3, 'pact:sg:gen:n:imperf:neg': 1, 'num:pl:dat:n:congr': 1, 'ppas:sg:gen:f:imperf:neg': 1, 'ppas:pl:loc:m3:imperf:aff': 4, 'adj:pl:dat:f:com': 1, 'num:pl:loc:m1:congr': 1, 'ger:pl:loc:n:imperf:aff': 1, 'ppas:pl:dat:m3:imperf:aff': 1, 'num:pl:inst:m3:rec': 1, 'numcol:pl:inst:m1:rec': 1, 'ppron12:pl:acc:f:pri': 1, 'pact:pl:gen:m3:imperf:neg': 1, 'num:pl:loc:m3:rec': 1, 'ppas:sg:inst:n:imperf:aff': 1, 'num:sg:gen:m1:congr': 1, 'ppron12:pl:gen:f:sec': 1, 'ppas:pl:nom:m3:perf:neg': 1, 'adj:sg:loc:m1:sup': 1, 'num:pl:dat:m3:congr': 1, 'num:pl:dat:m3:rec': 1, 'numcol:pl:acc:m1:rec': 1, 'ppron3:sg:inst:n:ter:akc:npraep': 1, 'ppas:sg:nom:f:imperf:neg': 1, 'numcol:pl:gen:n:congr': 1, 'adj:pl:loc:m1:sup': 1, 'ppron3:sg:dat:f:ter:akc:praep': 1, 'subst:sg:voc:m2': 3, 'ppron12:sg:nom:m2:sec': 1, 'ppron12:sg:nom:m2:pri': 2, 'ppron12:sg:dat:m2:sec:nakc': 1, 'ppron12:sg:acc:m2:sec:nakc': 1, 'ppron12:sg:gen:m1:sec:nakc': 2, 'ppron3:pl:dat:m3:ter:akc:praep': 1, 'ppas:pl:acc:m3:perf:neg': 1, 'pact:sg:loc:m1:imperf:aff': 1, 'adj:sg:inst:m2:com': 1, 'num:pl:nom:m2:congr': 3, 'ppron3:sg:dat:m3:ter:akc:praep': 1, 'ppas:pl:gen:m2:imperf:aff': 1, 'ppron3:sg:inst:m2:ter:akc:praep': 1, 'praet:sg:m2:perf:nagl': 1, 'pact:sg:acc:f:imperf:neg': 1, 'pact:sg:nom:m2:imperf:aff': 1, 'ppron3:pl:inst:n:ter:akc:npraep': 2, 'ppas:pl:loc:m1:perf:aff': 2}\n",
            "['O', 'date', 'geogName', 'orgName', 'persName', 'persName_addName', 'persName_forename', 'persName_surname', 'placeName', 'placeName_bloc', 'placeName_country', 'placeName_district', 'placeName_region', 'placeName_settlement', 'time']\n",
            "[':subst:sg:acc:n', ':subst:sg:gen:n', 'adj:pl:acc:f:com', 'adj:pl:acc:f:pos', 'adj:pl:acc:f:sup', 'adj:pl:acc:m1:com', 'adj:pl:acc:m1:pos', 'adj:pl:acc:m1:sup', 'adj:pl:acc:m2:pos', 'adj:pl:acc:m3:com', 'adj:pl:acc:m3:pos', 'adj:pl:acc:m3:sup', 'adj:pl:acc:n:com', 'adj:pl:acc:n:pos', 'adj:pl:acc:n:sup', 'adj:pl:dat:f:com', 'adj:pl:dat:f:pos', 'adj:pl:dat:f:sup', 'adj:pl:dat:m1:com', 'adj:pl:dat:m1:pos', 'adj:pl:dat:m1:sup', 'adj:pl:dat:m2:pos', 'adj:pl:dat:m3:com', 'adj:pl:dat:m3:pos', 'adj:pl:dat:n:pos', 'adj:pl:dat:n:sup', 'adj:pl:gen:f:com', 'adj:pl:gen:f:pos', 'adj:pl:gen:f:sup', 'adj:pl:gen:m1:com', 'adj:pl:gen:m1:pos', 'adj:pl:gen:m1:sup', 'adj:pl:gen:m2:pos', 'adj:pl:gen:m3:com', 'adj:pl:gen:m3:pos', 'adj:pl:gen:m3:sup', 'adj:pl:gen:n:com', 'adj:pl:gen:n:pos', 'adj:pl:gen:n:sup', 'adj:pl:inst:f:com', 'adj:pl:inst:f:pos', 'adj:pl:inst:f:sup', 'adj:pl:inst:m1:com', 'adj:pl:inst:m1:pos', 'adj:pl:inst:m1:sup', 'adj:pl:inst:m2:pos', 'adj:pl:inst:m3:com', 'adj:pl:inst:m3:pos', 'adj:pl:inst:n:pos', 'adj:pl:inst:n:sup', 'adj:pl:loc:f:com', 'adj:pl:loc:f:pos', 'adj:pl:loc:f:sup', 'adj:pl:loc:m1:com', 'adj:pl:loc:m1:pos', 'adj:pl:loc:m1:sup', 'adj:pl:loc:m2:pos', 'adj:pl:loc:m3:com', 'adj:pl:loc:m3:pos', 'adj:pl:loc:m3:sup', 'adj:pl:loc:n:com', 'adj:pl:loc:n:pos', 'adj:pl:loc:n:sup', 'adj:pl:nom:f:com', 'adj:pl:nom:f:pos', 'adj:pl:nom:f:sup', 'adj:pl:nom:m1:com', 'adj:pl:nom:m1:pos', 'adj:pl:nom:m1:sup', 'adj:pl:nom:m2:pos', 'adj:pl:nom:m2:sup', 'adj:pl:nom:m3:com', 'adj:pl:nom:m3:pos', 'adj:pl:nom:m3:sup', 'adj:pl:nom:n:com', 'adj:pl:nom:n:pos', 'adj:pl:nom:n:sup', 'adj:sg:acc:f:com', 'adj:sg:acc:f:pos', 'adj:sg:acc:f:sup', 'adj:sg:acc:m1:com', 'adj:sg:acc:m1:pos', 'adj:sg:acc:m1:sup', 'adj:sg:acc:m2:pos', 'adj:sg:acc:m2:sup', 'adj:sg:acc:m3:com', 'adj:sg:acc:m3:pos', 'adj:sg:acc:m3:sup', 'adj:sg:acc:n:com', 'adj:sg:acc:n:pos', 'adj:sg:acc:n:sup', 'adj:sg:dat:f:com', 'adj:sg:dat:f:pos', 'adj:sg:dat:f:sup', 'adj:sg:dat:m1:com', 'adj:sg:dat:m1:pos', 'adj:sg:dat:m1:sup', 'adj:sg:dat:m2:pos', 'adj:sg:dat:m3:pos', 'adj:sg:dat:n:pos', 'adj:sg:gen:f:com', 'adj:sg:gen:f:pos', 'adj:sg:gen:f:sup', 'adj:sg:gen:m1:com', 'adj:sg:gen:m1:pos', 'adj:sg:gen:m1:sup', 'adj:sg:gen:m2:pos', 'adj:sg:gen:m3:com', 'adj:sg:gen:m3:pos', 'adj:sg:gen:m3:sup', 'adj:sg:gen:n:com', 'adj:sg:gen:n:pos', 'adj:sg:gen:n:sup', 'adj:sg:inst:f:com', 'adj:sg:inst:f:pos', 'adj:sg:inst:f:sup', 'adj:sg:inst:m1:com', 'adj:sg:inst:m1:pos', 'adj:sg:inst:m1:sup', 'adj:sg:inst:m2:com', 'adj:sg:inst:m2:pos', 'adj:sg:inst:m3:com', 'adj:sg:inst:m3:pos', 'adj:sg:inst:m3:sup', 'adj:sg:inst:n:com', 'adj:sg:inst:n:pos', 'adj:sg:inst:n:sup', 'adj:sg:loc:f:com', 'adj:sg:loc:f:pos', 'adj:sg:loc:f:sup', 'adj:sg:loc:m1:pos', 'adj:sg:loc:m1:sup', 'adj:sg:loc:m2:pos', 'adj:sg:loc:m3:com', 'adj:sg:loc:m3:pos', 'adj:sg:loc:m3:sup', 'adj:sg:loc:n:com', 'adj:sg:loc:n:pos', 'adj:sg:loc:n:sup', 'adj:sg:nom:f:com', 'adj:sg:nom:f:pos', 'adj:sg:nom:f:sup', 'adj:sg:nom:m1:com', 'adj:sg:nom:m1:pos', 'adj:sg:nom:m1:sup', 'adj:sg:nom:m2:pos', 'adj:sg:nom:m3:com', 'adj:sg:nom:m3:pos', 'adj:sg:nom:m3:sup', 'adj:sg:nom:n:com', 'adj:sg:nom:n:pos', 'adj:sg:nom:n:sup', 'adj:sg:voc:f:pos', 'adj:sg:voc:f:sup', 'adj:sg:voc:m1:pos', 'adj:sg:voc:m3:pos', 'adja', 'adjc', 'adjp', 'adv', 'adv:com', 'adv:pos', 'adv:sup', 'aglt:pl:pri:imperf:nwok', 'aglt:pl:sec:imperf:nwok', 'aglt:sg:pri:imperf:nwok', 'aglt:sg:pri:imperf:wok', 'aglt:sg:sec:imperf:nwok', 'aglt:sg:sec:imperf:wok', 'bedzie:pl:pri:imperf', 'bedzie:pl:sec:imperf', 'bedzie:pl:ter:imperf', 'bedzie:sg:pri:imperf', 'bedzie:sg:sec:imperf', 'bedzie:sg:ter:imperf', 'brev:npun', 'brev:pun', 'burk', 'comp', 'conj', 'depr:pl:acc:m2', 'depr:pl:nom:m2', 'fin:pl:pri:imperf', 'fin:pl:pri:perf', 'fin:pl:sec:imperf', 'fin:pl:sec:perf', 'fin:pl:ter:imperf', 'fin:pl:ter:perf', 'fin:sg:pri:imperf', 'fin:sg:pri:perf', 'fin:sg:sec:imperf', 'fin:sg:sec:perf', 'fin:sg:ter:imperf', 'fin:sg:ter:perf', 'ger:pl:gen:n:imperf:aff', 'ger:pl:inst:n:imperf:aff', 'ger:pl:loc:n:imperf:aff', 'ger:pl:nom:n:perf:aff', 'ger:sg:acc:n:imperf:aff', 'ger:sg:acc:n:imperf:neg', 'ger:sg:acc:n:perf:aff', 'ger:sg:acc:n:perf:neg', 'ger:sg:dat:n:imperf:aff', 'ger:sg:dat:n:perf:aff', 'ger:sg:gen:n:imperf:aff', 'ger:sg:gen:n:imperf:neg', 'ger:sg:gen:n:perf:aff', 'ger:sg:gen:n:perf:neg', 'ger:sg:inst:n:imperf:aff', 'ger:sg:inst:n:perf:aff', 'ger:sg:loc:n:imperf:aff', 'ger:sg:loc:n:perf:aff', 'ger:sg:nom:n:imperf:aff', 'ger:sg:nom:n:imperf:neg', 'ger:sg:nom:n:perf:aff', 'ger:sg:nom:n:perf:neg', 'imps:imperf', 'imps:perf', 'impt:pl:pri:imperf', 'impt:pl:pri:perf', 'impt:pl:sec:imperf', 'impt:pl:sec:perf', 'impt:sg:sec:imperf', 'impt:sg:sec:perf', 'inf:imperf', 'inf:perf', 'interj', 'interp', 'num:pl:acc:f:congr', 'num:pl:acc:f:rec', 'num:pl:acc:m1:congr', 'num:pl:acc:m1:rec', 'num:pl:acc:m2:congr', 'num:pl:acc:m2:rec', 'num:pl:acc:m3:congr', 'num:pl:acc:m3:rec', 'num:pl:acc:n:congr', 'num:pl:acc:n:rec', 'num:pl:dat:m1:congr', 'num:pl:dat:m3:congr', 'num:pl:dat:m3:rec', 'num:pl:dat:n:congr', 'num:pl:gen:f:congr', 'num:pl:gen:f:rec', 'num:pl:gen:m1:congr', 'num:pl:gen:m2:congr', 'num:pl:gen:m2:rec', 'num:pl:gen:m3:congr', 'num:pl:gen:m3:rec', 'num:pl:gen:n:congr', 'num:pl:inst:f:congr', 'num:pl:inst:m1:congr', 'num:pl:inst:m3:congr', 'num:pl:inst:m3:rec', 'num:pl:inst:n:congr', 'num:pl:loc:f:congr', 'num:pl:loc:f:rec', 'num:pl:loc:m1:congr', 'num:pl:loc:m3:congr', 'num:pl:loc:m3:rec', 'num:pl:loc:n:congr', 'num:pl:nom:f:congr', 'num:pl:nom:f:rec', 'num:pl:nom:m1:congr', 'num:pl:nom:m1:rec', 'num:pl:nom:m2:congr', 'num:pl:nom:m2:rec', 'num:pl:nom:m3:congr', 'num:pl:nom:m3:rec', 'num:pl:nom:n:congr', 'num:pl:nom:n:rec', 'num:sg:acc:m3:rec', 'num:sg:gen:m1:congr', 'num:sg:gen:m3:rec', 'num:sg:nom:m3:congr', 'num:sg:nom:m3:rec', 'num:sg:nom:n:rec', 'numcol:pl:acc:m1:rec', 'numcol:pl:acc:n:rec', 'numcol:pl:gen:n:congr', 'numcol:pl:gen:n:rec', 'numcol:pl:inst:m1:rec', 'numcol:pl:inst:n:rec', 'numcol:pl:nom:m1:rec', 'numcol:pl:nom:n:rec', 'pact:pl:acc:f:imperf:aff', 'pact:pl:acc:m1:imperf:aff', 'pact:pl:acc:m2:imperf:aff', 'pact:pl:acc:m3:imperf:aff', 'pact:pl:acc:n:imperf:aff', 'pact:pl:dat:f:imperf:aff', 'pact:pl:dat:m1:imperf:aff', 'pact:pl:dat:m3:imperf:aff', 'pact:pl:dat:n:imperf:aff', 'pact:pl:gen:f:imperf:aff', 'pact:pl:gen:m1:imperf:aff', 'pact:pl:gen:m1:imperf:neg', 'pact:pl:gen:m2:imperf:aff', 'pact:pl:gen:m3:imperf:aff', 'pact:pl:gen:m3:imperf:neg', 'pact:pl:gen:n:imperf:aff', 'pact:pl:inst:f:imperf:aff', 'pact:pl:inst:m1:imperf:aff', 'pact:pl:inst:m3:imperf:aff', 'pact:pl:inst:n:imperf:aff', 'pact:pl:loc:f:imperf:aff', 'pact:pl:loc:m1:imperf:aff', 'pact:pl:loc:m3:imperf:aff', 'pact:pl:loc:n:imperf:aff', 'pact:pl:nom:f:imperf:aff', 'pact:pl:nom:m1:imperf:aff', 'pact:pl:nom:m2:imperf:aff', 'pact:pl:nom:m3:imperf:aff', 'pact:pl:nom:n:imperf:aff', 'pact:sg:acc:f:imperf:aff', 'pact:sg:acc:f:imperf:neg', 'pact:sg:acc:m1:imperf:aff', 'pact:sg:acc:m3:imperf:aff', 'pact:sg:acc:n:imperf:aff', 'pact:sg:dat:f:imperf:aff', 'pact:sg:dat:m1:imperf:aff', 'pact:sg:dat:m2:imperf:aff', 'pact:sg:gen:f:imperf:aff', 'pact:sg:gen:m1:imperf:aff', 'pact:sg:gen:m2:imperf:aff', 'pact:sg:gen:m3:imperf:aff', 'pact:sg:gen:n:imperf:aff', 'pact:sg:gen:n:imperf:neg', 'pact:sg:inst:f:imperf:aff', 'pact:sg:inst:m1:imperf:aff', 'pact:sg:inst:m3:imperf:aff', 'pact:sg:inst:m3:imperf:neg', 'pact:sg:inst:n:imperf:aff', 'pact:sg:loc:f:imperf:aff', 'pact:sg:loc:m1:imperf:aff', 'pact:sg:loc:m3:imperf:aff', 'pact:sg:loc:n:imperf:aff', 'pact:sg:nom:f:imperf:aff', 'pact:sg:nom:m1:imperf:aff', 'pact:sg:nom:m2:imperf:aff', 'pact:sg:nom:m3:imperf:aff', 'pact:sg:nom:n:imperf:aff', 'pant:perf', 'pcon:imperf', 'ppas:pl:acc:f:imperf:aff', 'ppas:pl:acc:f:perf:aff', 'ppas:pl:acc:m1:imperf:neg', 'ppas:pl:acc:m1:perf:aff', 'ppas:pl:acc:m2:imperf:aff', 'ppas:pl:acc:m2:perf:aff', 'ppas:pl:acc:m3:imperf:aff', 'ppas:pl:acc:m3:perf:aff', 'ppas:pl:acc:m3:perf:neg', 'ppas:pl:acc:n:imperf:aff', 'ppas:pl:acc:n:perf:aff', 'ppas:pl:dat:f:perf:aff', 'ppas:pl:dat:m1:perf:aff', 'ppas:pl:dat:m3:imperf:aff', 'ppas:pl:dat:n:perf:aff', 'ppas:pl:gen:f:imperf:aff', 'ppas:pl:gen:f:perf:aff', 'ppas:pl:gen:f:perf:neg', 'ppas:pl:gen:m1:imperf:aff', 'ppas:pl:gen:m1:perf:aff', 'ppas:pl:gen:m2:imperf:aff', 'ppas:pl:gen:m2:perf:aff', 'ppas:pl:gen:m3:imperf:aff', 'ppas:pl:gen:m3:perf:aff', 'ppas:pl:gen:n:imperf:aff', 'ppas:pl:gen:n:perf:aff', 'ppas:pl:inst:f:imperf:aff', 'ppas:pl:inst:f:perf:aff', 'ppas:pl:inst:m1:imperf:aff', 'ppas:pl:inst:m1:perf:aff', 'ppas:pl:inst:m3:imperf:aff', 'ppas:pl:inst:m3:perf:aff', 'ppas:pl:inst:n:imperf:aff', 'ppas:pl:inst:n:perf:aff', 'ppas:pl:loc:f:imperf:aff', 'ppas:pl:loc:f:perf:aff', 'ppas:pl:loc:f:perf:neg', 'ppas:pl:loc:m1:imperf:aff', 'ppas:pl:loc:m1:perf:aff', 'ppas:pl:loc:m3:imperf:aff', 'ppas:pl:loc:m3:perf:aff', 'ppas:pl:loc:n:imperf:aff', 'ppas:pl:loc:n:perf:aff', 'ppas:pl:nom:f:imperf:aff', 'ppas:pl:nom:f:perf:aff', 'ppas:pl:nom:f:perf:neg', 'ppas:pl:nom:m1:imperf:aff', 'ppas:pl:nom:m1:imperf:neg', 'ppas:pl:nom:m1:perf:aff', 'ppas:pl:nom:m1:perf:neg', 'ppas:pl:nom:m2:imperf:aff', 'ppas:pl:nom:m2:perf:aff', 'ppas:pl:nom:m3:imperf:aff', 'ppas:pl:nom:m3:perf:aff', 'ppas:pl:nom:m3:perf:neg', 'ppas:pl:nom:n:imperf:aff', 'ppas:pl:nom:n:perf:aff', 'ppas:sg:acc:f:imperf:aff', 'ppas:sg:acc:f:perf:aff', 'ppas:sg:acc:f:perf:neg', 'ppas:sg:acc:m1:imperf:aff', 'ppas:sg:acc:m1:perf:aff', 'ppas:sg:acc:m2:imperf:aff', 'ppas:sg:acc:m2:perf:aff', 'ppas:sg:acc:m3:imperf:aff', 'ppas:sg:acc:m3:imperf:neg', 'ppas:sg:acc:m3:perf:aff', 'ppas:sg:acc:m3:perf:neg', 'ppas:sg:acc:n:imperf:aff', 'ppas:sg:acc:n:perf:aff', 'ppas:sg:dat:f:imperf:aff', 'ppas:sg:dat:f:perf:aff', 'ppas:sg:dat:m1:imperf:aff', 'ppas:sg:dat:m1:perf:aff', 'ppas:sg:dat:m3:perf:aff', 'ppas:sg:dat:n:perf:aff', 'ppas:sg:gen:f:imperf:aff', 'ppas:sg:gen:f:imperf:neg', 'ppas:sg:gen:f:perf:aff', 'ppas:sg:gen:f:perf:neg', 'ppas:sg:gen:m1:imperf:aff', 'ppas:sg:gen:m1:perf:aff', 'ppas:sg:gen:m2:perf:aff', 'ppas:sg:gen:m3:imperf:aff', 'ppas:sg:gen:m3:imperf:neg', 'ppas:sg:gen:m3:perf:aff', 'ppas:sg:gen:m3:perf:neg', 'ppas:sg:gen:n:imperf:aff', 'ppas:sg:gen:n:perf:aff', 'ppas:sg:inst:f:imperf:aff', 'ppas:sg:inst:f:imperf:neg', 'ppas:sg:inst:f:perf:aff', 'ppas:sg:inst:f:perf:neg', 'ppas:sg:inst:m1:imperf:aff', 'ppas:sg:inst:m1:perf:aff', 'ppas:sg:inst:m3:imperf:aff', 'ppas:sg:inst:m3:perf:aff', 'ppas:sg:inst:n:imperf:aff', 'ppas:sg:inst:n:perf:aff', 'ppas:sg:inst:n:perf:neg', 'ppas:sg:loc:f:imperf:aff', 'ppas:sg:loc:f:perf:aff', 'ppas:sg:loc:f:perf:neg', 'ppas:sg:loc:m1:perf:aff', 'ppas:sg:loc:m3:imperf:aff', 'ppas:sg:loc:m3:perf:aff', 'ppas:sg:loc:n:imperf:aff', 'ppas:sg:loc:n:perf:aff', 'ppas:sg:nom:f:imperf:aff', 'ppas:sg:nom:f:imperf:neg', 'ppas:sg:nom:f:perf:aff', 'ppas:sg:nom:f:perf:neg', 'ppas:sg:nom:m1:imperf:aff', 'ppas:sg:nom:m1:perf:aff', 'ppas:sg:nom:m1:perf:neg', 'ppas:sg:nom:m2:imperf:aff', 'ppas:sg:nom:m2:perf:aff', 'ppas:sg:nom:m3:imperf:aff', 'ppas:sg:nom:m3:perf:aff', 'ppas:sg:nom:m3:perf:neg', 'ppas:sg:nom:n:imperf:aff', 'ppas:sg:nom:n:perf:aff', 'ppas:sg:nom:n:perf:neg', 'ppron12:pl:acc:f:pri', 'ppron12:pl:acc:m1:pri', 'ppron12:pl:acc:m1:sec', 'ppron12:pl:acc:n:sec', 'ppron12:pl:dat:f:pri', 'ppron12:pl:dat:m1:pri', 'ppron12:pl:dat:m1:sec', 'ppron12:pl:gen:f:sec', 'ppron12:pl:gen:m1:pri', 'ppron12:pl:gen:m1:sec', 'ppron12:pl:inst:m1:pri', 'ppron12:pl:inst:m1:sec', 'ppron12:pl:inst:n:pri', 'ppron12:pl:loc:m1:pri', 'ppron12:pl:loc:m1:sec', 'ppron12:pl:loc:m3:sec', 'ppron12:pl:nom:f:sec', 'ppron12:pl:nom:m1:pri', 'ppron12:pl:nom:m1:sec', 'ppron12:pl:nom:m1:sec:akc', 'ppron12:pl:nom:n:sec', 'ppron12:sg:acc:f:pri:akc', 'ppron12:sg:acc:f:sec:akc', 'ppron12:sg:acc:f:sec:nakc', 'ppron12:sg:acc:m1:pri:akc', 'ppron12:sg:acc:m1:pri:nakc', 'ppron12:sg:acc:m1:sec:akc', 'ppron12:sg:acc:m1:sec:nakc', 'ppron12:sg:acc:m2:pri:akc', 'ppron12:sg:acc:m2:sec:nakc', 'ppron12:sg:acc:m3:sec:nakc', 'ppron12:sg:dat:f:pri:nakc', 'ppron12:sg:dat:f:sec:akc', 'ppron12:sg:dat:f:sec:nakc', 'ppron12:sg:dat:m1:pri:akc', 'ppron12:sg:dat:m1:pri:nakc', 'ppron12:sg:dat:m1:sec:akc', 'ppron12:sg:dat:m1:sec:nakc', 'ppron12:sg:dat:m2:sec:nakc', 'ppron12:sg:gen:f:pri:akc', 'ppron12:sg:gen:f:sec:akc', 'ppron12:sg:gen:f:sec:nakc', 'ppron12:sg:gen:m1:pri:akc', 'ppron12:sg:gen:m1:sec:akc', 'ppron12:sg:gen:m1:sec:nakc', 'ppron12:sg:gen:m2:pri:akc', 'ppron12:sg:gen:m2:sec:akc', 'ppron12:sg:gen:m2:sec:nakc', 'ppron12:sg:inst:f:pri', 'ppron12:sg:inst:f:sec', 'ppron12:sg:inst:m1:pri', 'ppron12:sg:inst:m1:pri:nakc', 'ppron12:sg:inst:m1:sec', 'ppron12:sg:loc:f:sec', 'ppron12:sg:loc:m1:pri', 'ppron12:sg:loc:m1:sec', 'ppron12:sg:nom:f:pri', 'ppron12:sg:nom:f:pri:nakc', 'ppron12:sg:nom:f:sec', 'ppron12:sg:nom:m1:pri', 'ppron12:sg:nom:m1:sec', 'ppron12:sg:nom:m1:sec:akc', 'ppron12:sg:nom:m2:pri', 'ppron12:sg:nom:m2:sec', 'ppron12:sg:nom:m3:pri', 'ppron12:sg:nom:m3:sec', 'ppron3:pl:acc:f:ter:akc:npraep', 'ppron3:pl:acc:f:ter:akc:praep', 'ppron3:pl:acc:m1:ter:akc:npraep', 'ppron3:pl:acc:m1:ter:akc:praep', 'ppron3:pl:acc:m2:ter:akc:npraep', 'ppron3:pl:acc:m2:ter:akc:praep', 'ppron3:pl:acc:m3:ter:akc:npraep', 'ppron3:pl:acc:m3:ter:akc:praep', 'ppron3:pl:acc:n:ter:akc:npraep', 'ppron3:pl:acc:n:ter:akc:praep', 'ppron3:pl:dat:f:ter:akc:npraep', 'ppron3:pl:dat:f:ter:akc:praep', 'ppron3:pl:dat:m1:ter:akc:npraep', 'ppron3:pl:dat:m1:ter:akc:praep', 'ppron3:pl:dat:m2:ter:akc:npraep', 'ppron3:pl:dat:m3:ter:akc:npraep', 'ppron3:pl:dat:m3:ter:akc:praep', 'ppron3:pl:dat:n:ter:akc:npraep', 'ppron3:pl:gen:f:ter:akc:npraep', 'ppron3:pl:gen:f:ter:akc:praep', 'ppron3:pl:gen:m1:ter:akc:npraep', 'ppron3:pl:gen:m1:ter:akc:praep', 'ppron3:pl:gen:m2:ter:akc:npraep', 'ppron3:pl:gen:m2:ter:akc:praep', 'ppron3:pl:gen:m3:ter:akc:npraep', 'ppron3:pl:gen:m3:ter:akc:praep', 'ppron3:pl:gen:n:ter:akc:npraep', 'ppron3:pl:gen:n:ter:akc:praep', 'ppron3:pl:inst:f:ter:akc:npraep', 'ppron3:pl:inst:f:ter:akc:praep', 'ppron3:pl:inst:m1:ter:akc:npraep', 'ppron3:pl:inst:m1:ter:akc:praep', 'ppron3:pl:inst:m3:ter:akc:praep', 'ppron3:pl:inst:n:ter:akc:npraep', 'ppron3:pl:inst:n:ter:akc:praep', 'ppron3:pl:loc:f:ter:akc:praep', 'ppron3:pl:loc:m1:ter:akc:praep', 'ppron3:pl:loc:m3:ter:akc:praep', 'ppron3:pl:loc:n:ter:akc:praep', 'ppron3:pl:nom:f:ter:akc:npraep', 'ppron3:pl:nom:m1:ter:akc:npraep', 'ppron3:pl:nom:m2:ter:akc:npraep', 'ppron3:pl:nom:m3:ter:akc:npraep', 'ppron3:pl:nom:n:ter:akc:npraep', 'ppron3:sg:acc:f:ter:akc:npraep', 'ppron3:sg:acc:f:ter:akc:praep', 'ppron3:sg:acc:m1:ter:akc:npraep', 'ppron3:sg:acc:m1:ter:akc:praep', 'ppron3:sg:acc:m1:ter:nakc:npraep', 'ppron3:sg:acc:m1:ter:nakc:praep', 'ppron3:sg:acc:m2:ter:nakc:npraep', 'ppron3:sg:acc:m3:ter:akc:praep', 'ppron3:sg:acc:m3:ter:nakc:npraep', 'ppron3:sg:acc:m3:ter:nakc:praep', 'ppron3:sg:acc:n:ter:akc:npraep', 'ppron3:sg:acc:n:ter:akc:praep', 'ppron3:sg:dat:f:ter:akc:npraep', 'ppron3:sg:dat:f:ter:akc:praep', 'ppron3:sg:dat:m1:ter:akc:npraep', 'ppron3:sg:dat:m1:ter:akc:praep', 'ppron3:sg:dat:m1:ter:nakc:npraep', 'ppron3:sg:dat:m2:ter:nakc:npraep', 'ppron3:sg:dat:m3:ter:akc:praep', 'ppron3:sg:dat:m3:ter:nakc:npraep', 'ppron3:sg:dat:n:ter:akc:npraep', 'ppron3:sg:dat:n:ter:akc:praep', 'ppron3:sg:dat:n:ter:nakc:npraep', 'ppron3:sg:gen:f:ter:akc:npraep', 'ppron3:sg:gen:f:ter:akc:praep', 'ppron3:sg:gen:m1:ter:akc:npraep', 'ppron3:sg:gen:m1:ter:akc:praep', 'ppron3:sg:gen:m1:ter:nakc:npraep', 'ppron3:sg:gen:m1:ter:nakc:praep', 'ppron3:sg:gen:m2:ter:akc:npraep', 'ppron3:sg:gen:m2:ter:akc:praep', 'ppron3:sg:gen:m3:ter:akc:npraep', 'ppron3:sg:gen:m3:ter:akc:praep', 'ppron3:sg:gen:m3:ter:nakc:npraep', 'ppron3:sg:gen:n:ter:akc:npraep', 'ppron3:sg:gen:n:ter:akc:praep', 'ppron3:sg:gen:n:ter:nakc:npraep', 'ppron3:sg:inst:f:ter:akc:praep', 'ppron3:sg:inst:m1:ter:akc:npraep', 'ppron3:sg:inst:m1:ter:akc:praep', 'ppron3:sg:inst:m2:ter:akc:praep', 'ppron3:sg:inst:m3:ter:akc:npraep', 'ppron3:sg:inst:m3:ter:akc:praep', 'ppron3:sg:inst:n:ter:akc:npraep', 'ppron3:sg:loc:f:ter:akc:praep', 'ppron3:sg:loc:m1:ter:akc:praep', 'ppron3:sg:loc:m2:ter:akc:praep', 'ppron3:sg:loc:m3:ter:akc:praep', 'ppron3:sg:loc:n:ter:akc:praep', 'ppron3:sg:nom:f:ter:akc:npraep', 'ppron3:sg:nom:m1:ter:akc:npraep', 'ppron3:sg:nom:m2:ter:akc:npraep', 'ppron3:sg:nom:m2:ter:akc:praep', 'ppron3:sg:nom:m3:ter:akc:npraep', 'ppron3:sg:nom:n:ter:akc:npraep', 'praet:pl:f:imperf', 'praet:pl:f:perf', 'praet:pl:m1:imperf', 'praet:pl:m1:perf', 'praet:pl:m2:imperf', 'praet:pl:m2:perf', 'praet:pl:m3:imperf', 'praet:pl:m3:perf', 'praet:pl:n:imperf', 'praet:pl:n:perf', 'praet:sg:f:imperf', 'praet:sg:f:perf', 'praet:sg:m1:imperf', 'praet:sg:m1:imperf:agl', 'praet:sg:m1:imperf:nagl', 'praet:sg:m1:perf', 'praet:sg:m1:perf:agl', 'praet:sg:m1:perf:nagl', 'praet:sg:m2:imperf', 'praet:sg:m2:imperf:nagl', 'praet:sg:m2:perf', 'praet:sg:m2:perf:nagl', 'praet:sg:m3:imperf', 'praet:sg:m3:imperf:nagl', 'praet:sg:m3:perf', 'praet:sg:m3:perf:nagl', 'praet:sg:n:imperf', 'praet:sg:n:perf', 'pred', 'prep:acc', 'prep:acc:nwok', 'prep:acc:wok', 'prep:dat', 'prep:gen', 'prep:gen:nwok', 'prep:gen:wok', 'prep:inst', 'prep:inst:nwok', 'prep:inst:wok', 'prep:loc', 'prep:loc:nwok', 'prep:loc:wok', 'prep:nom', 'qub', 'qub:nwok', 'qub:wok', 'siebie:acc', 'siebie:dat', 'siebie:gen', 'siebie:inst', 'siebie:loc', 'subst:pl:acc:f', 'subst:pl:acc:m1', 'subst:pl:acc:m2', 'subst:pl:acc:m3', 'subst:pl:acc:n', 'subst:pl:dat:f', 'subst:pl:dat:m1', 'subst:pl:dat:m2', 'subst:pl:dat:m3', 'subst:pl:dat:n', 'subst:pl:gen:f', 'subst:pl:gen:m1', 'subst:pl:gen:m2', 'subst:pl:gen:m3', 'subst:pl:gen:n', 'subst:pl:inst:f', 'subst:pl:inst:m1', 'subst:pl:inst:m2', 'subst:pl:inst:m3', 'subst:pl:inst:n', 'subst:pl:loc:f', 'subst:pl:loc:m1', 'subst:pl:loc:m2', 'subst:pl:loc:m3', 'subst:pl:loc:n', 'subst:pl:nom:f', 'subst:pl:nom:m1', 'subst:pl:nom:m2', 'subst:pl:nom:m3', 'subst:pl:nom:n', 'subst:sg:acc:f', 'subst:sg:acc:m1', 'subst:sg:acc:m2', 'subst:sg:acc:m3', 'subst:sg:acc:n', 'subst:sg:dat:f', 'subst:sg:dat:m1', 'subst:sg:dat:m2', 'subst:sg:dat:m3', 'subst:sg:dat:n', 'subst:sg:gen:f', 'subst:sg:gen:m1', 'subst:sg:gen:m2', 'subst:sg:gen:m3', 'subst:sg:gen:n', 'subst:sg:inst:f', 'subst:sg:inst:m1', 'subst:sg:inst:m2', 'subst:sg:inst:m3', 'subst:sg:inst:n', 'subst:sg:loc:f', 'subst:sg:loc:m1', 'subst:sg:loc:m2', 'subst:sg:loc:m3', 'subst:sg:loc:n', 'subst:sg:nom:f', 'subst:sg:nom:m1', 'subst:sg:nom:m2', 'subst:sg:nom:m3', 'subst:sg:nom:n', 'subst:sg:voc:f', 'subst:sg:voc:m1', 'subst:sg:voc:m2', 'subst:sg:voc:m3', 'winien:pl:f:imperf', 'winien:pl:m1:imperf', 'winien:pl:m3:imperf', 'winien:pl:n:imperf', 'winien:sg:f:imperf', 'winien:sg:m1:imperf', 'winien:sg:m2:imperf', 'winien:sg:m3:imperf', 'winien:sg:n:imperf', 'xxx']\n"
          ]
        }
      ]
    },
    {
      "cell_type": "markdown",
      "metadata": {
        "id": "-Pa3Dzhb57bZ"
      },
      "source": [
        "## Features\n",
        "\n",
        "word identity, word suffix, word shape and word POS tag; also, some information from nearby words is used. \n",
        "\n"
      ]
    },
    {
      "cell_type": "code",
      "metadata": {
        "id": "AOOGT3OI57bZ"
      },
      "source": [
        "def word2features(sent, i):\n",
        "    word = sent[i][0]\n",
        "    postag = sent[i][1]\n",
        "    \n",
        "    features = {\n",
        "        'bias': 1.0,\n",
        "        'word.lower()': word.lower(),\n",
        "        'word.isupper()': word.isupper(),\n",
        "        'word.istitle()': word.istitle(),\n",
        "        'word.isdigit()': word.isdigit(),\n",
        "        'postag': postag,\n",
        "        'word[:3]': word[:3],\n",
        "        'word[:-3]': word[-3:],\n",
        "        \n",
        "    }\n",
        "    if i > 0:\n",
        "        word1 = sent[i-1][0]\n",
        "        postag1 = sent[i-1][1]\n",
        "        features.update({\n",
        "            '-1:word.lower()': word1.lower(),\n",
        "            '-1:word.istitle()': word1.istitle(),\n",
        "            '-1:word[:3]': word1[:3],\n",
        "            '-1:word[:-3]': word1[-3:],\n",
        "\n",
        "           \n",
        "        })\n",
        "    else:\n",
        "        features['BOS'] = True\n",
        "  \n",
        "    if i < len(sent)-1:\n",
        "        word1 = sent[i+1][0]\n",
        "        postag1 = sent[i+1][1]\n",
        "        features.update({\n",
        "            '+1:word.lower()': word1.lower(),\n",
        "            '+1:word.istitle()': word1.istitle(),\n",
        "        })\n",
        "    else:\n",
        "        features['EOS'] = True\n",
        "    \n",
        "                \n",
        "    return features\n",
        "\n",
        "\n",
        "def sent2features(sent):\n",
        "    return [word2features(sent, i) for i in range(len(sent))]\n",
        "\n",
        "def sent2labels(sent):\n",
        "    return [label for token, postag, label in sent]\n",
        "\n",
        "def sent2tokens(sent):\n",
        "    return [token for token, postag, label in sent]"
      ],
      "execution_count": null,
      "outputs": []
    },
    {
      "cell_type": "markdown",
      "metadata": {
        "id": "227e68Tg57bZ"
      },
      "source": [
        "This is what word2features extracts:"
      ]
    },
    {
      "cell_type": "code",
      "metadata": {
        "id": "keY1TvcS57bZ",
        "colab": {
          "base_uri": "https://localhost:8080/"
        },
        "outputId": "8c084620-8dde-4bf7-8cca-8f9be02d11b6"
      },
      "source": [
        "print(train_sents[0])\n",
        "sent2features(train_sents[0])[1]"
      ],
      "execution_count": null,
      "outputs": [
        {
          "output_type": "stream",
          "name": "stdout",
          "text": [
            "[('Zatrzasnął', 'praet:sg:m1:perf', 'O'), ('drzwi', 'subst:pl:acc:n', 'O'), ('od', 'prep:gen:nwok', 'O'), ('mieszkania', 'subst:sg:gen:n', 'O'), (',', 'interp', 'O'), ('dwa', 'num:pl:acc:m3:congr', 'O'), ('razy', 'subst:pl:acc:m3', 'O'), ('przekręcił', 'praet:sg:m1:perf', 'O'), ('klucz', 'subst:sg:acc:m3', 'O'), (',', 'interp', 'O'), ('nacisnął', 'praet:sg:m1:perf', 'O'), ('klamkę', 'subst:sg:acc:f', 'O'), (',', 'interp', 'O'), ('by', 'comp', 'O'), ('sprawdzić', 'inf:perf', 'O'), (',', 'interp', 'O'), ('czy', 'qub', 'O'), ('dobrze', 'adv:pos', 'O'), ('zamknięte', 'ppas:pl:nom:n:perf:aff', 'O'), (',', 'interp', 'O'), ('zbiegł', 'praet:sg:m1:perf', 'O'), ('po', 'prep:loc', 'O'), ('schodach', 'subst:pl:loc:n', 'O'), (',', 'interp', 'O'), ('minął', 'praet:sg:m1:perf', 'O'), ('furtkę', 'subst:sg:acc:f', 'O'), (',', 'interp', 'O'), ('także', 'qub', 'O'), ('ją', 'ppron3:sg:acc:f:ter:akc:npraep', 'O'), ('zamknął', 'praet:sg:m1:perf', 'O'), (',', 'interp', 'O'), ('i', 'conj', 'O'), ('znalazł', 'praet:sg:m1:perf', 'O'), ('się', 'qub', 'O'), ('na', 'prep:loc', 'O'), ('wąskiej', 'adj:sg:loc:f:pos', 'O'), ('uliczce', 'subst:sg:loc:f', 'O'), ('między', 'prep:inst', 'O'), ('ogródkami', 'subst:pl:inst:m3', 'O'), (',', 'interp', 'O'), ('gdzie', 'adv', 'O'), ('drzemały', 'praet:pl:m3:imperf', 'O'), ('w', 'prep:loc:nwok', 'O'), ('majowym', 'adj:sg:loc:n:pos', 'O'), ('słońcu', 'subst:sg:loc:n', 'O'), ('trójkątne', 'adj:pl:nom:m3:pos', 'O'), ('ciemnozielone', 'adj:pl:nom:m3:pos', 'O'), ('świerki', 'subst:pl:nom:m3', 'O'), (',', 'interp', 'O'), ('jakich', 'adj:pl:gen:m3:pos', 'O'), ('nie', 'qub', 'O'), ('było', 'praet:sg:n:imperf', 'O'), ('w', 'prep:loc:nwok', 'O'), ('pobliżu', 'subst:sg:loc:n', 'O'), ('jego', 'ppron3:sg:gen:m1:ter:akc:npraep', 'O'), ('domu', 'subst:sg:gen:m3', 'O'), ('.', 'interp', 'O')]\n"
          ]
        },
        {
          "output_type": "execute_result",
          "data": {
            "text/plain": [
              "{'bias': 1.0,\n",
              " 'word.lower()': 'drzwi',\n",
              " 'word.isupper()': False,\n",
              " 'word.istitle()': False,\n",
              " 'word.isdigit()': False,\n",
              " 'postag': 'subst:pl:acc:n',\n",
              " 'word[:3]': 'drz',\n",
              " 'word[:-3]': 'zwi',\n",
              " '-1:word.lower()': 'zatrzasnął',\n",
              " '-1:word.istitle()': True,\n",
              " '-1:word[:3]': 'Zat',\n",
              " '-1:word[:-3]': 'nął',\n",
              " '+1:word.lower()': 'od',\n",
              " '+1:word.istitle()': False}"
            ]
          },
          "metadata": {},
          "execution_count": 147
        }
      ]
    },
    {
      "cell_type": "markdown",
      "metadata": {
        "id": "BoG61aIq57bZ"
      },
      "source": [
        "Extract features from the data:"
      ]
    },
    {
      "cell_type": "code",
      "metadata": {
        "id": "R_8oInu957bZ",
        "colab": {
          "base_uri": "https://localhost:8080/"
        },
        "outputId": "af007e9b-92a1-4ca9-b60b-01659f7f9019"
      },
      "source": [
        "%%time\n",
        "X_train = [sent2features(s) for s in train_sents]\n",
        "y_train = [sent2labels(s) for s in train_sents]\n",
        "\n",
        "X_test = [sent2features(s) for s in test_sents]\n",
        "y_test = [sent2labels(s) for s in test_sents]"
      ],
      "execution_count": null,
      "outputs": [
        {
          "output_type": "stream",
          "name": "stdout",
          "text": [
            "CPU times: user 3.61 s, sys: 532 ms, total: 4.15 s\n",
            "Wall time: 4.23 s\n"
          ]
        }
      ]
    },
    {
      "cell_type": "markdown",
      "metadata": {
        "id": "BIpwxULX57ba"
      },
      "source": [
        "## Training\n",
        "\n",
        "To see all possible CRF parameters check its docstring. Here we are useing L-BFGS training algorithm (it is default) with Elastic Net (L1 + L2) regularization."
      ]
    },
    {
      "cell_type": "code",
      "metadata": {
        "id": "O7r2IBUf57ba",
        "colab": {
          "base_uri": "https://localhost:8080/"
        },
        "outputId": "7da12632-aecb-4af1-e445-6b50e04b90bf"
      },
      "source": [
        "%%time\n",
        "crf = sklearn_crfsuite.CRF(\n",
        "    algorithm='lbfgs', \n",
        "    c1=0.1, \n",
        "    c2=0.1, \n",
        "    max_iterations=100, \n",
        "    all_possible_transitions=True\n",
        ")\n",
        "crf.fit(X_train, y_train)"
      ],
      "execution_count": null,
      "outputs": [
        {
          "output_type": "stream",
          "name": "stdout",
          "text": [
            "CPU times: user 1min 9s, sys: 376 ms, total: 1min 9s\n",
            "Wall time: 1min 20s\n"
          ]
        },
        {
          "output_type": "stream",
          "name": "stderr",
          "text": [
            "/root/.local/lib/python3.10/site-packages/sklearn/base.py:193: FutureWarning: From version 0.24, get_params will raise an AttributeError if a parameter cannot be retrieved as an instance attribute. Previously it would return None.\n",
            "  warnings.warn('From version 0.24, get_params will raise an '\n"
          ]
        },
        {
          "output_type": "execute_result",
          "data": {
            "text/plain": [
              "CRF(algorithm='lbfgs', all_possible_states=None, all_possible_transitions=True,\n",
              "    averaging=None, c=None, c1=0.1, c2=0.1, calibration_candidates=None,\n",
              "    calibration_eta=None, calibration_max_trials=None, calibration_rate=None,\n",
              "    calibration_samples=None, delta=None, epsilon=None, error_sensitive=None,\n",
              "    gamma=None, keep_tempfiles=None, linesearch=None, max_iterations=100,\n",
              "    max_linesearch=None, min_freq=None, model_filename=None, num_memories=None,\n",
              "    pa_type=None, period=None, trainer_cls=None, variance=None, verbose=False)"
            ]
          },
          "metadata": {},
          "execution_count": 149
        }
      ]
    },
    {
      "cell_type": "markdown",
      "metadata": {
        "id": "9UUuCykj57ba"
      },
      "source": [
        "## Evaluation\n",
        "\n",
        "There is much more O entities in data set, but we're more interested in other entities. To account for this we'll use averaged F1 score computed for all labels except for O. ``sklearn-crfsuite.metrics`` package provides some useful metrics for sequence classification task, including this one."
      ]
    },
    {
      "cell_type": "code",
      "metadata": {
        "id": "Oer93-BM57ba",
        "colab": {
          "base_uri": "https://localhost:8080/"
        },
        "outputId": "6e64abec-870e-498c-b7aa-dd9188efe543"
      },
      "source": [
        "labels = list(crf.classes_)\n",
        "labels.remove('O')\n",
        "labels"
      ],
      "execution_count": null,
      "outputs": [
        {
          "output_type": "execute_result",
          "data": {
            "text/plain": [
              "['persName_surname',\n",
              " 'placeName_settlement',\n",
              " 'orgName',\n",
              " 'geogName',\n",
              " 'persName_addName',\n",
              " 'persName_forename',\n",
              " 'persName',\n",
              " 'time',\n",
              " 'placeName_country',\n",
              " 'date',\n",
              " 'placeName',\n",
              " 'placeName_region',\n",
              " 'placeName_bloc',\n",
              " 'placeName_district']"
            ]
          },
          "metadata": {},
          "execution_count": 150
        }
      ]
    },
    {
      "cell_type": "code",
      "metadata": {
        "id": "AgzEwgTj57ba",
        "colab": {
          "base_uri": "https://localhost:8080/"
        },
        "outputId": "08507bcc-57b1-405b-b11c-6f632defed13"
      },
      "source": [
        "y_pred = crf.predict(X_test)\n",
        "metrics.flat_f1_score(y_test, y_pred, \n",
        "                      average='weighted', labels=labels)"
      ],
      "execution_count": null,
      "outputs": [
        {
          "output_type": "execute_result",
          "data": {
            "text/plain": [
              "0.7284123028258767"
            ]
          },
          "metadata": {},
          "execution_count": 151
        }
      ]
    },
    {
      "cell_type": "markdown",
      "metadata": {
        "id": "fEAKRvNa57ba"
      },
      "source": [
        "per-class results"
      ]
    },
    {
      "cell_type": "code",
      "metadata": {
        "id": "JTnTuYPd57ba",
        "colab": {
          "base_uri": "https://localhost:8080/"
        },
        "outputId": "5690f087-1f0b-4cd9-89af-7282ef8dc554"
      },
      "source": [
        "sorted_labels = sorted(\n",
        "    labels, \n",
        "    key=lambda name: (name[1:], name[0])\n",
        ")\n",
        "print(metrics.flat_classification_report(\n",
        "    y_test, y_pred, labels=sorted_labels, digits=3\n",
        "))"
      ],
      "execution_count": null,
      "outputs": [
        {
          "output_type": "stream",
          "name": "stdout",
          "text": [
            "                      precision    recall  f1-score   support\n",
            "\n",
            "                date      0.872     0.879     0.875      7502\n",
            "            geogName      0.641     0.453     0.531      5329\n",
            "            persName      0.883     0.539     0.670      1363\n",
            "    persName_addName      0.411     0.041     0.074       955\n",
            "   persName_forename      0.849     0.733     0.787     11037\n",
            "    persName_surname      0.788     0.862     0.823     10814\n",
            "                time      0.852     0.637     0.729      1397\n",
            "           placeName      0.904     0.373     0.528       303\n",
            "      placeName_bloc      0.207     0.050     0.080       121\n",
            "   placeName_country      0.868     0.785     0.824      6462\n",
            "  placeName_district      0.571     0.073     0.129       330\n",
            "    placeName_region      0.754     0.219     0.339       909\n",
            "placeName_settlement      0.793     0.601     0.684      7312\n",
            "             orgName      0.763     0.632     0.691     16635\n",
            "\n",
            "           micro avg      0.803     0.687     0.740     70469\n",
            "           macro avg      0.725     0.491     0.555     70469\n",
            "        weighted avg      0.793     0.687     0.728     70469\n",
            "\n"
          ]
        }
      ]
    },
    {
      "cell_type": "markdown",
      "metadata": {
        "id": "BhJ4Y42J57ba"
      },
      "source": [
        "## Hyperparameter Optimization\n",
        "\n",
        " regularization parameters using randomized search and 3-fold cross-validation.\n"
      ]
    },
    {
      "cell_type": "code",
      "metadata": {
        "id": "Xq7R3_HR57ba",
        "colab": {
          "base_uri": "https://localhost:8080/"
        },
        "outputId": "eb014743-d2a4-41bc-ecd4-ba2c8b177e6b"
      },
      "source": [
        "%%time\n",
        "# define fixed parameters and parameters to search\n",
        "crf = sklearn_crfsuite.CRF(\n",
        "    algorithm='lbfgs', \n",
        "    max_iterations=100,  #20\n",
        "    all_possible_transitions=True\n",
        ")\n",
        "params_space = {\n",
        "    'c1': scipy.stats.expon(scale=0.5),\n",
        "    'c2': scipy.stats.expon(scale=0.05),\n",
        "}\n",
        "\n",
        "# use the same metric for evaluation\n",
        "f1_scorer = make_scorer(metrics.flat_f1_score, \n",
        "                        average='weighted', labels=labels)\n",
        "\n",
        "# search\n",
        "rs = RandomizedSearchCV(crf, params_space, \n",
        "                        cv=3, \n",
        "                        verbose=1, \n",
        "                        n_jobs=-1, \n",
        "                        n_iter=10,   #zmienione \n",
        "                        scoring=f1_scorer)\n",
        "rs.fit(X_train, y_train)"
      ],
      "execution_count": null,
      "outputs": [
        {
          "output_type": "stream",
          "name": "stdout",
          "text": [
            "Fitting 3 folds for each of 10 candidates, totalling 30 fits\n"
          ]
        },
        {
          "output_type": "stream",
          "name": "stderr",
          "text": [
            "[Parallel(n_jobs=-1)]: Using backend LokyBackend with 2 concurrent workers.\n",
            "[Parallel(n_jobs=-1)]: Done  30 out of  30 | elapsed: 19.3min finished\n"
          ]
        },
        {
          "output_type": "stream",
          "name": "stdout",
          "text": [
            "CPU times: user 1min 52s, sys: 4.03 s, total: 1min 56s\n",
            "Wall time: 20min 27s\n"
          ]
        },
        {
          "output_type": "execute_result",
          "data": {
            "text/plain": [
              "RandomizedSearchCV(cv=3, error_score=nan,\n",
              "                   estimator=CRF(algorithm='lbfgs', all_possible_states=None,\n",
              "                                 all_possible_transitions=True, averaging=None,\n",
              "                                 c=None, c1=None, c2=None,\n",
              "                                 calibration_candidates=None,\n",
              "                                 calibration_eta=None,\n",
              "                                 calibration_max_trials=None,\n",
              "                                 calibration_rate=None,\n",
              "                                 calibration_samples=None, delta=None,\n",
              "                                 epsilon=None, error_sensitive=None, gamma=None,\n",
              "                                 keep_...\n",
              "                   pre_dispatch='2*n_jobs', random_state=None, refit=True,\n",
              "                   return_train_score=False,\n",
              "                   scoring=make_scorer(flat_f1_score, average=weighted, labels=['persName_surname', 'placeName_settlement', 'orgName', 'geogName', 'persName_addName', 'persName_forename', 'persName', 'time', 'placeName_country', 'date', 'placeName', 'placeName_region', 'placeName_bloc', 'placeName_district']),\n",
              "                   verbose=1)"
            ]
          },
          "metadata": {},
          "execution_count": 153
        }
      ]
    },
    {
      "cell_type": "markdown",
      "metadata": {
        "id": "v8oH-5Lj57ba"
      },
      "source": [
        "Best result:"
      ]
    },
    {
      "cell_type": "code",
      "metadata": {
        "id": "HNEoUJI457ba",
        "colab": {
          "base_uri": "https://localhost:8080/"
        },
        "outputId": "80f40da9-0889-4880-e34a-86da74131f82"
      },
      "source": [
        "# crf = rs.best_estimator_\n",
        "print('best params:', rs.best_params_)\n",
        "print('best CV score:', rs.best_score_)\n",
        "print('model size: {:0.2f}M'.format(rs.best_estimator_.size_ / 1000000))"
      ],
      "execution_count": null,
      "outputs": [
        {
          "output_type": "stream",
          "name": "stdout",
          "text": [
            "best params: {'c1': 0.09238258429693198, 'c2': 0.0035163810360641676}\n",
            "best CV score: 0.7223338929517067\n",
            "model size: 1.66M\n"
          ]
        }
      ]
    },
    {
      "cell_type": "markdown",
      "metadata": {
        "id": "2XInzwy-57ba"
      },
      "source": [
        "### Check parameter space\n",
        "\n",
        "A chart which shows which ``c1`` and ``c2`` values have RandomizedSearchCV checked. "
      ]
    },
    {
      "cell_type": "code",
      "metadata": {
        "id": "IhZH06UI57ba",
        "colab": {
          "base_uri": "https://localhost:8080/",
          "height": 515
        },
        "outputId": "10d6481d-1cbe-4042-fc39-47734a50ffba"
      },
      "source": [
        "_x = [s['c1'] for s in rs.cv_results_['params']]\n",
        "_y = [s['c2'] for s in rs.cv_results_['params']]\n",
        "_c = [s for s in rs.cv_results_['mean_test_score']]\n",
        "\n",
        "fig = plt.figure()\n",
        "fig.set_size_inches(5, 5)\n",
        "ax = plt.gca()\n",
        "ax.set_yscale('log')\n",
        "ax.set_xscale('log')\n",
        "ax.set_xlabel('C1')\n",
        "ax.set_ylabel('C2')\n",
        "ax.set_title(\"Randomized Hyperparameter Search CV Results (min={:0.3}, max={:0.3})\".format(\n",
        "    min(_c), max(_c)\n",
        "))\n",
        "\n",
        "ax.scatter(_x, _y, c=_c, s=60, alpha=0.9, edgecolors=[0,0,0])\n",
        "\n",
        "print(\"Dark blue => {:0.4}, dark red => {:0.4}\".format(min(_c), max(_c)))"
      ],
      "execution_count": null,
      "outputs": [
        {
          "output_type": "stream",
          "name": "stdout",
          "text": [
            "Dark blue => 0.6932, dark red => 0.7223\n"
          ]
        },
        {
          "output_type": "display_data",
          "data": {
            "text/plain": [
              "<Figure size 500x500 with 1 Axes>"
            ],
            "image/png": "[encoded data removed]"
          },
          "metadata": {}
        }
      ]
    },
    {
      "cell_type": "markdown",
      "metadata": {
        "id": "z_jCTjf557ba"
      },
      "source": [
        "## Check best estimator on test data\n",
        "\n",
        "As you can see, quality is improved."
      ]
    },
    {
      "cell_type": "code",
      "metadata": {
        "id": "_NBIlXV357ba",
        "colab": {
          "base_uri": "https://localhost:8080/"
        },
        "outputId": "722aa8f2-bdde-4c48-da14-93bb41112b78"
      },
      "source": [
        "crf = rs.best_estimator_\n",
        "y_pred = crf.predict(X_test)\n",
        "print(metrics.flat_classification_report(\n",
        "    y_test, y_pred, labels=sorted_labels, digits=3\n",
        "))"
      ],
      "execution_count": null,
      "outputs": [
        {
          "output_type": "stream",
          "name": "stdout",
          "text": [
            "                      precision    recall  f1-score   support\n",
            "\n",
            "                date      0.864     0.886     0.875      7502\n",
            "            geogName      0.636     0.460     0.534      5329\n",
            "            persName      0.846     0.557     0.672      1363\n",
            "    persName_addName      0.375     0.050     0.089       955\n",
            "   persName_forename      0.854     0.738     0.792     11037\n",
            "    persName_surname      0.786     0.863     0.823     10814\n",
            "                time      0.814     0.638     0.715      1397\n",
            "           placeName      0.835     0.485     0.614       303\n",
            "      placeName_bloc      0.154     0.050     0.075       121\n",
            "   placeName_country      0.875     0.813     0.843      6462\n",
            "  placeName_district      0.470     0.094     0.157       330\n",
            "    placeName_region      0.612     0.264     0.369       909\n",
            "placeName_settlement      0.787     0.612     0.688      7312\n",
            "             orgName      0.771     0.624     0.690     16635\n",
            "\n",
            "           micro avg      0.802     0.693     0.743     70469\n",
            "           macro avg      0.691     0.510     0.567     70469\n",
            "        weighted avg      0.790     0.693     0.732     70469\n",
            "\n"
          ]
        }
      ]
    },
    {
      "cell_type": "markdown",
      "metadata": {
        "id": "hJ8y6HhL57ba"
      },
      "source": [
        "## Let's check what classifier learned"
      ]
    },
    {
      "cell_type": "code",
      "metadata": {
        "id": "1fayHIt-57ba",
        "colab": {
          "base_uri": "https://localhost:8080/"
        },
        "outputId": "32d74b41-a5fa-4269-81ae-2814dfc68caf"
      },
      "source": [
        "from collections import Counter\n",
        "\n",
        "def print_transitions(trans_features):\n",
        "    for (label_from, label_to), weight in trans_features:\n",
        "        print(\"%-6s -> %-7s %0.6f\" % (label_from, label_to, weight))\n",
        "\n",
        "print(\"Top likely transitions:\")\n",
        "print_transitions(Counter(crf.transition_features_).most_common(20))\n",
        "\n",
        "print(\"\\nTop unlikely transitions:\")\n",
        "print_transitions(Counter(crf.transition_features_).most_common()[-20:])"
      ],
      "execution_count": null,
      "outputs": [
        {
          "output_type": "stream",
          "name": "stdout",
          "text": [
            "Top likely transitions:\n",
            "placeName_district -> placeName_district 4.784117\n",
            "time   -> time    4.248007\n",
            "O      -> O       4.064936\n",
            "orgName -> orgName 3.947171\n",
            "persName -> persName 3.887781\n",
            "placeName_region -> placeName_region 3.795615\n",
            "geogName -> geogName 3.510311\n",
            "persName_addName -> persName_addName 3.412073\n",
            "persName_surname -> persName_surname 3.337369\n",
            "date   -> date    3.062421\n",
            "persName_forename -> persName_surname 2.115746\n",
            "placeName_settlement -> placeName_settlement 2.053420\n",
            "placeName_bloc -> placeName_bloc 1.933556\n",
            "persName_forename -> persName_forename 1.859958\n",
            "placeName_region -> placeName_settlement 1.797108\n",
            "placeName_country -> placeName_country 1.524579\n",
            "placeName -> O       1.169837\n",
            "geogName -> placeName_district 1.168042\n",
            "O      -> placeName_country 1.158687\n",
            "O      -> persName_forename 1.027148\n",
            "\n",
            "Top unlikely transitions:\n",
            "date   -> geogName -2.632887\n",
            "persName_forename -> placeName_settlement -2.672190\n",
            "placeName_country -> persName_surname -2.673359\n",
            "persName_addName -> persName_surname -2.737994\n",
            "date   -> orgName -2.757612\n",
            "date   -> placeName_country -2.903772\n",
            "persName_forename -> orgName -3.040001\n",
            "persName_surname -> time    -3.064195\n",
            "date   -> time    -3.179114\n",
            "orgName -> persName_surname -3.259019\n",
            "persName_surname -> persName_forename -3.260450\n",
            "orgName -> date    -3.279023\n",
            "persName -> date    -3.376848\n",
            "persName_surname -> placeName_settlement -3.399788\n",
            "date   -> placeName_settlement -3.536911\n",
            "persName_forename -> placeName_country -3.693669\n",
            "time   -> date    -3.872441\n",
            "date   -> persName_surname -3.875909\n",
            "persName_forename -> date    -3.942161\n",
            "persName_surname -> date    -4.276480\n"
          ]
        }
      ]
    },
    {
      "cell_type": "code",
      "metadata": {
        "id": "5mfaCAzl57ba",
        "colab": {
          "base_uri": "https://localhost:8080/"
        },
        "outputId": "338c9c91-bae4-48b4-ede2-5df806399874"
      },
      "source": [
        "def print_state_features(state_features):\n",
        "    for (attr, label), weight in state_features:\n",
        "        print(\"%0.6f %-8s %s\" % (weight, label, attr))    \n",
        "\n",
        "print(\"Top positive:\")\n",
        "print_state_features(Counter(crf.state_features_).most_common(30))\n",
        "\n",
        "print(\"\\nTop negative:\")\n",
        "print_state_features(Counter(crf.state_features_).most_common()[-30:])"
      ],
      "execution_count": null,
      "outputs": [
        {
          "output_type": "stream",
          "name": "stdout",
          "text": [
            "Top positive:\n",
            "12.198381 orgName  +1:word.lower():o.o\n",
            "12.004595 persName_surname +1:word.lower():tse\n",
            "11.420996 persName_surname +1:word.lower():ensemble\n",
            "11.174601 placeName_settlement word.lower():paryskiego\n",
            "11.108118 placeName word[:3]:żyd\n",
            "11.104537 placeName_country word[:3]:Szw\n",
            "10.640590 placeName_country word[:3]:ame\n",
            "10.600354 placeName_country word[:3]:Egi\n",
            "10.285740 placeName_settlement word.lower():szczeciniaków\n",
            "10.061613 placeName_country word.lower():polskiego\n",
            "9.918634 orgName  word[:-3]:SiR\n",
            "9.794317 placeName_settlement word[:-3]:LIN\n",
            "9.616724 placeName_country word[:3]:Ukr\n",
            "9.607724 persName_forename word.lower():piast\n",
            "9.507248 placeName_settlement word[:3]:Rig\n",
            "9.403751 placeName_country word[:3]:Izr\n",
            "9.383038 orgName  word.lower():chorwacja\n",
            "9.126263 placeName_country word.lower():polskim\n",
            "9.081010 placeName_country word[:3]:Ira\n",
            "9.069911 O        +1:word.lower():lube\n",
            "9.037936 geogName word.lower():małopolskiego\n",
            "9.036471 placeName_settlement word[:3]:tuc\n",
            "8.974657 orgName  word.lower():store.britannica.com\n",
            "8.912680 persName_forename word.lower():krystyna\n",
            "8.864498 persName_surname +1:word.lower():jan\n",
            "8.849518 placeName word[:3]:Żyd\n",
            "8.847157 geogName word.lower():kaszubskiego\n",
            "8.842483 geogName word.lower():kresowe\n",
            "8.835697 orgName  word.lower():jezuita\n",
            "8.759566 orgName  word[:3]:PZP\n",
            "\n",
            "Top negative:\n",
            "-4.105422 O        word[:-3]:nin\n",
            "-4.119089 O        word[:3]:eur\n",
            "-4.128902 orgName  +1:word.lower():związku\n",
            "-4.151533 O        word[:-3]:ska\n",
            "-4.208773 O        +1:word.lower():pisał\n",
            "-4.235128 persName_surname word[:3]:Chr\n",
            "-4.287521 O        +1:word.lower():wieś\n",
            "-4.302641 persName_forename +1:word.lower():józefa\n",
            "-4.317004 O        -1:word[:3]:Ogó\n",
            "-4.331944 persName_surname word[:3]:Nik\n",
            "-4.448567 O        +1:word.lower():wola\n",
            "-4.481564 O        word[:3]:Ang\n",
            "-4.512414 O        word[:3]:Fra\n",
            "-4.576614 O        word[:-3]:kie\n",
            "-4.742512 O        -1:word.lower():st\n",
            "-4.787208 time     word.istitle()\n",
            "-4.826753 O        word[:-3]:ską\n",
            "-4.956234 O        word[:-3]:ski\n",
            "-5.027474 O        word[:3]:POM\n",
            "-5.125524 O        word[:-3]:cką\n",
            "-5.263666 O        +1:word.lower():złodzieje\n",
            "-5.301751 O        -1:word.lower():gmachu\n",
            "-5.444316 O        +1:word.lower():szerszą\n",
            "-5.622007 O        word[:-3]:e'a\n",
            "-5.774853 O        word.istitle()\n",
            "-6.503453 O        word[:-3]:cki\n",
            "-6.519960 O        word[:-3]:ccy\n",
            "-7.443924 O        word[:-3]:and\n",
            "-8.559244 O        word[:-3]:scy\n",
            "-8.612680 persName_surname +1:word.istitle()\n"
          ]
        }
      ]
    },
    {
      "cell_type": "code",
      "metadata": {
        "id": "gh-J9R_mJOvY"
      },
      "source": [],
      "execution_count": null,
      "outputs": []
    },
    {
      "cell_type": "code",
      "metadata": {
        "id": "rBw0VK7657ba",
        "colab": {
          "base_uri": "https://localhost:8080/"
        },
        "outputId": "0827f7aa-d993-4809-8a88-56659c0770ef"
      },
      "source": [
        "#krosswalidacja\n",
        "from sklearn.model_selection import KFold\n",
        "import numpy\n",
        "\n",
        "A = numpy.array([[1, 2], [3, 4], [1, 2], [3, 4], [5,6],[7,8]])\n",
        "b = numpy.array([1, 2, 3, 4,5,6])\n",
        "kf = KFold(n_splits=3)\n",
        "kf.get_n_splits(A)\n",
        "print(kf)\n",
        "#KFold(n_splits=2, random_state=None, shuffle=False)\n",
        "for train_index, test_index in kf.split(A):\n",
        "     print(\"TRAIN:\", train_index, \"TEST:\", test_index)\n",
        "     b_train, b_test = b[train_index], b[test_index]"
      ],
      "execution_count": null,
      "outputs": [
        {
          "output_type": "stream",
          "name": "stdout",
          "text": [
            "KFold(n_splits=3, random_state=None, shuffle=False)\n",
            "TRAIN: [2 3 4 5] TEST: [0 1]\n",
            "TRAIN: [0 1 4 5] TEST: [2 3]\n",
            "TRAIN: [0 1 2 3] TEST: [4 5]\n"
          ]
        }
      ]
    },
    {
      "cell_type": "code",
      "metadata": {
        "id": "WAZuppqURoWO",
        "colab": {
          "base_uri": "https://localhost:8080/"
        },
        "outputId": "4f8787c6-862c-4f41-dd0f-ff0773bc015b"
      },
      "source": [
        "kf = KFold(n_splits=3)\n",
        "kf.get_n_splits(X_train)\n",
        "y_pred_all=[]\n",
        "for train_index, test_index in kf.split(X_train):\n",
        "    X_tr, X_tst = numpy.array(X_train)[train_index], numpy.array(X_train)[test_index]\n",
        "    y_tr, y_tst = numpy.array(y_train)[train_index], numpy.array(y_train)[test_index]\n",
        "    #print(train_index[1])\n",
        "    #print(X_train[test_index[0]])\n",
        "    crf.fit(X_tr, y_tr)\n",
        "    y_pred = crf.predict(X_tst)\n",
        "    #print(\"fold\")\n",
        "    #print(metrics.flat_classification_report(y_tst, y_pred, labels=sorted_labels, digits=3))\n",
        "    y_pred_all.extend(y_pred)\n",
        "print(\"all results\")\n",
        "print(metrics.flat_classification_report(y_train, y_pred_all, labels=sorted_labels, digits=3))\n",
        "  \n",
        "  "
      ],
      "execution_count": null,
      "outputs": [
        {
          "output_type": "stream",
          "name": "stderr",
          "text": [
            "<ipython-input-160-bcc02f5632d2>:5: VisibleDeprecationWarning: Creating an ndarray from ragged nested sequences (which is a list-or-tuple of lists-or-tuples-or ndarrays with different lengths or shapes) is deprecated. If you meant to do this, you must specify 'dtype=object' when creating the ndarray.\n",
            "  X_tr, X_tst = numpy.array(X_train)[train_index], numpy.array(X_train)[test_index]\n",
            "<ipython-input-160-bcc02f5632d2>:6: VisibleDeprecationWarning: Creating an ndarray from ragged nested sequences (which is a list-or-tuple of lists-or-tuples-or ndarrays with different lengths or shapes) is deprecated. If you meant to do this, you must specify 'dtype=object' when creating the ndarray.\n",
            "  y_tr, y_tst = numpy.array(y_train)[train_index], numpy.array(y_train)[test_index]\n"
          ]
        },
        {
          "output_type": "stream",
          "name": "stdout",
          "text": [
            "all results\n",
            "                      precision    recall  f1-score   support\n",
            "\n",
            "                date      0.949     0.884     0.915      2106\n",
            "            geogName      0.645     0.436     0.521      1382\n",
            "            persName      0.779     0.574     0.661       411\n",
            "    persName_addName      0.551     0.151     0.237       179\n",
            "   persName_forename      0.835     0.752     0.791      2757\n",
            "    persName_surname      0.805     0.842     0.823      2933\n",
            "                time      0.839     0.584     0.689       214\n",
            "           placeName      0.825     0.429     0.564        77\n",
            "      placeName_bloc      0.333     0.036     0.065        28\n",
            "   placeName_country      0.866     0.783     0.822      1851\n",
            "  placeName_district      0.167     0.015     0.028        65\n",
            "    placeName_region      0.375     0.047     0.083       128\n",
            "placeName_settlement      0.775     0.622     0.690      1562\n",
            "             orgName      0.665     0.548     0.601      3933\n",
            "\n",
            "           micro avg      0.791     0.682     0.732     17626\n",
            "           macro avg      0.672     0.479     0.535     17626\n",
            "        weighted avg      0.778     0.682     0.722     17626\n",
            "\n"
          ]
        }
      ]
    },
    {
      "cell_type": "markdown",
      "source": [
        "## Results"
      ],
      "metadata": {
        "id": "Jt18jsBj1xC4"
      }
    },
    {
      "cell_type": "markdown",
      "metadata": {
        "id": "ycRGRSiuu6Es"
      },
      "source": [
        "Budowa końcowego modelu na całych danych treningowych i testowanie na danych testowych"
      ]
    },
    {
      "cell_type": "code",
      "metadata": {
        "id": "9yB6zP7EdXxL",
        "colab": {
          "base_uri": "https://localhost:8080/"
        },
        "outputId": "23a69e88-d4f0-4f21-9864-ef5dbeb9505e"
      },
      "source": [
        "crf.fit(X_train, y_train)\n",
        "y_pred = crf.predict(X_test)\n",
        "print(\"wynik na danych testowych\")\n",
        "print(metrics.flat_classification_report(y_test, y_pred, labels=sorted_labels, digits=3))"
      ],
      "execution_count": null,
      "outputs": [
        {
          "output_type": "stream",
          "name": "stdout",
          "text": [
            "wynik na danych testowych\n",
            "                      precision    recall  f1-score   support\n",
            "\n",
            "                date      0.864     0.886     0.875      7502\n",
            "            geogName      0.636     0.460     0.534      5329\n",
            "            persName      0.846     0.557     0.672      1363\n",
            "    persName_addName      0.375     0.050     0.089       955\n",
            "   persName_forename      0.854     0.738     0.792     11037\n",
            "    persName_surname      0.786     0.863     0.823     10814\n",
            "                time      0.814     0.638     0.715      1397\n",
            "           placeName      0.835     0.485     0.614       303\n",
            "      placeName_bloc      0.154     0.050     0.075       121\n",
            "   placeName_country      0.875     0.813     0.843      6462\n",
            "  placeName_district      0.470     0.094     0.157       330\n",
            "    placeName_region      0.612     0.264     0.369       909\n",
            "placeName_settlement      0.787     0.612     0.688      7312\n",
            "             orgName      0.771     0.624     0.690     16635\n",
            "\n",
            "           micro avg      0.802     0.693     0.743     70469\n",
            "           macro avg      0.691     0.510     0.567     70469\n",
            "        weighted avg      0.790     0.693     0.732     70469\n",
            "\n"
          ]
        }
      ]
    }
  ]
}